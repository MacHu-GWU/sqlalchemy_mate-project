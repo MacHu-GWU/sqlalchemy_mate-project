{
 "cells": [
  {
   "cell_type": "raw",
   "id": "f7e5eedb-a37b-4184-8019-65a076a832f5",
   "metadata": {
    "editable": true,
    "raw_mimetype": "text/restructuredtext",
    "slideshow": {
     "slide_type": ""
    },
    "tags": []
   },
   "source": [
    ".. _large-binary-column-aws-s3-backend:\n",
    "\n",
    "Large Binary Column AWS S3 Backend\n",
    "================================================================================"
   ]
  },
  {
   "cell_type": "markdown",
   "id": "565e4361d87af00f",
   "metadata": {
    "collapsed": false,
    "jupyter": {
     "outputs_hidden": false
    }
   },
   "source": [
    "Storing large binary data directly in a relational database can lead to performance and scalability issues. As the size of the binary data grows, it consumes valuable database disk space and increases the I/O overhead, potentially impacting query performance and overall database efficiency. To address this challenge, the recommended best practice is to employ a pattern that leverages external storage backends for storing large binary data while maintaining a reference to the data's location within the database.\n",
    "By storing only a unique resource identifier (URI) as a column in the relational database, the actual binary data is offloaded to a dedicated storage layer. This approach allows for better utilization of database resources, as the database focuses on storing structured data and efficient querying. The external storage backend, such as a file system or cloud storage like Amazon S3, is optimized for handling large binary objects, providing scalability and cost-effectiveness.\n"
   ]
  },
  {
   "cell_type": "markdown",
   "id": "d147e1e66cc5fc72",
   "metadata": {
    "collapsed": false,
    "jupyter": {
     "outputs_hidden": false
    }
   },
   "source": [
    "## Example\n",
    "\n",
    "In this comprehensive example, we aim to demonstrate the complete lifecycle management of large binary data using the pattern that leverages an external storage system like **Amazon S3** in conjunction with a relational database. The example covers various scenarios to showcase the proper handling of data consistency and integrity.\n",
    "\n",
    "1. In the first scenario, we attempt to **create a new row** in the database with a column containing a reference to the large binary data stored in S3. However, if the SQL ``INSERT`` operation fails unexpectedly, it is crucial to maintain data consistency by removing the orphaned S3 object (optionally, your choice). This ensures that there are no dangling references or unused data in the external storage.\n",
    "2. The second scenario illustrates a successful **creation of a row** with a large binary data column. Here, we can observe how the binary data is efficiently stored in S3 and the corresponding reference is inserted into the database column.\n",
    "3. In the third scenario, we try to **update the value of a large binary column in an existing row**. If the SQL ``UPDATE`` operation fails, it is essential to maintain the integrity of the data. We can see that the old S3 object remains unchanged, and the new S3 object, if created, is removed (optionally, your choice) to keep the system in a consistent state.\n",
    "4. The fourth scenario demonstrates a successful **update of a large binary column value**. In this case, we can observe how the old S3 object is deleted (optionally, your choice) to free up storage space, and the new S3 object is created to reflect the updated binary data. This ensures that the database and S3 remain in sync.\n",
    "5. Finally, the fifth scenario showcases the **deletion of a row** containing a large binary column. When a row is deleted from the database, it is important to clean up (optionally, your choice) the associated S3 object as well. By removing the corresponding S3 object, we maintain data consistency and prevent any orphaned binary data from lingering in the external storage."
   ]
  },
  {
   "cell_type": "code",
   "execution_count": 2,
   "id": "6cf77294c8e5cef6",
   "metadata": {
    "ExecuteTime": {
     "end_time": "2024-05-27T03:59:11.815530Z",
     "start_time": "2024-05-27T03:59:11.811233Z"
    },
    "collapsed": false,
    "jupyter": {
     "outputs_hidden": false
    }
   },
   "outputs": [],
   "source": [
    "from datetime import datetime\n",
    "\n",
    "from s3pathlib import S3Path, context\n",
    "from boto_session_manager import BotoSesManager\n",
    "\n",
    "import sqlalchemy as sa\n",
    "import sqlalchemy.orm as orm\n",
    "import sqlalchemy_mate.api as sam\n",
    "\n",
    "from rich import print as rprint\n",
    "from rich import box\n",
    "from rich.console import Console\n",
    "from rich.panel import Panel"
   ]
  },
  {
   "cell_type": "code",
   "execution_count": 3,
   "id": "49d8868e132f812",
   "metadata": {
    "ExecuteTime": {
     "end_time": "2024-05-27T03:59:11.986118Z",
     "start_time": "2024-05-27T03:59:11.978669Z"
    },
    "collapsed": false,
    "jupyter": {
     "outputs_hidden": false
    }
   },
   "outputs": [],
   "source": [
    "aws_s3 = sam.patterns.large_binary_column.aws_s3\n",
    "console = Console()\n",
    "\n",
    "\n",
    "def get_utc_now() -> datetime:\n",
    "    return datetime.utcnow()"
   ]
  },
  {
   "cell_type": "code",
   "execution_count": 4,
   "id": "74c494d3cb9461df",
   "metadata": {
    "ExecuteTime": {
     "end_time": "2024-05-27T03:59:12.104814Z",
     "start_time": "2024-05-27T03:59:12.097902Z"
    },
    "collapsed": false,
    "jupyter": {
     "outputs_hidden": false
    }
   },
   "outputs": [],
   "source": [
    "Base = orm.declarative_base()\n",
    "\n",
    "\n",
    "class Task(Base):\n",
    "    __tablename__ = \"tasks\"\n",
    "\n",
    "    url = orm.mapped_column(sa.String, primary_key=True)\n",
    "    update_at = orm.mapped_column(sa.DateTime)\n",
    "    html = orm.mapped_column(sa.String, nullable=True)\n",
    "    image = orm.mapped_column(sa.String, nullable=True)"
   ]
  },
  {
   "cell_type": "code",
   "execution_count": 5,
   "id": "50ad3f2c0d06eba",
   "metadata": {
    "ExecuteTime": {
     "end_time": "2024-05-27T03:59:12.251597Z",
     "start_time": "2024-05-27T03:59:12.245455Z"
    },
    "collapsed": false,
    "jupyter": {
     "outputs_hidden": false
    }
   },
   "outputs": [],
   "source": [
    "engine = sa.create_engine(\"sqlite:///:memory:\")\n",
    "Base.metadata.create_all(engine)"
   ]
  },
  {
   "cell_type": "code",
   "execution_count": 6,
   "id": "8bb68ffe3c194396",
   "metadata": {
    "ExecuteTime": {
     "end_time": "2024-05-27T03:59:12.604228Z",
     "start_time": "2024-05-27T03:59:12.417362Z"
    },
    "collapsed": false,
    "jupyter": {
     "outputs_hidden": false
    }
   },
   "outputs": [],
   "source": [
    "bsm = BotoSesManager()\n",
    "context.attach_boto_session(bsm.boto_ses)\n",
    "bucket = f\"{bsm.aws_account_alias}-{bsm.aws_region}-data\"\n",
    "s3dir_root = S3Path(\n",
    "    f\"s3://{bucket}/projects/sqlalchemy_mate/patterns/s3backed_column/data/\"\n",
    ").to_dir()"
   ]
  },
  {
   "cell_type": "code",
   "execution_count": 7,
   "id": "e2bd8aadc4608fe5",
   "metadata": {
    "ExecuteTime": {
     "end_time": "2024-05-27T03:59:12.793218Z",
     "start_time": "2024-05-27T03:59:12.605161Z"
    },
    "collapsed": false,
    "jupyter": {
     "outputs_hidden": false
    }
   },
   "outputs": [
    {
     "data": {
      "text/plain": [
       "S3Path('s3://bmt-app-dev-us-east-1-data/projects/sqlalchemy_mate/patterns/s3backed_column/data/')"
      ]
     },
     "execution_count": 7,
     "metadata": {},
     "output_type": "execute_result"
    }
   ],
   "source": [
    "# clean up everything in database and s3 to ensure a fresh start\n",
    "with engine.connect() as conn:\n",
    "    conn.execute(Task.__table__.delete())\n",
    "    conn.commit()\n",
    "s3dir_root.delete()"
   ]
  },
  {
   "cell_type": "markdown",
   "id": "d1db1addbd837b0d",
   "metadata": {
    "collapsed": false,
    "jupyter": {
     "outputs_hidden": false
    }
   },
   "source": [
    "## Create a Row but SQL INSERT failed"
   ]
  },
  {
   "cell_type": "code",
   "execution_count": 8,
   "id": "1340de490c306421",
   "metadata": {
    "ExecuteTime": {
     "end_time": "2024-05-27T03:59:12.861527Z",
     "start_time": "2024-05-27T03:59:12.855009Z"
    },
    "collapsed": false,
    "jupyter": {
     "outputs_hidden": false
    }
   },
   "outputs": [
    {
     "data": {
      "text/html": [
       "<pre style=\"white-space:pre;overflow-x:auto;line-height:normal;font-family:Menlo,'DejaVu Sans Mono',consolas,'Courier New',monospace\"><span style=\"color: #008000; text-decoration-color: #008000; font-weight: bold\">╔═════════════════════════════════════════════════════════════════════════════════════════════════════════════════╗</span>\n",
       "<span style=\"color: #008000; text-decoration-color: #008000; font-weight: bold\">║</span> Create a Row but SQL INSERT failed                                                                              <span style=\"color: #008000; text-decoration-color: #008000; font-weight: bold\">║</span>\n",
       "<span style=\"color: #008000; text-decoration-color: #008000; font-weight: bold\">╚═════════════════════════════════════════════════════════════════════════════════════════════════════════════════╝</span>\n",
       "</pre>\n"
      ],
      "text/plain": [
       "\u001b[1;32m╔═════════════════════════════════════════════════════════════════════════════════════════════════════════════════╗\u001b[0m\n",
       "\u001b[1;32m║\u001b[0m Create a Row but SQL INSERT failed                                                                              \u001b[1;32m║\u001b[0m\n",
       "\u001b[1;32m╚═════════════════════════════════════════════════════════════════════════════════════════════════════════════════╝\u001b[0m\n"
      ]
     },
     "metadata": {},
     "output_type": "display_data"
    }
   ],
   "source": [
    "rprint(\n",
    "    Panel(\n",
    "        \"Create a Row but SQL INSERT failed\", box=box.DOUBLE, border_style=\"bold green\"\n",
    "    )\n",
    ")\n",
    "\n",
    "url = \"https://www.example.com\"\n",
    "html_content_1 = b\"<html>this is html 1</html>\"\n",
    "image_content_1 = b\"this is image 1\"\n",
    "html_additional_kwargs = dict(ContentType=\"text/html\")\n",
    "image_additional_kwargs = dict(ContentType=\"image/jpeg\")\n",
    "utc_now = get_utc_now()"
   ]
  },
  {
   "cell_type": "code",
   "execution_count": 9,
   "id": "6a759875fe426e7d",
   "metadata": {
    "ExecuteTime": {
     "end_time": "2024-05-27T03:59:13.190204Z",
     "start_time": "2024-05-27T03:59:12.987739Z"
    },
    "collapsed": false,
    "jupyter": {
     "outputs_hidden": false
    }
   },
   "outputs": [
    {
     "data": {
      "text/html": [
       "<pre style=\"white-space:pre;overflow-x:auto;line-height:normal;font-family:Menlo,'DejaVu Sans Mono',consolas,'Courier New',monospace\">╭─────────────────────────────────────────────────────────────────────────────────────────────────────────────────╮\n",
       "│ Write S3 first, then write DB                                                                                   │\n",
       "╰─────────────────────────────────────────────────────────────────────────────────────────────────────────────────╯\n",
       "</pre>\n"
      ],
      "text/plain": [
       "╭─────────────────────────────────────────────────────────────────────────────────────────────────────────────────╮\n",
       "│ Write S3 first, then write DB                                                                                   │\n",
       "╰─────────────────────────────────────────────────────────────────────────────────────────────────────────────────╯\n"
      ]
     },
     "metadata": {},
     "output_type": "display_data"
    },
    {
     "data": {
      "text/html": [
       "<pre style=\"white-space:pre;overflow-x:auto;line-height:normal;font-family:Menlo,'DejaVu Sans Mono',consolas,'Courier New',monospace\"><span style=\"color: #800080; text-decoration-color: #800080; font-weight: bold\">PutS3Result</span><span style=\"font-weight: bold\">(</span>\n",
       "    <span style=\"color: #808000; text-decoration-color: #808000\">s3_client</span>=<span style=\"font-weight: bold\">&lt;</span><span style=\"color: #ff00ff; text-decoration-color: #ff00ff; font-weight: bold\">botocore.client.S3</span><span style=\"color: #000000; text-decoration-color: #000000\"> object at </span><span style=\"color: #008080; text-decoration-color: #008080; font-weight: bold\">0x108bfb340</span><span style=\"color: #000000; text-decoration-color: #000000\">&gt;,</span>\n",
       "<span style=\"color: #000000; text-decoration-color: #000000\">    </span><span style=\"color: #808000; text-decoration-color: #808000\">put_s3backed_column_results</span><span style=\"color: #000000; text-decoration-color: #000000\">=</span><span style=\"color: #000000; text-decoration-color: #000000; font-weight: bold\">[</span>\n",
       "<span style=\"color: #000000; text-decoration-color: #000000\">        </span><span style=\"color: #800080; text-decoration-color: #800080; font-weight: bold\">PutS3BackedColumnResult</span><span style=\"color: #000000; text-decoration-color: #000000; font-weight: bold\">(</span>\n",
       "<span style=\"color: #000000; text-decoration-color: #000000\">            </span><span style=\"color: #808000; text-decoration-color: #808000\">column</span><span style=\"color: #000000; text-decoration-color: #000000\">=</span><span style=\"color: #008000; text-decoration-color: #008000\">'html'</span><span style=\"color: #000000; text-decoration-color: #000000\">,</span>\n",
       "<span style=\"color: #000000; text-decoration-color: #000000\">            </span><span style=\"color: #808000; text-decoration-color: #808000\">old_s3_uri</span><span style=\"color: #000000; text-decoration-color: #000000\">=</span><span style=\"color: #800080; text-decoration-color: #800080; font-style: italic\">None</span><span style=\"color: #000000; text-decoration-color: #000000\">,</span>\n",
       "<span style=\"color: #000000; text-decoration-color: #000000\">            </span><span style=\"color: #808000; text-decoration-color: #808000\">new_s3_uri</span><span style=\"color: #000000; text-decoration-color: #000000\">=</span><span style=\"color: #008000; text-decoration-color: #008000\">'s3://bmt-app-dev-us-east-1-data/projects/sqlalchemy_mate/patterns/s3backed_column/data/aHR0</span>\n",
       "<span style=\"color: #008000; text-decoration-color: #008000\">cHM6Ly93d3cuZXhhbXBsZS5jb20=/col=html/md5=3fcad0c630c89f84a266b0d828a97c33'</span><span style=\"color: #000000; text-decoration-color: #000000\">,</span>\n",
       "<span style=\"color: #000000; text-decoration-color: #000000\">            </span><span style=\"color: #808000; text-decoration-color: #808000\">executed</span><span style=\"color: #000000; text-decoration-color: #000000\">=</span><span style=\"color: #00ff00; text-decoration-color: #00ff00; font-style: italic\">True</span><span style=\"color: #000000; text-decoration-color: #000000\">,</span>\n",
       "<span style=\"color: #000000; text-decoration-color: #000000\">            </span><span style=\"color: #808000; text-decoration-color: #808000\">cleanup_function</span><span style=\"color: #000000; text-decoration-color: #000000\">=&lt;bound method ClientCreator._create_api_method.&lt;locals&gt;._api_call of </span>\n",
       "<span style=\"color: #000000; text-decoration-color: #000000\">&lt;botocore.client.S3 object at </span><span style=\"color: #008080; text-decoration-color: #008080; font-weight: bold\">0x108bfb340</span><span style=\"color: #000000; text-decoration-color: #000000\">&gt;&gt;,</span>\n",
       "<span style=\"color: #000000; text-decoration-color: #000000\">            </span><span style=\"color: #808000; text-decoration-color: #808000\">cleanup_old_kwargs</span><span style=\"color: #000000; text-decoration-color: #000000\">=</span><span style=\"color: #800080; text-decoration-color: #800080; font-style: italic\">None</span><span style=\"color: #000000; text-decoration-color: #000000\">,</span>\n",
       "<span style=\"color: #000000; text-decoration-color: #000000\">            </span><span style=\"color: #808000; text-decoration-color: #808000\">cleanup_new_kwargs</span><span style=\"color: #000000; text-decoration-color: #000000\">=</span><span style=\"color: #000000; text-decoration-color: #000000; font-weight: bold\">{</span>\n",
       "<span style=\"color: #000000; text-decoration-color: #000000\">                </span><span style=\"color: #008000; text-decoration-color: #008000\">'Bucket'</span><span style=\"color: #000000; text-decoration-color: #000000\">: </span><span style=\"color: #008000; text-decoration-color: #008000\">'bmt-app-dev-us-east-1-data'</span><span style=\"color: #000000; text-decoration-color: #000000\">,</span>\n",
       "<span style=\"color: #000000; text-decoration-color: #000000\">                </span><span style=\"color: #008000; text-decoration-color: #008000\">'Key'</span><span style=\"color: #000000; text-decoration-color: #000000\">: </span>\n",
       "<span style=\"color: #008000; text-decoration-color: #008000\">'projects/sqlalchemy_mate/patterns/s3backed_column/data/aHR0cHM6Ly93d3cuZXhhbXBsZS5jb20=/col=html/md5=3fcad0c630c89</span>\n",
       "<span style=\"color: #008000; text-decoration-color: #008000\">f84a266b0d828a97c33'</span>\n",
       "<span style=\"color: #000000; text-decoration-color: #000000\">            </span><span style=\"color: #000000; text-decoration-color: #000000; font-weight: bold\">}</span>\n",
       "<span style=\"color: #000000; text-decoration-color: #000000\">        </span><span style=\"color: #000000; text-decoration-color: #000000; font-weight: bold\">)</span><span style=\"color: #000000; text-decoration-color: #000000\">,</span>\n",
       "<span style=\"color: #000000; text-decoration-color: #000000\">        </span><span style=\"color: #800080; text-decoration-color: #800080; font-weight: bold\">PutS3BackedColumnResult</span><span style=\"color: #000000; text-decoration-color: #000000; font-weight: bold\">(</span>\n",
       "<span style=\"color: #000000; text-decoration-color: #000000\">            </span><span style=\"color: #808000; text-decoration-color: #808000\">column</span><span style=\"color: #000000; text-decoration-color: #000000\">=</span><span style=\"color: #008000; text-decoration-color: #008000\">'image'</span><span style=\"color: #000000; text-decoration-color: #000000\">,</span>\n",
       "<span style=\"color: #000000; text-decoration-color: #000000\">            </span><span style=\"color: #808000; text-decoration-color: #808000\">old_s3_uri</span><span style=\"color: #000000; text-decoration-color: #000000\">=</span><span style=\"color: #800080; text-decoration-color: #800080; font-style: italic\">None</span><span style=\"color: #000000; text-decoration-color: #000000\">,</span>\n",
       "<span style=\"color: #000000; text-decoration-color: #000000\">            </span><span style=\"color: #808000; text-decoration-color: #808000\">new_s3_uri</span><span style=\"color: #000000; text-decoration-color: #000000\">=</span><span style=\"color: #008000; text-decoration-color: #008000\">'s3://bmt-app-dev-us-east-1-data/projects/sqlalchemy_mate/patterns/s3backed_column/data/aHR0</span>\n",
       "<span style=\"color: #008000; text-decoration-color: #008000\">cHM6Ly93d3cuZXhhbXBsZS5jb20=/col=image/md5=9a48fd95141e47117d14e1524a83ae0e'</span><span style=\"color: #000000; text-decoration-color: #000000\">,</span>\n",
       "<span style=\"color: #000000; text-decoration-color: #000000\">            </span><span style=\"color: #808000; text-decoration-color: #808000\">executed</span><span style=\"color: #000000; text-decoration-color: #000000\">=</span><span style=\"color: #00ff00; text-decoration-color: #00ff00; font-style: italic\">True</span><span style=\"color: #000000; text-decoration-color: #000000\">,</span>\n",
       "<span style=\"color: #000000; text-decoration-color: #000000\">            </span><span style=\"color: #808000; text-decoration-color: #808000\">cleanup_function</span><span style=\"color: #000000; text-decoration-color: #000000\">=&lt;bound method ClientCreator._create_api_method.&lt;locals&gt;._api_call of </span>\n",
       "<span style=\"color: #000000; text-decoration-color: #000000\">&lt;botocore.client.S3 object at </span><span style=\"color: #008080; text-decoration-color: #008080; font-weight: bold\">0x108bfb340</span><span style=\"color: #000000; text-decoration-color: #000000\">&gt;</span><span style=\"font-weight: bold\">&gt;</span>,\n",
       "            <span style=\"color: #808000; text-decoration-color: #808000\">cleanup_old_kwargs</span>=<span style=\"color: #800080; text-decoration-color: #800080; font-style: italic\">None</span>,\n",
       "            <span style=\"color: #808000; text-decoration-color: #808000\">cleanup_new_kwargs</span>=<span style=\"font-weight: bold\">{</span>\n",
       "                <span style=\"color: #008000; text-decoration-color: #008000\">'Bucket'</span>: <span style=\"color: #008000; text-decoration-color: #008000\">'bmt-app-dev-us-east-1-data'</span>,\n",
       "                <span style=\"color: #008000; text-decoration-color: #008000\">'Key'</span>: \n",
       "<span style=\"color: #008000; text-decoration-color: #008000\">'projects/sqlalchemy_mate/patterns/s3backed_column/data/aHR0cHM6Ly93d3cuZXhhbXBsZS5jb20=/col=image/md5=9a48fd95141e</span>\n",
       "<span style=\"color: #008000; text-decoration-color: #008000\">47117d14e1524a83ae0e'</span>\n",
       "            <span style=\"font-weight: bold\">}</span>\n",
       "        <span style=\"font-weight: bold\">)</span>\n",
       "    <span style=\"font-weight: bold\">]</span>\n",
       "<span style=\"font-weight: bold\">)</span>\n",
       "</pre>\n"
      ],
      "text/plain": [
       "\u001b[1;35mPutS3Result\u001b[0m\u001b[1m(\u001b[0m\n",
       "    \u001b[33ms3_client\u001b[0m=\u001b[1m<\u001b[0m\u001b[1;95mbotocore.client.S3\u001b[0m\u001b[39m object at \u001b[0m\u001b[1;36m0x108bfb340\u001b[0m\u001b[39m>,\u001b[0m\n",
       "\u001b[39m    \u001b[0m\u001b[33mput_s3backed_column_results\u001b[0m\u001b[39m=\u001b[0m\u001b[1;39m[\u001b[0m\n",
       "\u001b[39m        \u001b[0m\u001b[1;35mPutS3BackedColumnResult\u001b[0m\u001b[1;39m(\u001b[0m\n",
       "\u001b[39m            \u001b[0m\u001b[33mcolumn\u001b[0m\u001b[39m=\u001b[0m\u001b[32m'html'\u001b[0m\u001b[39m,\u001b[0m\n",
       "\u001b[39m            \u001b[0m\u001b[33mold_s3_uri\u001b[0m\u001b[39m=\u001b[0m\u001b[3;35mNone\u001b[0m\u001b[39m,\u001b[0m\n",
       "\u001b[39m            \u001b[0m\u001b[33mnew_s3_uri\u001b[0m\u001b[39m=\u001b[0m\u001b[32m's3://bmt-app-dev-us-east-1-data/projects/sqlalchemy_mate/patterns/s3backed_column/data/\u001b[0m\u001b[32maHR0\u001b[0m\n",
       "\u001b[32mcHM6Ly93d3cuZXhhbXBsZS5jb20\u001b[0m\u001b[32m=/\u001b[0m\u001b[32mcol\u001b[0m\u001b[32m=\u001b[0m\u001b[32mhtml\u001b[0m\u001b[32m/\u001b[0m\u001b[32mmd5\u001b[0m\u001b[32m=\u001b[0m\u001b[32m3fcad0c630c89f84a266b0d828a97c33\u001b[0m\u001b[32m'\u001b[0m\u001b[39m,\u001b[0m\n",
       "\u001b[39m            \u001b[0m\u001b[33mexecuted\u001b[0m\u001b[39m=\u001b[0m\u001b[3;92mTrue\u001b[0m\u001b[39m,\u001b[0m\n",
       "\u001b[39m            \u001b[0m\u001b[33mcleanup_function\u001b[0m\u001b[39m=<bound method ClientCreator._create_api_method.<locals>._api_call of \u001b[0m\n",
       "\u001b[39m<botocore.client.S3 object at \u001b[0m\u001b[1;36m0x108bfb340\u001b[0m\u001b[39m>>,\u001b[0m\n",
       "\u001b[39m            \u001b[0m\u001b[33mcleanup_old_kwargs\u001b[0m\u001b[39m=\u001b[0m\u001b[3;35mNone\u001b[0m\u001b[39m,\u001b[0m\n",
       "\u001b[39m            \u001b[0m\u001b[33mcleanup_new_kwargs\u001b[0m\u001b[39m=\u001b[0m\u001b[1;39m{\u001b[0m\n",
       "\u001b[39m                \u001b[0m\u001b[32m'Bucket'\u001b[0m\u001b[39m: \u001b[0m\u001b[32m'bmt-app-dev-us-east-1-data'\u001b[0m\u001b[39m,\u001b[0m\n",
       "\u001b[39m                \u001b[0m\u001b[32m'Key'\u001b[0m\u001b[39m: \u001b[0m\n",
       "\u001b[32m'projects/sqlalchemy_mate/patterns/s3backed_column/data/\u001b[0m\u001b[32maHR0cHM6Ly93d3cuZXhhbXBsZS5jb20\u001b[0m\u001b[32m=/\u001b[0m\u001b[32mcol\u001b[0m\u001b[32m=\u001b[0m\u001b[32mhtml\u001b[0m\u001b[32m/\u001b[0m\u001b[32mmd5\u001b[0m\u001b[32m=\u001b[0m\u001b[32m3fcad0c630c89\u001b[0m\n",
       "\u001b[32mf84a266b0d828a97c33\u001b[0m\u001b[32m'\u001b[0m\n",
       "\u001b[39m            \u001b[0m\u001b[1;39m}\u001b[0m\n",
       "\u001b[39m        \u001b[0m\u001b[1;39m)\u001b[0m\u001b[39m,\u001b[0m\n",
       "\u001b[39m        \u001b[0m\u001b[1;35mPutS3BackedColumnResult\u001b[0m\u001b[1;39m(\u001b[0m\n",
       "\u001b[39m            \u001b[0m\u001b[33mcolumn\u001b[0m\u001b[39m=\u001b[0m\u001b[32m'image'\u001b[0m\u001b[39m,\u001b[0m\n",
       "\u001b[39m            \u001b[0m\u001b[33mold_s3_uri\u001b[0m\u001b[39m=\u001b[0m\u001b[3;35mNone\u001b[0m\u001b[39m,\u001b[0m\n",
       "\u001b[39m            \u001b[0m\u001b[33mnew_s3_uri\u001b[0m\u001b[39m=\u001b[0m\u001b[32m's3://bmt-app-dev-us-east-1-data/projects/sqlalchemy_mate/patterns/s3backed_column/data/\u001b[0m\u001b[32maHR0\u001b[0m\n",
       "\u001b[32mcHM6Ly93d3cuZXhhbXBsZS5jb20\u001b[0m\u001b[32m=/\u001b[0m\u001b[32mcol\u001b[0m\u001b[32m=\u001b[0m\u001b[32mimage\u001b[0m\u001b[32m/\u001b[0m\u001b[32mmd5\u001b[0m\u001b[32m=\u001b[0m\u001b[32m9a48fd95141e47117d14e1524a83ae0e\u001b[0m\u001b[32m'\u001b[0m\u001b[39m,\u001b[0m\n",
       "\u001b[39m            \u001b[0m\u001b[33mexecuted\u001b[0m\u001b[39m=\u001b[0m\u001b[3;92mTrue\u001b[0m\u001b[39m,\u001b[0m\n",
       "\u001b[39m            \u001b[0m\u001b[33mcleanup_function\u001b[0m\u001b[39m=<bound method ClientCreator._create_api_method.<locals>._api_call of \u001b[0m\n",
       "\u001b[39m<botocore.client.S3 object at \u001b[0m\u001b[1;36m0x108bfb340\u001b[0m\u001b[39m>\u001b[0m\u001b[1m>\u001b[0m,\n",
       "            \u001b[33mcleanup_old_kwargs\u001b[0m=\u001b[3;35mNone\u001b[0m,\n",
       "            \u001b[33mcleanup_new_kwargs\u001b[0m=\u001b[1m{\u001b[0m\n",
       "                \u001b[32m'Bucket'\u001b[0m: \u001b[32m'bmt-app-dev-us-east-1-data'\u001b[0m,\n",
       "                \u001b[32m'Key'\u001b[0m: \n",
       "\u001b[32m'projects/sqlalchemy_mate/patterns/s3backed_column/data/\u001b[0m\u001b[32maHR0cHM6Ly93d3cuZXhhbXBsZS5jb20\u001b[0m\u001b[32m=/\u001b[0m\u001b[32mcol\u001b[0m\u001b[32m=\u001b[0m\u001b[32mimage\u001b[0m\u001b[32m/\u001b[0m\u001b[32mmd5\u001b[0m\u001b[32m=\u001b[0m\u001b[32m9a48fd95141e\u001b[0m\n",
       "\u001b[32m47117d14e1524a83ae0e\u001b[0m\u001b[32m'\u001b[0m\n",
       "            \u001b[1m}\u001b[0m\n",
       "        \u001b[1m)\u001b[0m\n",
       "    \u001b[1m]\u001b[0m\n",
       "\u001b[1m)\u001b[0m\n"
      ]
     },
     "metadata": {},
     "output_type": "display_data"
    }
   ],
   "source": [
    "rprint(Panel(\"Write S3 first, then write DB\"))\n",
    "put_s3_result = aws_s3.put_s3(\n",
    "    api_calls=[\n",
    "        aws_s3.PutS3ApiCall(\n",
    "            column=\"html\",\n",
    "            binary=html_content_1,\n",
    "            old_s3_uri=None,\n",
    "            extra_put_object_kwargs=html_additional_kwargs,\n",
    "        ),\n",
    "        aws_s3.PutS3ApiCall(\n",
    "            column=\"image\",\n",
    "            binary=image_content_1,\n",
    "            old_s3_uri=None,\n",
    "            extra_put_object_kwargs=image_additional_kwargs,\n",
    "        ),\n",
    "    ],\n",
    "    s3_client=bsm.s3_client,\n",
    "    pk=url,\n",
    "    bucket=s3dir_root.bucket,\n",
    "    prefix=s3dir_root.key,\n",
    "    update_at=utc_now,\n",
    "    is_pk_url_safe=False,\n",
    ")\n",
    "rprint(put_s3_result)"
   ]
  },
  {
   "cell_type": "code",
   "execution_count": 10,
   "id": "ec9b35fb16ffc66b",
   "metadata": {
    "ExecuteTime": {
     "end_time": "2024-05-27T03:59:13.203243Z",
     "start_time": "2024-05-27T03:59:13.200274Z"
    },
    "collapsed": false,
    "jupyter": {
     "outputs_hidden": false
    }
   },
   "outputs": [
    {
     "data": {
      "text/html": [
       "<pre style=\"white-space:pre;overflow-x:auto;line-height:normal;font-family:Menlo,'DejaVu Sans Mono',consolas,'Courier New',monospace\">SQL INSERT Failed! Error: <span style=\"color: #800080; text-decoration-color: #800080; font-weight: bold\">UserError</span><span style=\"font-weight: bold\">()</span>\n",
       "</pre>\n"
      ],
      "text/plain": [
       "SQL INSERT Failed! Error: \u001b[1;35mUserError\u001b[0m\u001b[1m(\u001b[0m\u001b[1m)\u001b[0m\n"
      ]
     },
     "metadata": {},
     "output_type": "display_data"
    }
   ],
   "source": [
    "class UserError(Exception):\n",
    "    pass\n",
    "\n",
    "\n",
    "with orm.Session(engine) as ses:\n",
    "    try:\n",
    "        with ses.begin():\n",
    "            task1 = Task(\n",
    "                url=url,\n",
    "                update_at=utc_now,\n",
    "                # this is a helper method that convert the put s3 results\n",
    "                # to INSERT / UPDATE values\n",
    "                **put_s3_result.to_values(),\n",
    "            )\n",
    "            # intentionally raises an error to simulate a database failure\n",
    "            raise UserError()\n",
    "            ses.add(task1)\n",
    "        rprint(\"SQL INSERT Succeeded!\")\n",
    "    except Exception as e:\n",
    "        rprint(f\"SQL INSERT Failed! Error: {e!r}\")\n",
    "        # clean up created s3 object when create row failed\n",
    "        # if you don't want to do that, just don't run this method\n",
    "        put_s3_result.clean_up_created_s3_object_when_create_or_update_row_failed()"
   ]
  },
  {
   "cell_type": "code",
   "execution_count": 11,
   "id": "6946bbf35cd87839",
   "metadata": {
    "ExecuteTime": {
     "end_time": "2024-05-27T03:59:13.498782Z",
     "start_time": "2024-05-27T03:59:13.378302Z"
    },
    "collapsed": false,
    "jupyter": {
     "outputs_hidden": false
    }
   },
   "outputs": [
    {
     "data": {
      "text/html": [
       "<pre style=\"white-space:pre;overflow-x:auto;line-height:normal;font-family:Menlo,'DejaVu Sans Mono',consolas,'Courier New',monospace\">╭─────────────────────────────────────────────────────────────────────────────────────────────────────────────────╮\n",
       "│ Database row should not exists                                                                                  │\n",
       "╰─────────────────────────────────────────────────────────────────────────────────────────────────────────────────╯\n",
       "</pre>\n"
      ],
      "text/plain": [
       "╭─────────────────────────────────────────────────────────────────────────────────────────────────────────────────╮\n",
       "│ Database row should not exists                                                                                  │\n",
       "╰─────────────────────────────────────────────────────────────────────────────────────────────────────────────────╯\n"
      ]
     },
     "metadata": {},
     "output_type": "display_data"
    },
    {
     "data": {
      "text/html": [
       "<pre style=\"white-space:pre;overflow-x:auto;line-height:normal;font-family:Menlo,'DejaVu Sans Mono',consolas,'Courier New',monospace\"><span style=\"color: #800080; text-decoration-color: #800080; font-weight: bold\">ses.get</span><span style=\"font-weight: bold\">(</span>Task, url<span style=\"font-weight: bold\">)</span> = <span style=\"color: #800080; text-decoration-color: #800080; font-style: italic\">None</span>\n",
       "</pre>\n"
      ],
      "text/plain": [
       "\u001b[1;35mses.get\u001b[0m\u001b[1m(\u001b[0mTask, url\u001b[1m)\u001b[0m = \u001b[3;35mNone\u001b[0m\n"
      ]
     },
     "metadata": {},
     "output_type": "display_data"
    },
    {
     "data": {
      "text/html": [
       "<pre style=\"white-space:pre;overflow-x:auto;line-height:normal;font-family:Menlo,'DejaVu Sans Mono',consolas,'Courier New',monospace\">╭─────────────────────────────────────────────────────────────────────────────────────────────────────────────────╮\n",
       "│ S3 object should be deleted                                                                                     │\n",
       "╰─────────────────────────────────────────────────────────────────────────────────────────────────────────────────╯\n",
       "</pre>\n"
      ],
      "text/plain": [
       "╭─────────────────────────────────────────────────────────────────────────────────────────────────────────────────╮\n",
       "│ S3 object should be deleted                                                                                     │\n",
       "╰─────────────────────────────────────────────────────────────────────────────────────────────────────────────────╯\n"
      ]
     },
     "metadata": {},
     "output_type": "display_data"
    },
    {
     "data": {
      "text/html": [
       "<pre style=\"white-space:pre;overflow-x:auto;line-height:normal;font-family:Menlo,'DejaVu Sans Mono',consolas,'Courier New',monospace\"><span style=\"color: #800080; text-decoration-color: #800080; font-weight: bold\">S3Path</span><span style=\"font-weight: bold\">(</span>html_s3_uri<span style=\"font-weight: bold\">)</span><span style=\"color: #800080; text-decoration-color: #800080; font-weight: bold\">.exists</span><span style=\"font-weight: bold\">()</span> = <span style=\"color: #ff0000; text-decoration-color: #ff0000; font-style: italic\">False</span>\n",
       "</pre>\n"
      ],
      "text/plain": [
       "\u001b[1;35mS3Path\u001b[0m\u001b[1m(\u001b[0mhtml_s3_uri\u001b[1m)\u001b[0m\u001b[1;35m.exists\u001b[0m\u001b[1m(\u001b[0m\u001b[1m)\u001b[0m = \u001b[3;91mFalse\u001b[0m\n"
      ]
     },
     "metadata": {},
     "output_type": "display_data"
    },
    {
     "data": {
      "text/html": [
       "<pre style=\"white-space:pre;overflow-x:auto;line-height:normal;font-family:Menlo,'DejaVu Sans Mono',consolas,'Courier New',monospace\"><span style=\"color: #800080; text-decoration-color: #800080; font-weight: bold\">S3Path</span><span style=\"font-weight: bold\">(</span>image_s3_uri<span style=\"font-weight: bold\">)</span><span style=\"color: #800080; text-decoration-color: #800080; font-weight: bold\">.exists</span><span style=\"font-weight: bold\">()</span> = <span style=\"color: #ff0000; text-decoration-color: #ff0000; font-style: italic\">False</span>\n",
       "</pre>\n"
      ],
      "text/plain": [
       "\u001b[1;35mS3Path\u001b[0m\u001b[1m(\u001b[0mimage_s3_uri\u001b[1m)\u001b[0m\u001b[1;35m.exists\u001b[0m\u001b[1m(\u001b[0m\u001b[1m)\u001b[0m = \u001b[3;91mFalse\u001b[0m\n"
      ]
     },
     "metadata": {},
     "output_type": "display_data"
    }
   ],
   "source": [
    "rprint(Panel(\"Database row should not exists\"))\n",
    "rprint(f\"{ses.get(Task, url) = }\")\n",
    "assert ses.get(Task, url) is None\n",
    "rprint(Panel(\"S3 object should be deleted\"))\n",
    "values = put_s3_result.to_values()\n",
    "html_s3_uri = values[\"html\"]\n",
    "image_s3_uri = values[\"image\"]\n",
    "rprint(f\"{S3Path(html_s3_uri).exists() = }\")\n",
    "rprint(f\"{S3Path(image_s3_uri).exists() = }\")\n",
    "assert S3Path(html_s3_uri).exists() is False\n",
    "assert S3Path(image_s3_uri).exists() is False"
   ]
  },
  {
   "cell_type": "markdown",
   "id": "5172803499ea3e3e",
   "metadata": {
    "collapsed": false,
    "jupyter": {
     "outputs_hidden": false
    }
   },
   "source": [
    "## Create a Row and SQL INSERT succeeded"
   ]
  },
  {
   "cell_type": "code",
   "execution_count": 12,
   "id": "527a4865728b8d96",
   "metadata": {
    "ExecuteTime": {
     "end_time": "2024-05-27T03:59:13.637090Z",
     "start_time": "2024-05-27T03:59:13.580442Z"
    },
    "collapsed": false,
    "jupyter": {
     "outputs_hidden": false
    }
   },
   "outputs": [
    {
     "data": {
      "text/html": [
       "<pre style=\"white-space:pre;overflow-x:auto;line-height:normal;font-family:Menlo,'DejaVu Sans Mono',consolas,'Courier New',monospace\"><span style=\"color: #008000; text-decoration-color: #008000; font-weight: bold\">╔═════════════════════════════════════════════════════════════════════════════════════════════════════════════════╗</span>\n",
       "<span style=\"color: #008000; text-decoration-color: #008000; font-weight: bold\">║</span> Create a Row and SQL INSERT succeeded                                                                           <span style=\"color: #008000; text-decoration-color: #008000; font-weight: bold\">║</span>\n",
       "<span style=\"color: #008000; text-decoration-color: #008000; font-weight: bold\">╚═════════════════════════════════════════════════════════════════════════════════════════════════════════════════╝</span>\n",
       "</pre>\n"
      ],
      "text/plain": [
       "\u001b[1;32m╔═════════════════════════════════════════════════════════════════════════════════════════════════════════════════╗\u001b[0m\n",
       "\u001b[1;32m║\u001b[0m Create a Row and SQL INSERT succeeded                                                                           \u001b[1;32m║\u001b[0m\n",
       "\u001b[1;32m╚═════════════════════════════════════════════════════════════════════════════════════════════════════════════════╝\u001b[0m\n"
      ]
     },
     "metadata": {},
     "output_type": "display_data"
    }
   ],
   "source": [
    "rprint(\n",
    "    Panel(\n",
    "        \"Create a Row and SQL INSERT succeeded\",\n",
    "        box=box.DOUBLE,\n",
    "        border_style=\"bold green\",\n",
    "    )\n",
    ")\n",
    "utc_now = get_utc_now()"
   ]
  },
  {
   "cell_type": "code",
   "execution_count": 13,
   "id": "cc76125d77d8db49",
   "metadata": {
    "ExecuteTime": {
     "end_time": "2024-05-27T03:59:13.746531Z",
     "start_time": "2024-05-27T03:59:13.741525Z"
    },
    "collapsed": false,
    "jupyter": {
     "outputs_hidden": false
    }
   },
   "outputs": [
    {
     "data": {
      "text/html": [
       "<pre style=\"white-space:pre;overflow-x:auto;line-height:normal;font-family:Menlo,'DejaVu Sans Mono',consolas,'Courier New',monospace\">╭─────────────────────────────────────────────────────────────────────────────────────────────────────────────────╮\n",
       "│ Write S3 first, then write DB                                                                                   │\n",
       "╰─────────────────────────────────────────────────────────────────────────────────────────────────────────────────╯\n",
       "</pre>\n"
      ],
      "text/plain": [
       "╭─────────────────────────────────────────────────────────────────────────────────────────────────────────────────╮\n",
       "│ Write S3 first, then write DB                                                                                   │\n",
       "╰─────────────────────────────────────────────────────────────────────────────────────────────────────────────────╯\n"
      ]
     },
     "metadata": {},
     "output_type": "display_data"
    },
    {
     "data": {
      "text/html": [
       "<pre style=\"white-space:pre;overflow-x:auto;line-height:normal;font-family:Menlo,'DejaVu Sans Mono',consolas,'Courier New',monospace\"><span style=\"color: #800080; text-decoration-color: #800080; font-weight: bold\">PutS3Result</span><span style=\"font-weight: bold\">(</span>\n",
       "    <span style=\"color: #808000; text-decoration-color: #808000\">s3_client</span>=<span style=\"font-weight: bold\">&lt;</span><span style=\"color: #ff00ff; text-decoration-color: #ff00ff; font-weight: bold\">botocore.client.S3</span><span style=\"color: #000000; text-decoration-color: #000000\"> object at </span><span style=\"color: #008080; text-decoration-color: #008080; font-weight: bold\">0x108bfb340</span><span style=\"color: #000000; text-decoration-color: #000000\">&gt;,</span>\n",
       "<span style=\"color: #000000; text-decoration-color: #000000\">    </span><span style=\"color: #808000; text-decoration-color: #808000\">put_s3backed_column_results</span><span style=\"color: #000000; text-decoration-color: #000000\">=</span><span style=\"color: #000000; text-decoration-color: #000000; font-weight: bold\">[</span>\n",
       "<span style=\"color: #000000; text-decoration-color: #000000\">        </span><span style=\"color: #800080; text-decoration-color: #800080; font-weight: bold\">PutS3BackedColumnResult</span><span style=\"color: #000000; text-decoration-color: #000000; font-weight: bold\">(</span>\n",
       "<span style=\"color: #000000; text-decoration-color: #000000\">            </span><span style=\"color: #808000; text-decoration-color: #808000\">column</span><span style=\"color: #000000; text-decoration-color: #000000\">=</span><span style=\"color: #008000; text-decoration-color: #008000\">'html'</span><span style=\"color: #000000; text-decoration-color: #000000\">,</span>\n",
       "<span style=\"color: #000000; text-decoration-color: #000000\">            </span><span style=\"color: #808000; text-decoration-color: #808000\">old_s3_uri</span><span style=\"color: #000000; text-decoration-color: #000000\">=</span><span style=\"color: #800080; text-decoration-color: #800080; font-style: italic\">None</span><span style=\"color: #000000; text-decoration-color: #000000\">,</span>\n",
       "<span style=\"color: #000000; text-decoration-color: #000000\">            </span><span style=\"color: #808000; text-decoration-color: #808000\">new_s3_uri</span><span style=\"color: #000000; text-decoration-color: #000000\">=</span><span style=\"color: #008000; text-decoration-color: #008000\">'s3://bmt-app-dev-us-east-1-data/projects/sqlalchemy_mate/patterns/s3backed_column/data/aHR0</span>\n",
       "<span style=\"color: #008000; text-decoration-color: #008000\">cHM6Ly93d3cuZXhhbXBsZS5jb20=/col=html/md5=3fcad0c630c89f84a266b0d828a97c33'</span><span style=\"color: #000000; text-decoration-color: #000000\">,</span>\n",
       "<span style=\"color: #000000; text-decoration-color: #000000\">            </span><span style=\"color: #808000; text-decoration-color: #808000\">executed</span><span style=\"color: #000000; text-decoration-color: #000000\">=</span><span style=\"color: #00ff00; text-decoration-color: #00ff00; font-style: italic\">True</span><span style=\"color: #000000; text-decoration-color: #000000\">,</span>\n",
       "<span style=\"color: #000000; text-decoration-color: #000000\">            </span><span style=\"color: #808000; text-decoration-color: #808000\">cleanup_function</span><span style=\"color: #000000; text-decoration-color: #000000\">=&lt;bound method ClientCreator._create_api_method.&lt;locals&gt;._api_call of </span>\n",
       "<span style=\"color: #000000; text-decoration-color: #000000\">&lt;botocore.client.S3 object at </span><span style=\"color: #008080; text-decoration-color: #008080; font-weight: bold\">0x108bfb340</span><span style=\"color: #000000; text-decoration-color: #000000\">&gt;&gt;,</span>\n",
       "<span style=\"color: #000000; text-decoration-color: #000000\">            </span><span style=\"color: #808000; text-decoration-color: #808000\">cleanup_old_kwargs</span><span style=\"color: #000000; text-decoration-color: #000000\">=</span><span style=\"color: #800080; text-decoration-color: #800080; font-style: italic\">None</span><span style=\"color: #000000; text-decoration-color: #000000\">,</span>\n",
       "<span style=\"color: #000000; text-decoration-color: #000000\">            </span><span style=\"color: #808000; text-decoration-color: #808000\">cleanup_new_kwargs</span><span style=\"color: #000000; text-decoration-color: #000000\">=</span><span style=\"color: #000000; text-decoration-color: #000000; font-weight: bold\">{</span>\n",
       "<span style=\"color: #000000; text-decoration-color: #000000\">                </span><span style=\"color: #008000; text-decoration-color: #008000\">'Bucket'</span><span style=\"color: #000000; text-decoration-color: #000000\">: </span><span style=\"color: #008000; text-decoration-color: #008000\">'bmt-app-dev-us-east-1-data'</span><span style=\"color: #000000; text-decoration-color: #000000\">,</span>\n",
       "<span style=\"color: #000000; text-decoration-color: #000000\">                </span><span style=\"color: #008000; text-decoration-color: #008000\">'Key'</span><span style=\"color: #000000; text-decoration-color: #000000\">: </span>\n",
       "<span style=\"color: #008000; text-decoration-color: #008000\">'projects/sqlalchemy_mate/patterns/s3backed_column/data/aHR0cHM6Ly93d3cuZXhhbXBsZS5jb20=/col=html/md5=3fcad0c630c89</span>\n",
       "<span style=\"color: #008000; text-decoration-color: #008000\">f84a266b0d828a97c33'</span>\n",
       "<span style=\"color: #000000; text-decoration-color: #000000\">            </span><span style=\"color: #000000; text-decoration-color: #000000; font-weight: bold\">}</span>\n",
       "<span style=\"color: #000000; text-decoration-color: #000000\">        </span><span style=\"color: #000000; text-decoration-color: #000000; font-weight: bold\">)</span><span style=\"color: #000000; text-decoration-color: #000000\">,</span>\n",
       "<span style=\"color: #000000; text-decoration-color: #000000\">        </span><span style=\"color: #800080; text-decoration-color: #800080; font-weight: bold\">PutS3BackedColumnResult</span><span style=\"color: #000000; text-decoration-color: #000000; font-weight: bold\">(</span>\n",
       "<span style=\"color: #000000; text-decoration-color: #000000\">            </span><span style=\"color: #808000; text-decoration-color: #808000\">column</span><span style=\"color: #000000; text-decoration-color: #000000\">=</span><span style=\"color: #008000; text-decoration-color: #008000\">'image'</span><span style=\"color: #000000; text-decoration-color: #000000\">,</span>\n",
       "<span style=\"color: #000000; text-decoration-color: #000000\">            </span><span style=\"color: #808000; text-decoration-color: #808000\">old_s3_uri</span><span style=\"color: #000000; text-decoration-color: #000000\">=</span><span style=\"color: #800080; text-decoration-color: #800080; font-style: italic\">None</span><span style=\"color: #000000; text-decoration-color: #000000\">,</span>\n",
       "<span style=\"color: #000000; text-decoration-color: #000000\">            </span><span style=\"color: #808000; text-decoration-color: #808000\">new_s3_uri</span><span style=\"color: #000000; text-decoration-color: #000000\">=</span><span style=\"color: #008000; text-decoration-color: #008000\">'s3://bmt-app-dev-us-east-1-data/projects/sqlalchemy_mate/patterns/s3backed_column/data/aHR0</span>\n",
       "<span style=\"color: #008000; text-decoration-color: #008000\">cHM6Ly93d3cuZXhhbXBsZS5jb20=/col=image/md5=9a48fd95141e47117d14e1524a83ae0e'</span><span style=\"color: #000000; text-decoration-color: #000000\">,</span>\n",
       "<span style=\"color: #000000; text-decoration-color: #000000\">            </span><span style=\"color: #808000; text-decoration-color: #808000\">executed</span><span style=\"color: #000000; text-decoration-color: #000000\">=</span><span style=\"color: #00ff00; text-decoration-color: #00ff00; font-style: italic\">True</span><span style=\"color: #000000; text-decoration-color: #000000\">,</span>\n",
       "<span style=\"color: #000000; text-decoration-color: #000000\">            </span><span style=\"color: #808000; text-decoration-color: #808000\">cleanup_function</span><span style=\"color: #000000; text-decoration-color: #000000\">=&lt;bound method ClientCreator._create_api_method.&lt;locals&gt;._api_call of </span>\n",
       "<span style=\"color: #000000; text-decoration-color: #000000\">&lt;botocore.client.S3 object at </span><span style=\"color: #008080; text-decoration-color: #008080; font-weight: bold\">0x108bfb340</span><span style=\"color: #000000; text-decoration-color: #000000\">&gt;</span><span style=\"font-weight: bold\">&gt;</span>,\n",
       "            <span style=\"color: #808000; text-decoration-color: #808000\">cleanup_old_kwargs</span>=<span style=\"color: #800080; text-decoration-color: #800080; font-style: italic\">None</span>,\n",
       "            <span style=\"color: #808000; text-decoration-color: #808000\">cleanup_new_kwargs</span>=<span style=\"font-weight: bold\">{</span>\n",
       "                <span style=\"color: #008000; text-decoration-color: #008000\">'Bucket'</span>: <span style=\"color: #008000; text-decoration-color: #008000\">'bmt-app-dev-us-east-1-data'</span>,\n",
       "                <span style=\"color: #008000; text-decoration-color: #008000\">'Key'</span>: \n",
       "<span style=\"color: #008000; text-decoration-color: #008000\">'projects/sqlalchemy_mate/patterns/s3backed_column/data/aHR0cHM6Ly93d3cuZXhhbXBsZS5jb20=/col=image/md5=9a48fd95141e</span>\n",
       "<span style=\"color: #008000; text-decoration-color: #008000\">47117d14e1524a83ae0e'</span>\n",
       "            <span style=\"font-weight: bold\">}</span>\n",
       "        <span style=\"font-weight: bold\">)</span>\n",
       "    <span style=\"font-weight: bold\">]</span>\n",
       "<span style=\"font-weight: bold\">)</span>\n",
       "</pre>\n"
      ],
      "text/plain": [
       "\u001b[1;35mPutS3Result\u001b[0m\u001b[1m(\u001b[0m\n",
       "    \u001b[33ms3_client\u001b[0m=\u001b[1m<\u001b[0m\u001b[1;95mbotocore.client.S3\u001b[0m\u001b[39m object at \u001b[0m\u001b[1;36m0x108bfb340\u001b[0m\u001b[39m>,\u001b[0m\n",
       "\u001b[39m    \u001b[0m\u001b[33mput_s3backed_column_results\u001b[0m\u001b[39m=\u001b[0m\u001b[1;39m[\u001b[0m\n",
       "\u001b[39m        \u001b[0m\u001b[1;35mPutS3BackedColumnResult\u001b[0m\u001b[1;39m(\u001b[0m\n",
       "\u001b[39m            \u001b[0m\u001b[33mcolumn\u001b[0m\u001b[39m=\u001b[0m\u001b[32m'html'\u001b[0m\u001b[39m,\u001b[0m\n",
       "\u001b[39m            \u001b[0m\u001b[33mold_s3_uri\u001b[0m\u001b[39m=\u001b[0m\u001b[3;35mNone\u001b[0m\u001b[39m,\u001b[0m\n",
       "\u001b[39m            \u001b[0m\u001b[33mnew_s3_uri\u001b[0m\u001b[39m=\u001b[0m\u001b[32m's3://bmt-app-dev-us-east-1-data/projects/sqlalchemy_mate/patterns/s3backed_column/data/\u001b[0m\u001b[32maHR0\u001b[0m\n",
       "\u001b[32mcHM6Ly93d3cuZXhhbXBsZS5jb20\u001b[0m\u001b[32m=/\u001b[0m\u001b[32mcol\u001b[0m\u001b[32m=\u001b[0m\u001b[32mhtml\u001b[0m\u001b[32m/\u001b[0m\u001b[32mmd5\u001b[0m\u001b[32m=\u001b[0m\u001b[32m3fcad0c630c89f84a266b0d828a97c33\u001b[0m\u001b[32m'\u001b[0m\u001b[39m,\u001b[0m\n",
       "\u001b[39m            \u001b[0m\u001b[33mexecuted\u001b[0m\u001b[39m=\u001b[0m\u001b[3;92mTrue\u001b[0m\u001b[39m,\u001b[0m\n",
       "\u001b[39m            \u001b[0m\u001b[33mcleanup_function\u001b[0m\u001b[39m=<bound method ClientCreator._create_api_method.<locals>._api_call of \u001b[0m\n",
       "\u001b[39m<botocore.client.S3 object at \u001b[0m\u001b[1;36m0x108bfb340\u001b[0m\u001b[39m>>,\u001b[0m\n",
       "\u001b[39m            \u001b[0m\u001b[33mcleanup_old_kwargs\u001b[0m\u001b[39m=\u001b[0m\u001b[3;35mNone\u001b[0m\u001b[39m,\u001b[0m\n",
       "\u001b[39m            \u001b[0m\u001b[33mcleanup_new_kwargs\u001b[0m\u001b[39m=\u001b[0m\u001b[1;39m{\u001b[0m\n",
       "\u001b[39m                \u001b[0m\u001b[32m'Bucket'\u001b[0m\u001b[39m: \u001b[0m\u001b[32m'bmt-app-dev-us-east-1-data'\u001b[0m\u001b[39m,\u001b[0m\n",
       "\u001b[39m                \u001b[0m\u001b[32m'Key'\u001b[0m\u001b[39m: \u001b[0m\n",
       "\u001b[32m'projects/sqlalchemy_mate/patterns/s3backed_column/data/\u001b[0m\u001b[32maHR0cHM6Ly93d3cuZXhhbXBsZS5jb20\u001b[0m\u001b[32m=/\u001b[0m\u001b[32mcol\u001b[0m\u001b[32m=\u001b[0m\u001b[32mhtml\u001b[0m\u001b[32m/\u001b[0m\u001b[32mmd5\u001b[0m\u001b[32m=\u001b[0m\u001b[32m3fcad0c630c89\u001b[0m\n",
       "\u001b[32mf84a266b0d828a97c33\u001b[0m\u001b[32m'\u001b[0m\n",
       "\u001b[39m            \u001b[0m\u001b[1;39m}\u001b[0m\n",
       "\u001b[39m        \u001b[0m\u001b[1;39m)\u001b[0m\u001b[39m,\u001b[0m\n",
       "\u001b[39m        \u001b[0m\u001b[1;35mPutS3BackedColumnResult\u001b[0m\u001b[1;39m(\u001b[0m\n",
       "\u001b[39m            \u001b[0m\u001b[33mcolumn\u001b[0m\u001b[39m=\u001b[0m\u001b[32m'image'\u001b[0m\u001b[39m,\u001b[0m\n",
       "\u001b[39m            \u001b[0m\u001b[33mold_s3_uri\u001b[0m\u001b[39m=\u001b[0m\u001b[3;35mNone\u001b[0m\u001b[39m,\u001b[0m\n",
       "\u001b[39m            \u001b[0m\u001b[33mnew_s3_uri\u001b[0m\u001b[39m=\u001b[0m\u001b[32m's3://bmt-app-dev-us-east-1-data/projects/sqlalchemy_mate/patterns/s3backed_column/data/\u001b[0m\u001b[32maHR0\u001b[0m\n",
       "\u001b[32mcHM6Ly93d3cuZXhhbXBsZS5jb20\u001b[0m\u001b[32m=/\u001b[0m\u001b[32mcol\u001b[0m\u001b[32m=\u001b[0m\u001b[32mimage\u001b[0m\u001b[32m/\u001b[0m\u001b[32mmd5\u001b[0m\u001b[32m=\u001b[0m\u001b[32m9a48fd95141e47117d14e1524a83ae0e\u001b[0m\u001b[32m'\u001b[0m\u001b[39m,\u001b[0m\n",
       "\u001b[39m            \u001b[0m\u001b[33mexecuted\u001b[0m\u001b[39m=\u001b[0m\u001b[3;92mTrue\u001b[0m\u001b[39m,\u001b[0m\n",
       "\u001b[39m            \u001b[0m\u001b[33mcleanup_function\u001b[0m\u001b[39m=<bound method ClientCreator._create_api_method.<locals>._api_call of \u001b[0m\n",
       "\u001b[39m<botocore.client.S3 object at \u001b[0m\u001b[1;36m0x108bfb340\u001b[0m\u001b[39m>\u001b[0m\u001b[1m>\u001b[0m,\n",
       "            \u001b[33mcleanup_old_kwargs\u001b[0m=\u001b[3;35mNone\u001b[0m,\n",
       "            \u001b[33mcleanup_new_kwargs\u001b[0m=\u001b[1m{\u001b[0m\n",
       "                \u001b[32m'Bucket'\u001b[0m: \u001b[32m'bmt-app-dev-us-east-1-data'\u001b[0m,\n",
       "                \u001b[32m'Key'\u001b[0m: \n",
       "\u001b[32m'projects/sqlalchemy_mate/patterns/s3backed_column/data/\u001b[0m\u001b[32maHR0cHM6Ly93d3cuZXhhbXBsZS5jb20\u001b[0m\u001b[32m=/\u001b[0m\u001b[32mcol\u001b[0m\u001b[32m=\u001b[0m\u001b[32mimage\u001b[0m\u001b[32m/\u001b[0m\u001b[32mmd5\u001b[0m\u001b[32m=\u001b[0m\u001b[32m9a48fd95141e\u001b[0m\n",
       "\u001b[32m47117d14e1524a83ae0e\u001b[0m\u001b[32m'\u001b[0m\n",
       "            \u001b[1m}\u001b[0m\n",
       "        \u001b[1m)\u001b[0m\n",
       "    \u001b[1m]\u001b[0m\n",
       "\u001b[1m)\u001b[0m\n"
      ]
     },
     "metadata": {},
     "output_type": "display_data"
    }
   ],
   "source": [
    "rprint(Panel(\"Write S3 first, then write DB\"))\n",
    "put_s3_result = aws_s3.put_s3(\n",
    "    api_calls=[\n",
    "        aws_s3.PutS3ApiCall(\n",
    "            column=\"html\",\n",
    "            binary=html_content_1,\n",
    "            old_s3_uri=None,\n",
    "            extra_put_object_kwargs=html_additional_kwargs,\n",
    "        ),\n",
    "        aws_s3.PutS3ApiCall(\n",
    "            column=\"image\",\n",
    "            binary=image_content_1,\n",
    "            old_s3_uri=None,\n",
    "            extra_put_object_kwargs=image_additional_kwargs,\n",
    "        ),\n",
    "    ],\n",
    "    s3_client=bsm.s3_client,\n",
    "    pk=url,\n",
    "    bucket=s3dir_root.bucket,\n",
    "    prefix=s3dir_root.key,\n",
    "    update_at=utc_now,\n",
    "    is_pk_url_safe=False,\n",
    ")\n",
    "rprint(put_s3_result)"
   ]
  },
  {
   "cell_type": "code",
   "execution_count": 14,
   "id": "13f3a56e2f63e4cc",
   "metadata": {
    "ExecuteTime": {
     "end_time": "2024-05-27T03:59:13.953354Z",
     "start_time": "2024-05-27T03:59:13.896520Z"
    },
    "collapsed": false,
    "jupyter": {
     "outputs_hidden": false
    }
   },
   "outputs": [
    {
     "data": {
      "text/html": [
       "<pre style=\"white-space:pre;overflow-x:auto;line-height:normal;font-family:Menlo,'DejaVu Sans Mono',consolas,'Courier New',monospace\">SQL INSERT Succeeded!\n",
       "</pre>\n"
      ],
      "text/plain": [
       "SQL INSERT Succeeded!\n"
      ]
     },
     "metadata": {},
     "output_type": "display_data"
    }
   ],
   "source": [
    "with orm.Session(engine) as ses:\n",
    "    try:\n",
    "        with ses.begin():\n",
    "            task1 = Task(\n",
    "                url=url,\n",
    "                update_at=utc_now,\n",
    "                # this is a helper method that convert the put s3 results\n",
    "                # to INSERT / UPDATE values\n",
    "                **put_s3_result.to_values(),\n",
    "            )\n",
    "            ses.add(task1)\n",
    "        rprint(\"SQL INSERT Succeeded!\")\n",
    "    except Exception as e:\n",
    "        rprint(f\"SQL INSERT Failed, error: {e!r}\")\n",
    "        # clean up created s3 object when create row failed\n",
    "        # if you don't want to do that, just don't run this method\n",
    "        put_s3_result.clean_up_created_s3_object_when_create_or_update_row_failed()"
   ]
  },
  {
   "cell_type": "code",
   "execution_count": 15,
   "id": "4a027b79d0825ffd",
   "metadata": {
    "collapsed": false,
    "jupyter": {
     "outputs_hidden": false
    }
   },
   "outputs": [
    {
     "data": {
      "text/html": [
       "<pre style=\"white-space:pre;overflow-x:auto;line-height:normal;font-family:Menlo,'DejaVu Sans Mono',consolas,'Courier New',monospace\">╭─────────────────────────────────────────────────────────────────────────────────────────────────────────────────╮\n",
       "│ Database row should be inserted                                                                                 │\n",
       "╰─────────────────────────────────────────────────────────────────────────────────────────────────────────────────╯\n",
       "</pre>\n"
      ],
      "text/plain": [
       "╭─────────────────────────────────────────────────────────────────────────────────────────────────────────────────╮\n",
       "│ Database row should be inserted                                                                                 │\n",
       "╰─────────────────────────────────────────────────────────────────────────────────────────────────────────────────╯\n"
      ]
     },
     "metadata": {},
     "output_type": "display_data"
    },
    {
     "data": {
      "text/html": [
       "<pre style=\"white-space:pre;overflow-x:auto;line-height:normal;font-family:Menlo,'DejaVu Sans Mono',consolas,'Courier New',monospace\"><span style=\"font-weight: bold\">{</span>\n",
       "    <span style=\"color: #008000; text-decoration-color: #008000\">'_sa_instance_state'</span>: <span style=\"font-weight: bold\">&lt;</span><span style=\"color: #ff00ff; text-decoration-color: #ff00ff; font-weight: bold\">sqlalchemy.orm.state.InstanceState</span><span style=\"color: #000000; text-decoration-color: #000000\"> object at </span><span style=\"color: #008080; text-decoration-color: #008080; font-weight: bold\">0x108c13dc0</span><span style=\"font-weight: bold\">&gt;</span>,\n",
       "    <span style=\"color: #008000; text-decoration-color: #008000\">'update_at'</span>: <span style=\"color: #800080; text-decoration-color: #800080; font-weight: bold\">datetime.datetime</span><span style=\"font-weight: bold\">(</span><span style=\"color: #008080; text-decoration-color: #008080; font-weight: bold\">2024</span>, <span style=\"color: #008080; text-decoration-color: #008080; font-weight: bold\">5</span>, <span style=\"color: #008080; text-decoration-color: #008080; font-weight: bold\">27</span>, <span style=\"color: #008080; text-decoration-color: #008080; font-weight: bold\">5</span>, <span style=\"color: #008080; text-decoration-color: #008080; font-weight: bold\">24</span>, <span style=\"color: #008080; text-decoration-color: #008080; font-weight: bold\">22</span>, <span style=\"color: #008080; text-decoration-color: #008080; font-weight: bold\">781233</span><span style=\"font-weight: bold\">)</span>,\n",
       "    <span style=\"color: #008000; text-decoration-color: #008000\">'url'</span>: <span style=\"color: #008000; text-decoration-color: #008000\">'https://www.example.com'</span>,\n",
       "    <span style=\"color: #008000; text-decoration-color: #008000\">'image'</span>: \n",
       "<span style=\"color: #008000; text-decoration-color: #008000\">'s3://bmt-app-dev-us-east-1-data/projects/sqlalchemy_mate/patterns/s3backed_column/data/aHR0cHM6Ly93d3cuZXhhbXBsZS5</span>\n",
       "<span style=\"color: #008000; text-decoration-color: #008000\">jb20=/col=image/md5=9a48fd95141e47117d14e1524a83ae0e'</span>,\n",
       "    <span style=\"color: #008000; text-decoration-color: #008000\">'html'</span>: \n",
       "<span style=\"color: #008000; text-decoration-color: #008000\">'s3://bmt-app-dev-us-east-1-data/projects/sqlalchemy_mate/patterns/s3backed_column/data/aHR0cHM6Ly93d3cuZXhhbXBsZS5</span>\n",
       "<span style=\"color: #008000; text-decoration-color: #008000\">jb20=/col=html/md5=3fcad0c630c89f84a266b0d828a97c33'</span>\n",
       "<span style=\"font-weight: bold\">}</span>\n",
       "</pre>\n"
      ],
      "text/plain": [
       "\u001b[1m{\u001b[0m\n",
       "    \u001b[32m'_sa_instance_state'\u001b[0m: \u001b[1m<\u001b[0m\u001b[1;95msqlalchemy.orm.state.InstanceState\u001b[0m\u001b[39m object at \u001b[0m\u001b[1;36m0x108c13dc0\u001b[0m\u001b[1m>\u001b[0m,\n",
       "    \u001b[32m'update_at'\u001b[0m: \u001b[1;35mdatetime.datetime\u001b[0m\u001b[1m(\u001b[0m\u001b[1;36m2024\u001b[0m, \u001b[1;36m5\u001b[0m, \u001b[1;36m27\u001b[0m, \u001b[1;36m5\u001b[0m, \u001b[1;36m24\u001b[0m, \u001b[1;36m22\u001b[0m, \u001b[1;36m781233\u001b[0m\u001b[1m)\u001b[0m,\n",
       "    \u001b[32m'url'\u001b[0m: \u001b[32m'https://www.example.com'\u001b[0m,\n",
       "    \u001b[32m'image'\u001b[0m: \n",
       "\u001b[32m's3://bmt-app-dev-us-east-1-data/projects/sqlalchemy_mate/patterns/s3backed_column/data/\u001b[0m\u001b[32maHR0cHM6Ly93d3cuZXhhbXBsZS5\u001b[0m\n",
       "\u001b[32mjb20\u001b[0m\u001b[32m=/\u001b[0m\u001b[32mcol\u001b[0m\u001b[32m=\u001b[0m\u001b[32mimage\u001b[0m\u001b[32m/\u001b[0m\u001b[32mmd5\u001b[0m\u001b[32m=\u001b[0m\u001b[32m9a48fd95141e47117d14e1524a83ae0e\u001b[0m\u001b[32m'\u001b[0m,\n",
       "    \u001b[32m'html'\u001b[0m: \n",
       "\u001b[32m's3://bmt-app-dev-us-east-1-data/projects/sqlalchemy_mate/patterns/s3backed_column/data/\u001b[0m\u001b[32maHR0cHM6Ly93d3cuZXhhbXBsZS5\u001b[0m\n",
       "\u001b[32mjb20\u001b[0m\u001b[32m=/\u001b[0m\u001b[32mcol\u001b[0m\u001b[32m=\u001b[0m\u001b[32mhtml\u001b[0m\u001b[32m/\u001b[0m\u001b[32mmd5\u001b[0m\u001b[32m=\u001b[0m\u001b[32m3fcad0c630c89f84a266b0d828a97c33\u001b[0m\u001b[32m'\u001b[0m\n",
       "\u001b[1m}\u001b[0m\n"
      ]
     },
     "metadata": {},
     "output_type": "display_data"
    },
    {
     "data": {
      "text/html": [
       "<pre style=\"white-space:pre;overflow-x:auto;line-height:normal;font-family:Menlo,'DejaVu Sans Mono',consolas,'Courier New',monospace\">╭─────────────────────────────────────────────────────────────────────────────────────────────────────────────────╮\n",
       "│ S3 object should be created                                                                                     │\n",
       "╰─────────────────────────────────────────────────────────────────────────────────────────────────────────────────╯\n",
       "</pre>\n"
      ],
      "text/plain": [
       "╭─────────────────────────────────────────────────────────────────────────────────────────────────────────────────╮\n",
       "│ S3 object should be created                                                                                     │\n",
       "╰─────────────────────────────────────────────────────────────────────────────────────────────────────────────────╯\n"
      ]
     },
     "metadata": {},
     "output_type": "display_data"
    },
    {
     "data": {
      "text/html": [
       "<pre style=\"white-space:pre;overflow-x:auto;line-height:normal;font-family:Menlo,'DejaVu Sans Mono',consolas,'Courier New',monospace\"><span style=\"color: #800080; text-decoration-color: #800080; font-weight: bold\">S3Path</span><span style=\"font-weight: bold\">(</span>task1.html<span style=\"font-weight: bold\">)</span><span style=\"color: #800080; text-decoration-color: #800080; font-weight: bold\">.read_bytes</span><span style=\"font-weight: bold\">()</span> = <span style=\"color: #008000; text-decoration-color: #008000\">b'&lt;html&gt;this is html 1&lt;/html&gt;'</span>\n",
       "</pre>\n"
      ],
      "text/plain": [
       "\u001b[1;35mS3Path\u001b[0m\u001b[1m(\u001b[0mtask1.html\u001b[1m)\u001b[0m\u001b[1;35m.read_bytes\u001b[0m\u001b[1m(\u001b[0m\u001b[1m)\u001b[0m = \u001b[32mb'\u001b[0m\u001b[32m<\u001b[0m\u001b[32mhtml\u001b[0m\u001b[32m>this is html 1</html\u001b[0m\u001b[32m>\u001b[0m\u001b[32m'\u001b[0m\n"
      ]
     },
     "metadata": {},
     "output_type": "display_data"
    },
    {
     "data": {
      "text/html": [
       "<pre style=\"white-space:pre;overflow-x:auto;line-height:normal;font-family:Menlo,'DejaVu Sans Mono',consolas,'Courier New',monospace\"><span style=\"color: #800080; text-decoration-color: #800080; font-weight: bold\">S3Path</span><span style=\"font-weight: bold\">(</span>task1.image<span style=\"font-weight: bold\">)</span><span style=\"color: #800080; text-decoration-color: #800080; font-weight: bold\">.read_bytes</span><span style=\"font-weight: bold\">()</span> = <span style=\"color: #008000; text-decoration-color: #008000\">b'this is image 1'</span>\n",
       "</pre>\n"
      ],
      "text/plain": [
       "\u001b[1;35mS3Path\u001b[0m\u001b[1m(\u001b[0mtask1.image\u001b[1m)\u001b[0m\u001b[1;35m.read_bytes\u001b[0m\u001b[1m(\u001b[0m\u001b[1m)\u001b[0m = \u001b[32mb'this is image 1'\u001b[0m\n"
      ]
     },
     "metadata": {},
     "output_type": "display_data"
    }
   ],
   "source": [
    "rprint(Panel(\"Database row should be inserted\"))\n",
    "task1: Task = ses.get(Task, url)\n",
    "rprint(task1.__dict__)\n",
    "assert task1.url == url\n",
    "assert task1.update_at == utc_now\n",
    "rprint(Panel(\"S3 object should be created\"))\n",
    "rprint(f\"{S3Path(task1.html).read_bytes() = }\")\n",
    "rprint(f\"{S3Path(task1.image).read_bytes() = }\")\n",
    "assert S3Path(task1.html).read_bytes() == html_content_1\n",
    "assert S3Path(task1.image).read_bytes() == image_content_1"
   ]
  },
  {
   "cell_type": "markdown",
   "id": "74b61bbb-39a4-4df5-bc41-f8bd3db073f5",
   "metadata": {},
   "source": [
    "## Update a Row but SQL UPDATE failed"
   ]
  },
  {
   "cell_type": "code",
   "execution_count": 16,
   "id": "198f810f-137f-40c8-a016-6d491494f7de",
   "metadata": {},
   "outputs": [
    {
     "data": {
      "text/html": [
       "<pre style=\"white-space:pre;overflow-x:auto;line-height:normal;font-family:Menlo,'DejaVu Sans Mono',consolas,'Courier New',monospace\"><span style=\"color: #008000; text-decoration-color: #008000; font-weight: bold\">╔═════════════════════════════════════════════════════════════════════════════════════════════════════════════════╗</span>\n",
       "<span style=\"color: #008000; text-decoration-color: #008000; font-weight: bold\">║</span> Update a Row but SQL UPDATE failed                                                                              <span style=\"color: #008000; text-decoration-color: #008000; font-weight: bold\">║</span>\n",
       "<span style=\"color: #008000; text-decoration-color: #008000; font-weight: bold\">╚═════════════════════════════════════════════════════════════════════════════════════════════════════════════════╝</span>\n",
       "</pre>\n"
      ],
      "text/plain": [
       "\u001b[1;32m╔═════════════════════════════════════════════════════════════════════════════════════════════════════════════════╗\u001b[0m\n",
       "\u001b[1;32m║\u001b[0m Update a Row but SQL UPDATE failed                                                                              \u001b[1;32m║\u001b[0m\n",
       "\u001b[1;32m╚═════════════════════════════════════════════════════════════════════════════════════════════════════════════════╝\u001b[0m\n"
      ]
     },
     "metadata": {},
     "output_type": "display_data"
    }
   ],
   "source": [
    "rprint(\n",
    "    Panel(\n",
    "        \"Update a Row but SQL UPDATE failed\", box=box.DOUBLE, border_style=\"bold green\"\n",
    "    )\n",
    ")\n",
    "\n",
    "html_content_2 = b\"<html>this is html 2</html>\"\n",
    "image_content_2 = b\"this is image 2\"\n",
    "utc_now = get_utc_now()"
   ]
  },
  {
   "cell_type": "code",
   "execution_count": 17,
   "id": "ea720a63-72ec-43db-8e6f-2486dce3b5a8",
   "metadata": {},
   "outputs": [
    {
     "data": {
      "text/html": [
       "<pre style=\"white-space:pre;overflow-x:auto;line-height:normal;font-family:Menlo,'DejaVu Sans Mono',consolas,'Courier New',monospace\">╭─────────────────────────────────────────────────────────────────────────────────────────────────────────────────╮\n",
       "│ Write S3 first, then write DB                                                                                   │\n",
       "╰─────────────────────────────────────────────────────────────────────────────────────────────────────────────────╯\n",
       "</pre>\n"
      ],
      "text/plain": [
       "╭─────────────────────────────────────────────────────────────────────────────────────────────────────────────────╮\n",
       "│ Write S3 first, then write DB                                                                                   │\n",
       "╰─────────────────────────────────────────────────────────────────────────────────────────────────────────────────╯\n"
      ]
     },
     "metadata": {},
     "output_type": "display_data"
    },
    {
     "data": {
      "text/html": [
       "<pre style=\"white-space:pre;overflow-x:auto;line-height:normal;font-family:Menlo,'DejaVu Sans Mono',consolas,'Courier New',monospace\"><span style=\"color: #800080; text-decoration-color: #800080; font-weight: bold\">PutS3Result</span><span style=\"font-weight: bold\">(</span>\n",
       "    <span style=\"color: #808000; text-decoration-color: #808000\">s3_client</span>=<span style=\"font-weight: bold\">&lt;</span><span style=\"color: #ff00ff; text-decoration-color: #ff00ff; font-weight: bold\">botocore.client.S3</span><span style=\"color: #000000; text-decoration-color: #000000\"> object at </span><span style=\"color: #008080; text-decoration-color: #008080; font-weight: bold\">0x108bfb340</span><span style=\"color: #000000; text-decoration-color: #000000\">&gt;,</span>\n",
       "<span style=\"color: #000000; text-decoration-color: #000000\">    </span><span style=\"color: #808000; text-decoration-color: #808000\">put_s3backed_column_results</span><span style=\"color: #000000; text-decoration-color: #000000\">=</span><span style=\"color: #000000; text-decoration-color: #000000; font-weight: bold\">[</span>\n",
       "<span style=\"color: #000000; text-decoration-color: #000000\">        </span><span style=\"color: #800080; text-decoration-color: #800080; font-weight: bold\">PutS3BackedColumnResult</span><span style=\"color: #000000; text-decoration-color: #000000; font-weight: bold\">(</span>\n",
       "<span style=\"color: #000000; text-decoration-color: #000000\">            </span><span style=\"color: #808000; text-decoration-color: #808000\">column</span><span style=\"color: #000000; text-decoration-color: #000000\">=</span><span style=\"color: #008000; text-decoration-color: #008000\">'html'</span><span style=\"color: #000000; text-decoration-color: #000000\">,</span>\n",
       "<span style=\"color: #000000; text-decoration-color: #000000\">            </span><span style=\"color: #808000; text-decoration-color: #808000\">old_s3_uri</span><span style=\"color: #000000; text-decoration-color: #000000\">=</span><span style=\"color: #008000; text-decoration-color: #008000\">'s3://bmt-app-dev-us-east-1-data/projects/sqlalchemy_mate/patterns/s3backed_column/data/aHR0</span>\n",
       "<span style=\"color: #008000; text-decoration-color: #008000\">cHM6Ly93d3cuZXhhbXBsZS5jb20=/col=html/md5=3fcad0c630c89f84a266b0d828a97c33'</span><span style=\"color: #000000; text-decoration-color: #000000\">,</span>\n",
       "<span style=\"color: #000000; text-decoration-color: #000000\">            </span><span style=\"color: #808000; text-decoration-color: #808000\">new_s3_uri</span><span style=\"color: #000000; text-decoration-color: #000000\">=</span><span style=\"color: #008000; text-decoration-color: #008000\">'s3://bmt-app-dev-us-east-1-data/projects/sqlalchemy_mate/patterns/s3backed_column/data/aHR0</span>\n",
       "<span style=\"color: #008000; text-decoration-color: #008000\">cHM6Ly93d3cuZXhhbXBsZS5jb20=/col=html/md5=1970166ef8b56a6221f64f063daec3e3'</span><span style=\"color: #000000; text-decoration-color: #000000\">,</span>\n",
       "<span style=\"color: #000000; text-decoration-color: #000000\">            </span><span style=\"color: #808000; text-decoration-color: #808000\">executed</span><span style=\"color: #000000; text-decoration-color: #000000\">=</span><span style=\"color: #00ff00; text-decoration-color: #00ff00; font-style: italic\">True</span><span style=\"color: #000000; text-decoration-color: #000000\">,</span>\n",
       "<span style=\"color: #000000; text-decoration-color: #000000\">            </span><span style=\"color: #808000; text-decoration-color: #808000\">cleanup_function</span><span style=\"color: #000000; text-decoration-color: #000000\">=&lt;bound method ClientCreator._create_api_method.&lt;locals&gt;._api_call of </span>\n",
       "<span style=\"color: #000000; text-decoration-color: #000000\">&lt;botocore.client.S3 object at </span><span style=\"color: #008080; text-decoration-color: #008080; font-weight: bold\">0x108bfb340</span><span style=\"color: #000000; text-decoration-color: #000000\">&gt;&gt;,</span>\n",
       "<span style=\"color: #000000; text-decoration-color: #000000\">            </span><span style=\"color: #808000; text-decoration-color: #808000\">cleanup_old_kwargs</span><span style=\"color: #000000; text-decoration-color: #000000\">=</span><span style=\"color: #000000; text-decoration-color: #000000; font-weight: bold\">{</span>\n",
       "<span style=\"color: #000000; text-decoration-color: #000000\">                </span><span style=\"color: #008000; text-decoration-color: #008000\">'Bucket'</span><span style=\"color: #000000; text-decoration-color: #000000\">: </span><span style=\"color: #008000; text-decoration-color: #008000\">'bmt-app-dev-us-east-1-data'</span><span style=\"color: #000000; text-decoration-color: #000000\">,</span>\n",
       "<span style=\"color: #000000; text-decoration-color: #000000\">                </span><span style=\"color: #008000; text-decoration-color: #008000\">'Key'</span><span style=\"color: #000000; text-decoration-color: #000000\">: </span>\n",
       "<span style=\"color: #008000; text-decoration-color: #008000\">'projects/sqlalchemy_mate/patterns/s3backed_column/data/aHR0cHM6Ly93d3cuZXhhbXBsZS5jb20=/col=html/md5=3fcad0c630c89</span>\n",
       "<span style=\"color: #008000; text-decoration-color: #008000\">f84a266b0d828a97c33'</span>\n",
       "<span style=\"color: #000000; text-decoration-color: #000000\">            </span><span style=\"color: #000000; text-decoration-color: #000000; font-weight: bold\">}</span><span style=\"color: #000000; text-decoration-color: #000000\">,</span>\n",
       "<span style=\"color: #000000; text-decoration-color: #000000\">            </span><span style=\"color: #808000; text-decoration-color: #808000\">cleanup_new_kwargs</span><span style=\"color: #000000; text-decoration-color: #000000\">=</span><span style=\"color: #000000; text-decoration-color: #000000; font-weight: bold\">{</span>\n",
       "<span style=\"color: #000000; text-decoration-color: #000000\">                </span><span style=\"color: #008000; text-decoration-color: #008000\">'Bucket'</span><span style=\"color: #000000; text-decoration-color: #000000\">: </span><span style=\"color: #008000; text-decoration-color: #008000\">'bmt-app-dev-us-east-1-data'</span><span style=\"color: #000000; text-decoration-color: #000000\">,</span>\n",
       "<span style=\"color: #000000; text-decoration-color: #000000\">                </span><span style=\"color: #008000; text-decoration-color: #008000\">'Key'</span><span style=\"color: #000000; text-decoration-color: #000000\">: </span>\n",
       "<span style=\"color: #008000; text-decoration-color: #008000\">'projects/sqlalchemy_mate/patterns/s3backed_column/data/aHR0cHM6Ly93d3cuZXhhbXBsZS5jb20=/col=html/md5=1970166ef8b56</span>\n",
       "<span style=\"color: #008000; text-decoration-color: #008000\">a6221f64f063daec3e3'</span>\n",
       "<span style=\"color: #000000; text-decoration-color: #000000\">            </span><span style=\"color: #000000; text-decoration-color: #000000; font-weight: bold\">}</span>\n",
       "<span style=\"color: #000000; text-decoration-color: #000000\">        </span><span style=\"color: #000000; text-decoration-color: #000000; font-weight: bold\">)</span><span style=\"color: #000000; text-decoration-color: #000000\">,</span>\n",
       "<span style=\"color: #000000; text-decoration-color: #000000\">        </span><span style=\"color: #800080; text-decoration-color: #800080; font-weight: bold\">PutS3BackedColumnResult</span><span style=\"color: #000000; text-decoration-color: #000000; font-weight: bold\">(</span>\n",
       "<span style=\"color: #000000; text-decoration-color: #000000\">            </span><span style=\"color: #808000; text-decoration-color: #808000\">column</span><span style=\"color: #000000; text-decoration-color: #000000\">=</span><span style=\"color: #008000; text-decoration-color: #008000\">'image'</span><span style=\"color: #000000; text-decoration-color: #000000\">,</span>\n",
       "<span style=\"color: #000000; text-decoration-color: #000000\">            </span><span style=\"color: #808000; text-decoration-color: #808000\">old_s3_uri</span><span style=\"color: #000000; text-decoration-color: #000000\">=</span><span style=\"color: #008000; text-decoration-color: #008000\">'s3://bmt-app-dev-us-east-1-data/projects/sqlalchemy_mate/patterns/s3backed_column/data/aHR0</span>\n",
       "<span style=\"color: #008000; text-decoration-color: #008000\">cHM6Ly93d3cuZXhhbXBsZS5jb20=/col=image/md5=9a48fd95141e47117d14e1524a83ae0e'</span><span style=\"color: #000000; text-decoration-color: #000000\">,</span>\n",
       "<span style=\"color: #000000; text-decoration-color: #000000\">            </span><span style=\"color: #808000; text-decoration-color: #808000\">new_s3_uri</span><span style=\"color: #000000; text-decoration-color: #000000\">=</span><span style=\"color: #008000; text-decoration-color: #008000\">'s3://bmt-app-dev-us-east-1-data/projects/sqlalchemy_mate/patterns/s3backed_column/data/aHR0</span>\n",
       "<span style=\"color: #008000; text-decoration-color: #008000\">cHM6Ly93d3cuZXhhbXBsZS5jb20=/col=image/md5=b3459abcea88aaa928939311a8a2f9f0'</span><span style=\"color: #000000; text-decoration-color: #000000\">,</span>\n",
       "<span style=\"color: #000000; text-decoration-color: #000000\">            </span><span style=\"color: #808000; text-decoration-color: #808000\">executed</span><span style=\"color: #000000; text-decoration-color: #000000\">=</span><span style=\"color: #00ff00; text-decoration-color: #00ff00; font-style: italic\">True</span><span style=\"color: #000000; text-decoration-color: #000000\">,</span>\n",
       "<span style=\"color: #000000; text-decoration-color: #000000\">            </span><span style=\"color: #808000; text-decoration-color: #808000\">cleanup_function</span><span style=\"color: #000000; text-decoration-color: #000000\">=&lt;bound method ClientCreator._create_api_method.&lt;locals&gt;._api_call of </span>\n",
       "<span style=\"color: #000000; text-decoration-color: #000000\">&lt;botocore.client.S3 object at </span><span style=\"color: #008080; text-decoration-color: #008080; font-weight: bold\">0x108bfb340</span><span style=\"color: #000000; text-decoration-color: #000000\">&gt;</span><span style=\"font-weight: bold\">&gt;</span>,\n",
       "            <span style=\"color: #808000; text-decoration-color: #808000\">cleanup_old_kwargs</span>=<span style=\"font-weight: bold\">{</span>\n",
       "                <span style=\"color: #008000; text-decoration-color: #008000\">'Bucket'</span>: <span style=\"color: #008000; text-decoration-color: #008000\">'bmt-app-dev-us-east-1-data'</span>,\n",
       "                <span style=\"color: #008000; text-decoration-color: #008000\">'Key'</span>: \n",
       "<span style=\"color: #008000; text-decoration-color: #008000\">'projects/sqlalchemy_mate/patterns/s3backed_column/data/aHR0cHM6Ly93d3cuZXhhbXBsZS5jb20=/col=image/md5=9a48fd95141e</span>\n",
       "<span style=\"color: #008000; text-decoration-color: #008000\">47117d14e1524a83ae0e'</span>\n",
       "            <span style=\"font-weight: bold\">}</span>,\n",
       "            <span style=\"color: #808000; text-decoration-color: #808000\">cleanup_new_kwargs</span>=<span style=\"font-weight: bold\">{</span>\n",
       "                <span style=\"color: #008000; text-decoration-color: #008000\">'Bucket'</span>: <span style=\"color: #008000; text-decoration-color: #008000\">'bmt-app-dev-us-east-1-data'</span>,\n",
       "                <span style=\"color: #008000; text-decoration-color: #008000\">'Key'</span>: \n",
       "<span style=\"color: #008000; text-decoration-color: #008000\">'projects/sqlalchemy_mate/patterns/s3backed_column/data/aHR0cHM6Ly93d3cuZXhhbXBsZS5jb20=/col=image/md5=b3459abcea88</span>\n",
       "<span style=\"color: #008000; text-decoration-color: #008000\">aaa928939311a8a2f9f0'</span>\n",
       "            <span style=\"font-weight: bold\">}</span>\n",
       "        <span style=\"font-weight: bold\">)</span>\n",
       "    <span style=\"font-weight: bold\">]</span>\n",
       "<span style=\"font-weight: bold\">)</span>\n",
       "</pre>\n"
      ],
      "text/plain": [
       "\u001b[1;35mPutS3Result\u001b[0m\u001b[1m(\u001b[0m\n",
       "    \u001b[33ms3_client\u001b[0m=\u001b[1m<\u001b[0m\u001b[1;95mbotocore.client.S3\u001b[0m\u001b[39m object at \u001b[0m\u001b[1;36m0x108bfb340\u001b[0m\u001b[39m>,\u001b[0m\n",
       "\u001b[39m    \u001b[0m\u001b[33mput_s3backed_column_results\u001b[0m\u001b[39m=\u001b[0m\u001b[1;39m[\u001b[0m\n",
       "\u001b[39m        \u001b[0m\u001b[1;35mPutS3BackedColumnResult\u001b[0m\u001b[1;39m(\u001b[0m\n",
       "\u001b[39m            \u001b[0m\u001b[33mcolumn\u001b[0m\u001b[39m=\u001b[0m\u001b[32m'html'\u001b[0m\u001b[39m,\u001b[0m\n",
       "\u001b[39m            \u001b[0m\u001b[33mold_s3_uri\u001b[0m\u001b[39m=\u001b[0m\u001b[32m's3://bmt-app-dev-us-east-1-data/projects/sqlalchemy_mate/patterns/s3backed_column/data/\u001b[0m\u001b[32maHR0\u001b[0m\n",
       "\u001b[32mcHM6Ly93d3cuZXhhbXBsZS5jb20\u001b[0m\u001b[32m=/\u001b[0m\u001b[32mcol\u001b[0m\u001b[32m=\u001b[0m\u001b[32mhtml\u001b[0m\u001b[32m/\u001b[0m\u001b[32mmd5\u001b[0m\u001b[32m=\u001b[0m\u001b[32m3fcad0c630c89f84a266b0d828a97c33\u001b[0m\u001b[32m'\u001b[0m\u001b[39m,\u001b[0m\n",
       "\u001b[39m            \u001b[0m\u001b[33mnew_s3_uri\u001b[0m\u001b[39m=\u001b[0m\u001b[32m's3://bmt-app-dev-us-east-1-data/projects/sqlalchemy_mate/patterns/s3backed_column/data/\u001b[0m\u001b[32maHR0\u001b[0m\n",
       "\u001b[32mcHM6Ly93d3cuZXhhbXBsZS5jb20\u001b[0m\u001b[32m=/\u001b[0m\u001b[32mcol\u001b[0m\u001b[32m=\u001b[0m\u001b[32mhtml\u001b[0m\u001b[32m/\u001b[0m\u001b[32mmd5\u001b[0m\u001b[32m=\u001b[0m\u001b[32m1970166ef8b56a6221f64f063daec3e3\u001b[0m\u001b[32m'\u001b[0m\u001b[39m,\u001b[0m\n",
       "\u001b[39m            \u001b[0m\u001b[33mexecuted\u001b[0m\u001b[39m=\u001b[0m\u001b[3;92mTrue\u001b[0m\u001b[39m,\u001b[0m\n",
       "\u001b[39m            \u001b[0m\u001b[33mcleanup_function\u001b[0m\u001b[39m=<bound method ClientCreator._create_api_method.<locals>._api_call of \u001b[0m\n",
       "\u001b[39m<botocore.client.S3 object at \u001b[0m\u001b[1;36m0x108bfb340\u001b[0m\u001b[39m>>,\u001b[0m\n",
       "\u001b[39m            \u001b[0m\u001b[33mcleanup_old_kwargs\u001b[0m\u001b[39m=\u001b[0m\u001b[1;39m{\u001b[0m\n",
       "\u001b[39m                \u001b[0m\u001b[32m'Bucket'\u001b[0m\u001b[39m: \u001b[0m\u001b[32m'bmt-app-dev-us-east-1-data'\u001b[0m\u001b[39m,\u001b[0m\n",
       "\u001b[39m                \u001b[0m\u001b[32m'Key'\u001b[0m\u001b[39m: \u001b[0m\n",
       "\u001b[32m'projects/sqlalchemy_mate/patterns/s3backed_column/data/\u001b[0m\u001b[32maHR0cHM6Ly93d3cuZXhhbXBsZS5jb20\u001b[0m\u001b[32m=/\u001b[0m\u001b[32mcol\u001b[0m\u001b[32m=\u001b[0m\u001b[32mhtml\u001b[0m\u001b[32m/\u001b[0m\u001b[32mmd5\u001b[0m\u001b[32m=\u001b[0m\u001b[32m3fcad0c630c89\u001b[0m\n",
       "\u001b[32mf84a266b0d828a97c33\u001b[0m\u001b[32m'\u001b[0m\n",
       "\u001b[39m            \u001b[0m\u001b[1;39m}\u001b[0m\u001b[39m,\u001b[0m\n",
       "\u001b[39m            \u001b[0m\u001b[33mcleanup_new_kwargs\u001b[0m\u001b[39m=\u001b[0m\u001b[1;39m{\u001b[0m\n",
       "\u001b[39m                \u001b[0m\u001b[32m'Bucket'\u001b[0m\u001b[39m: \u001b[0m\u001b[32m'bmt-app-dev-us-east-1-data'\u001b[0m\u001b[39m,\u001b[0m\n",
       "\u001b[39m                \u001b[0m\u001b[32m'Key'\u001b[0m\u001b[39m: \u001b[0m\n",
       "\u001b[32m'projects/sqlalchemy_mate/patterns/s3backed_column/data/\u001b[0m\u001b[32maHR0cHM6Ly93d3cuZXhhbXBsZS5jb20\u001b[0m\u001b[32m=/\u001b[0m\u001b[32mcol\u001b[0m\u001b[32m=\u001b[0m\u001b[32mhtml\u001b[0m\u001b[32m/\u001b[0m\u001b[32mmd5\u001b[0m\u001b[32m=\u001b[0m\u001b[32m1970166ef8b56\u001b[0m\n",
       "\u001b[32ma6221f64f063daec3e3\u001b[0m\u001b[32m'\u001b[0m\n",
       "\u001b[39m            \u001b[0m\u001b[1;39m}\u001b[0m\n",
       "\u001b[39m        \u001b[0m\u001b[1;39m)\u001b[0m\u001b[39m,\u001b[0m\n",
       "\u001b[39m        \u001b[0m\u001b[1;35mPutS3BackedColumnResult\u001b[0m\u001b[1;39m(\u001b[0m\n",
       "\u001b[39m            \u001b[0m\u001b[33mcolumn\u001b[0m\u001b[39m=\u001b[0m\u001b[32m'image'\u001b[0m\u001b[39m,\u001b[0m\n",
       "\u001b[39m            \u001b[0m\u001b[33mold_s3_uri\u001b[0m\u001b[39m=\u001b[0m\u001b[32m's3://bmt-app-dev-us-east-1-data/projects/sqlalchemy_mate/patterns/s3backed_column/data/\u001b[0m\u001b[32maHR0\u001b[0m\n",
       "\u001b[32mcHM6Ly93d3cuZXhhbXBsZS5jb20\u001b[0m\u001b[32m=/\u001b[0m\u001b[32mcol\u001b[0m\u001b[32m=\u001b[0m\u001b[32mimage\u001b[0m\u001b[32m/\u001b[0m\u001b[32mmd5\u001b[0m\u001b[32m=\u001b[0m\u001b[32m9a48fd95141e47117d14e1524a83ae0e\u001b[0m\u001b[32m'\u001b[0m\u001b[39m,\u001b[0m\n",
       "\u001b[39m            \u001b[0m\u001b[33mnew_s3_uri\u001b[0m\u001b[39m=\u001b[0m\u001b[32m's3://bmt-app-dev-us-east-1-data/projects/sqlalchemy_mate/patterns/s3backed_column/data/\u001b[0m\u001b[32maHR0\u001b[0m\n",
       "\u001b[32mcHM6Ly93d3cuZXhhbXBsZS5jb20\u001b[0m\u001b[32m=/\u001b[0m\u001b[32mcol\u001b[0m\u001b[32m=\u001b[0m\u001b[32mimage\u001b[0m\u001b[32m/\u001b[0m\u001b[32mmd5\u001b[0m\u001b[32m=\u001b[0m\u001b[32mb3459abcea88aaa928939311a8a2f9f0\u001b[0m\u001b[32m'\u001b[0m\u001b[39m,\u001b[0m\n",
       "\u001b[39m            \u001b[0m\u001b[33mexecuted\u001b[0m\u001b[39m=\u001b[0m\u001b[3;92mTrue\u001b[0m\u001b[39m,\u001b[0m\n",
       "\u001b[39m            \u001b[0m\u001b[33mcleanup_function\u001b[0m\u001b[39m=<bound method ClientCreator._create_api_method.<locals>._api_call of \u001b[0m\n",
       "\u001b[39m<botocore.client.S3 object at \u001b[0m\u001b[1;36m0x108bfb340\u001b[0m\u001b[39m>\u001b[0m\u001b[1m>\u001b[0m,\n",
       "            \u001b[33mcleanup_old_kwargs\u001b[0m=\u001b[1m{\u001b[0m\n",
       "                \u001b[32m'Bucket'\u001b[0m: \u001b[32m'bmt-app-dev-us-east-1-data'\u001b[0m,\n",
       "                \u001b[32m'Key'\u001b[0m: \n",
       "\u001b[32m'projects/sqlalchemy_mate/patterns/s3backed_column/data/\u001b[0m\u001b[32maHR0cHM6Ly93d3cuZXhhbXBsZS5jb20\u001b[0m\u001b[32m=/\u001b[0m\u001b[32mcol\u001b[0m\u001b[32m=\u001b[0m\u001b[32mimage\u001b[0m\u001b[32m/\u001b[0m\u001b[32mmd5\u001b[0m\u001b[32m=\u001b[0m\u001b[32m9a48fd95141e\u001b[0m\n",
       "\u001b[32m47117d14e1524a83ae0e\u001b[0m\u001b[32m'\u001b[0m\n",
       "            \u001b[1m}\u001b[0m,\n",
       "            \u001b[33mcleanup_new_kwargs\u001b[0m=\u001b[1m{\u001b[0m\n",
       "                \u001b[32m'Bucket'\u001b[0m: \u001b[32m'bmt-app-dev-us-east-1-data'\u001b[0m,\n",
       "                \u001b[32m'Key'\u001b[0m: \n",
       "\u001b[32m'projects/sqlalchemy_mate/patterns/s3backed_column/data/\u001b[0m\u001b[32maHR0cHM6Ly93d3cuZXhhbXBsZS5jb20\u001b[0m\u001b[32m=/\u001b[0m\u001b[32mcol\u001b[0m\u001b[32m=\u001b[0m\u001b[32mimage\u001b[0m\u001b[32m/\u001b[0m\u001b[32mmd5\u001b[0m\u001b[32m=\u001b[0m\u001b[32mb3459abcea88\u001b[0m\n",
       "\u001b[32maaa928939311a8a2f9f0\u001b[0m\u001b[32m'\u001b[0m\n",
       "            \u001b[1m}\u001b[0m\n",
       "        \u001b[1m)\u001b[0m\n",
       "    \u001b[1m]\u001b[0m\n",
       "\u001b[1m)\u001b[0m\n"
      ]
     },
     "metadata": {},
     "output_type": "display_data"
    }
   ],
   "source": [
    "rprint(Panel(\"Write S3 first, then write DB\"))\n",
    "put_s3_result = aws_s3.put_s3(\n",
    "    api_calls=[\n",
    "        aws_s3.PutS3ApiCall(\n",
    "            column=\"html\",\n",
    "            binary=html_content_2,\n",
    "            # since this is an updates, you have to specify the old s3 object,\n",
    "            # even it is None. we need this information to clean up old s3 object\n",
    "            # when SQL UPDATE succeeded\n",
    "            old_s3_uri=task1.html,\n",
    "            extra_put_object_kwargs=html_additional_kwargs,\n",
    "        ),\n",
    "        aws_s3.PutS3ApiCall(\n",
    "            column=\"image\",\n",
    "            binary=image_content_2,\n",
    "            # since this is an updates, you have to specify the old s3 object,\n",
    "            # even it is None. we need this information to clean up old s3 object\n",
    "            # when SQL UPDATE succeeded\n",
    "            old_s3_uri=task1.image,\n",
    "            extra_put_object_kwargs=image_additional_kwargs,\n",
    "        ),\n",
    "    ],\n",
    "    s3_client=bsm.s3_client,\n",
    "    pk=url,\n",
    "    bucket=s3dir_root.bucket,\n",
    "    prefix=s3dir_root.key,\n",
    "    update_at=utc_now,\n",
    "    is_pk_url_safe=False,\n",
    ")\n",
    "rprint(put_s3_result)"
   ]
  },
  {
   "cell_type": "code",
   "execution_count": 18,
   "id": "d803f017-49cf-4ca5-8dae-176221856288",
   "metadata": {},
   "outputs": [
    {
     "data": {
      "text/html": [
       "<pre style=\"white-space:pre;overflow-x:auto;line-height:normal;font-family:Menlo,'DejaVu Sans Mono',consolas,'Courier New',monospace\">SQL UPDATE Failed! Error: <span style=\"color: #800080; text-decoration-color: #800080; font-weight: bold\">UserError</span><span style=\"font-weight: bold\">()</span>\n",
       "</pre>\n"
      ],
      "text/plain": [
       "SQL UPDATE Failed! Error: \u001b[1;35mUserError\u001b[0m\u001b[1m(\u001b[0m\u001b[1m)\u001b[0m\n"
      ]
     },
     "metadata": {},
     "output_type": "display_data"
    }
   ],
   "source": [
    "with orm.Session(engine) as ses:\n",
    "    try:\n",
    "        with ses.begin():\n",
    "            stmt = (\n",
    "                sa.update(Task).where(Task.url == url)\n",
    "                # this is a helper method that convert the put s3 results\n",
    "                # to INSERT / UPDATE values\n",
    "                .values(update_at=utc_now, **put_s3_result.to_values())\n",
    "            )\n",
    "            # intentionally raises an error to simulate a database failure\n",
    "            raise UserError()\n",
    "            ses.execute(stmt)\n",
    "        print(\"SQL UPDATE Succeeded!\")\n",
    "        # clean up old s3 object when update row succeeded\n",
    "        # if you don't want to do that, just don't run this method\n",
    "        put_s3_result.clean_up_old_s3_object_when_update_row_succeeded()\n",
    "    except Exception as e:\n",
    "        rprint(f\"SQL UPDATE Failed! Error: {e!r}\")\n",
    "        # clean up created s3 object when update row failed\n",
    "        # if you don't want to do that, just don't run this method\n",
    "        put_s3_result.clean_up_created_s3_object_when_create_or_update_row_failed()"
   ]
  },
  {
   "cell_type": "code",
   "execution_count": 19,
   "id": "06b5444f-6caf-4fd0-8715-085fed76d718",
   "metadata": {},
   "outputs": [
    {
     "data": {
      "text/html": [
       "<pre style=\"white-space:pre;overflow-x:auto;line-height:normal;font-family:Menlo,'DejaVu Sans Mono',consolas,'Courier New',monospace\">╭─────────────────────────────────────────────────────────────────────────────────────────────────────────────────╮\n",
       "│ Database row should not be updated                                                                              │\n",
       "╰─────────────────────────────────────────────────────────────────────────────────────────────────────────────────╯\n",
       "</pre>\n"
      ],
      "text/plain": [
       "╭─────────────────────────────────────────────────────────────────────────────────────────────────────────────────╮\n",
       "│ Database row should not be updated                                                                              │\n",
       "╰─────────────────────────────────────────────────────────────────────────────────────────────────────────────────╯\n"
      ]
     },
     "metadata": {},
     "output_type": "display_data"
    },
    {
     "data": {
      "text/html": [
       "<pre style=\"white-space:pre;overflow-x:auto;line-height:normal;font-family:Menlo,'DejaVu Sans Mono',consolas,'Courier New',monospace\"><span style=\"font-weight: bold\">{</span>\n",
       "    <span style=\"color: #008000; text-decoration-color: #008000\">'_sa_instance_state'</span>: <span style=\"font-weight: bold\">&lt;</span><span style=\"color: #ff00ff; text-decoration-color: #ff00ff; font-weight: bold\">sqlalchemy.orm.state.InstanceState</span><span style=\"color: #000000; text-decoration-color: #000000\"> object at </span><span style=\"color: #008080; text-decoration-color: #008080; font-weight: bold\">0x108b674c0</span><span style=\"font-weight: bold\">&gt;</span>,\n",
       "    <span style=\"color: #008000; text-decoration-color: #008000\">'update_at'</span>: <span style=\"color: #800080; text-decoration-color: #800080; font-weight: bold\">datetime.datetime</span><span style=\"font-weight: bold\">(</span><span style=\"color: #008080; text-decoration-color: #008080; font-weight: bold\">2024</span>, <span style=\"color: #008080; text-decoration-color: #008080; font-weight: bold\">5</span>, <span style=\"color: #008080; text-decoration-color: #008080; font-weight: bold\">27</span>, <span style=\"color: #008080; text-decoration-color: #008080; font-weight: bold\">5</span>, <span style=\"color: #008080; text-decoration-color: #008080; font-weight: bold\">24</span>, <span style=\"color: #008080; text-decoration-color: #008080; font-weight: bold\">22</span>, <span style=\"color: #008080; text-decoration-color: #008080; font-weight: bold\">781233</span><span style=\"font-weight: bold\">)</span>,\n",
       "    <span style=\"color: #008000; text-decoration-color: #008000\">'url'</span>: <span style=\"color: #008000; text-decoration-color: #008000\">'https://www.example.com'</span>,\n",
       "    <span style=\"color: #008000; text-decoration-color: #008000\">'image'</span>: \n",
       "<span style=\"color: #008000; text-decoration-color: #008000\">'s3://bmt-app-dev-us-east-1-data/projects/sqlalchemy_mate/patterns/s3backed_column/data/aHR0cHM6Ly93d3cuZXhhbXBsZS5</span>\n",
       "<span style=\"color: #008000; text-decoration-color: #008000\">jb20=/col=image/md5=9a48fd95141e47117d14e1524a83ae0e'</span>,\n",
       "    <span style=\"color: #008000; text-decoration-color: #008000\">'html'</span>: \n",
       "<span style=\"color: #008000; text-decoration-color: #008000\">'s3://bmt-app-dev-us-east-1-data/projects/sqlalchemy_mate/patterns/s3backed_column/data/aHR0cHM6Ly93d3cuZXhhbXBsZS5</span>\n",
       "<span style=\"color: #008000; text-decoration-color: #008000\">jb20=/col=html/md5=3fcad0c630c89f84a266b0d828a97c33'</span>\n",
       "<span style=\"font-weight: bold\">}</span>\n",
       "</pre>\n"
      ],
      "text/plain": [
       "\u001b[1m{\u001b[0m\n",
       "    \u001b[32m'_sa_instance_state'\u001b[0m: \u001b[1m<\u001b[0m\u001b[1;95msqlalchemy.orm.state.InstanceState\u001b[0m\u001b[39m object at \u001b[0m\u001b[1;36m0x108b674c0\u001b[0m\u001b[1m>\u001b[0m,\n",
       "    \u001b[32m'update_at'\u001b[0m: \u001b[1;35mdatetime.datetime\u001b[0m\u001b[1m(\u001b[0m\u001b[1;36m2024\u001b[0m, \u001b[1;36m5\u001b[0m, \u001b[1;36m27\u001b[0m, \u001b[1;36m5\u001b[0m, \u001b[1;36m24\u001b[0m, \u001b[1;36m22\u001b[0m, \u001b[1;36m781233\u001b[0m\u001b[1m)\u001b[0m,\n",
       "    \u001b[32m'url'\u001b[0m: \u001b[32m'https://www.example.com'\u001b[0m,\n",
       "    \u001b[32m'image'\u001b[0m: \n",
       "\u001b[32m's3://bmt-app-dev-us-east-1-data/projects/sqlalchemy_mate/patterns/s3backed_column/data/\u001b[0m\u001b[32maHR0cHM6Ly93d3cuZXhhbXBsZS5\u001b[0m\n",
       "\u001b[32mjb20\u001b[0m\u001b[32m=/\u001b[0m\u001b[32mcol\u001b[0m\u001b[32m=\u001b[0m\u001b[32mimage\u001b[0m\u001b[32m/\u001b[0m\u001b[32mmd5\u001b[0m\u001b[32m=\u001b[0m\u001b[32m9a48fd95141e47117d14e1524a83ae0e\u001b[0m\u001b[32m'\u001b[0m,\n",
       "    \u001b[32m'html'\u001b[0m: \n",
       "\u001b[32m's3://bmt-app-dev-us-east-1-data/projects/sqlalchemy_mate/patterns/s3backed_column/data/\u001b[0m\u001b[32maHR0cHM6Ly93d3cuZXhhbXBsZS5\u001b[0m\n",
       "\u001b[32mjb20\u001b[0m\u001b[32m=/\u001b[0m\u001b[32mcol\u001b[0m\u001b[32m=\u001b[0m\u001b[32mhtml\u001b[0m\u001b[32m/\u001b[0m\u001b[32mmd5\u001b[0m\u001b[32m=\u001b[0m\u001b[32m3fcad0c630c89f84a266b0d828a97c33\u001b[0m\u001b[32m'\u001b[0m\n",
       "\u001b[1m}\u001b[0m\n"
      ]
     },
     "metadata": {},
     "output_type": "display_data"
    },
    {
     "data": {
      "text/html": [
       "<pre style=\"white-space:pre;overflow-x:auto;line-height:normal;font-family:Menlo,'DejaVu Sans Mono',consolas,'Courier New',monospace\">╭─────────────────────────────────────────────────────────────────────────────────────────────────────────────────╮\n",
       "│ Old S3 object should still be there                                                                             │\n",
       "╰─────────────────────────────────────────────────────────────────────────────────────────────────────────────────╯\n",
       "</pre>\n"
      ],
      "text/plain": [
       "╭─────────────────────────────────────────────────────────────────────────────────────────────────────────────────╮\n",
       "│ Old S3 object should still be there                                                                             │\n",
       "╰─────────────────────────────────────────────────────────────────────────────────────────────────────────────────╯\n"
      ]
     },
     "metadata": {},
     "output_type": "display_data"
    },
    {
     "data": {
      "text/html": [
       "<pre style=\"white-space:pre;overflow-x:auto;line-height:normal;font-family:Menlo,'DejaVu Sans Mono',consolas,'Courier New',monospace\"><span style=\"color: #800080; text-decoration-color: #800080; font-weight: bold\">S3Path</span><span style=\"font-weight: bold\">(</span>task1.html<span style=\"font-weight: bold\">)</span><span style=\"color: #800080; text-decoration-color: #800080; font-weight: bold\">.read_bytes</span><span style=\"font-weight: bold\">()</span> = <span style=\"color: #008000; text-decoration-color: #008000\">b'&lt;html&gt;this is html 1&lt;/html&gt;'</span>\n",
       "</pre>\n"
      ],
      "text/plain": [
       "\u001b[1;35mS3Path\u001b[0m\u001b[1m(\u001b[0mtask1.html\u001b[1m)\u001b[0m\u001b[1;35m.read_bytes\u001b[0m\u001b[1m(\u001b[0m\u001b[1m)\u001b[0m = \u001b[32mb'\u001b[0m\u001b[32m<\u001b[0m\u001b[32mhtml\u001b[0m\u001b[32m>this is html 1</html\u001b[0m\u001b[32m>\u001b[0m\u001b[32m'\u001b[0m\n"
      ]
     },
     "metadata": {},
     "output_type": "display_data"
    },
    {
     "data": {
      "text/html": [
       "<pre style=\"white-space:pre;overflow-x:auto;line-height:normal;font-family:Menlo,'DejaVu Sans Mono',consolas,'Courier New',monospace\"><span style=\"color: #800080; text-decoration-color: #800080; font-weight: bold\">S3Path</span><span style=\"font-weight: bold\">(</span>task1.image<span style=\"font-weight: bold\">)</span><span style=\"color: #800080; text-decoration-color: #800080; font-weight: bold\">.read_bytes</span><span style=\"font-weight: bold\">()</span> = <span style=\"color: #008000; text-decoration-color: #008000\">b'this is image 1'</span>\n",
       "</pre>\n"
      ],
      "text/plain": [
       "\u001b[1;35mS3Path\u001b[0m\u001b[1m(\u001b[0mtask1.image\u001b[1m)\u001b[0m\u001b[1;35m.read_bytes\u001b[0m\u001b[1m(\u001b[0m\u001b[1m)\u001b[0m = \u001b[32mb'this is image 1'\u001b[0m\n"
      ]
     },
     "metadata": {},
     "output_type": "display_data"
    },
    {
     "data": {
      "text/html": [
       "<pre style=\"white-space:pre;overflow-x:auto;line-height:normal;font-family:Menlo,'DejaVu Sans Mono',consolas,'Courier New',monospace\">╭─────────────────────────────────────────────────────────────────────────────────────────────────────────────────╮\n",
       "│ New S3 object should be deleted                                                                                 │\n",
       "╰─────────────────────────────────────────────────────────────────────────────────────────────────────────────────╯\n",
       "</pre>\n"
      ],
      "text/plain": [
       "╭─────────────────────────────────────────────────────────────────────────────────────────────────────────────────╮\n",
       "│ New S3 object should be deleted                                                                                 │\n",
       "╰─────────────────────────────────────────────────────────────────────────────────────────────────────────────────╯\n"
      ]
     },
     "metadata": {},
     "output_type": "display_data"
    },
    {
     "data": {
      "text/html": [
       "<pre style=\"white-space:pre;overflow-x:auto;line-height:normal;font-family:Menlo,'DejaVu Sans Mono',consolas,'Courier New',monospace\"><span style=\"color: #800080; text-decoration-color: #800080; font-weight: bold\">S3Path</span><span style=\"font-weight: bold\">(</span>html_s3_uri<span style=\"font-weight: bold\">)</span><span style=\"color: #800080; text-decoration-color: #800080; font-weight: bold\">.exists</span><span style=\"font-weight: bold\">()</span> = <span style=\"color: #ff0000; text-decoration-color: #ff0000; font-style: italic\">False</span>\n",
       "</pre>\n"
      ],
      "text/plain": [
       "\u001b[1;35mS3Path\u001b[0m\u001b[1m(\u001b[0mhtml_s3_uri\u001b[1m)\u001b[0m\u001b[1;35m.exists\u001b[0m\u001b[1m(\u001b[0m\u001b[1m)\u001b[0m = \u001b[3;91mFalse\u001b[0m\n"
      ]
     },
     "metadata": {},
     "output_type": "display_data"
    },
    {
     "data": {
      "text/html": [
       "<pre style=\"white-space:pre;overflow-x:auto;line-height:normal;font-family:Menlo,'DejaVu Sans Mono',consolas,'Courier New',monospace\"><span style=\"color: #800080; text-decoration-color: #800080; font-weight: bold\">S3Path</span><span style=\"font-weight: bold\">(</span>image_s3_uri<span style=\"font-weight: bold\">)</span><span style=\"color: #800080; text-decoration-color: #800080; font-weight: bold\">.exists</span><span style=\"font-weight: bold\">()</span> = <span style=\"color: #ff0000; text-decoration-color: #ff0000; font-style: italic\">False</span>\n",
       "</pre>\n"
      ],
      "text/plain": [
       "\u001b[1;35mS3Path\u001b[0m\u001b[1m(\u001b[0mimage_s3_uri\u001b[1m)\u001b[0m\u001b[1;35m.exists\u001b[0m\u001b[1m(\u001b[0m\u001b[1m)\u001b[0m = \u001b[3;91mFalse\u001b[0m\n"
      ]
     },
     "metadata": {},
     "output_type": "display_data"
    }
   ],
   "source": [
    "rprint(Panel(\"Database row should not be updated\"))\n",
    "task2: Task = ses.get(Task, url)\n",
    "rprint(task2.__dict__)\n",
    "assert task2.update_at < utc_now\n",
    "rprint(Panel(\"Old S3 object should still be there\"))\n",
    "rprint(f\"{S3Path(task1.html).read_bytes() = }\")\n",
    "rprint(f\"{S3Path(task1.image).read_bytes() = }\")\n",
    "assert S3Path(task1.html).read_bytes() == html_content_1\n",
    "assert S3Path(task1.image).read_bytes() == image_content_1\n",
    "rprint(Panel(\"New S3 object should be deleted\"))\n",
    "values = put_s3_result.to_values()\n",
    "html_s3_uri = values[\"html\"]\n",
    "image_s3_uri = values[\"image\"]\n",
    "rprint(f\"{S3Path(html_s3_uri).exists() = }\")\n",
    "rprint(f\"{S3Path(image_s3_uri).exists() = }\")\n",
    "assert S3Path(html_s3_uri).exists() is False\n",
    "assert S3Path(image_s3_uri).exists() is False"
   ]
  },
  {
   "cell_type": "markdown",
   "id": "7ec211aa-c9fc-436e-8399-f50e834eb7f7",
   "metadata": {},
   "source": [
    "## Update a Row and SQL UPDATE succeeded"
   ]
  },
  {
   "cell_type": "code",
   "execution_count": 20,
   "id": "9ec4114e-50a6-473b-84a8-8f46adf25460",
   "metadata": {},
   "outputs": [
    {
     "data": {
      "text/html": [
       "<pre style=\"white-space:pre;overflow-x:auto;line-height:normal;font-family:Menlo,'DejaVu Sans Mono',consolas,'Courier New',monospace\"><span style=\"color: #008000; text-decoration-color: #008000; font-weight: bold\">╔═════════════════════════════════════════════════════════════════════════════════════════════════════════════════╗</span>\n",
       "<span style=\"color: #008000; text-decoration-color: #008000; font-weight: bold\">║</span> Update a Row and SQL UPDATE succeeded                                                                           <span style=\"color: #008000; text-decoration-color: #008000; font-weight: bold\">║</span>\n",
       "<span style=\"color: #008000; text-decoration-color: #008000; font-weight: bold\">╚═════════════════════════════════════════════════════════════════════════════════════════════════════════════════╝</span>\n",
       "</pre>\n"
      ],
      "text/plain": [
       "\u001b[1;32m╔═════════════════════════════════════════════════════════════════════════════════════════════════════════════════╗\u001b[0m\n",
       "\u001b[1;32m║\u001b[0m Update a Row and SQL UPDATE succeeded                                                                           \u001b[1;32m║\u001b[0m\n",
       "\u001b[1;32m╚═════════════════════════════════════════════════════════════════════════════════════════════════════════════════╝\u001b[0m\n"
      ]
     },
     "metadata": {},
     "output_type": "display_data"
    }
   ],
   "source": [
    "rprint(\n",
    "    Panel(\n",
    "        \"Update a Row and SQL UPDATE succeeded\",\n",
    "        box=box.DOUBLE,\n",
    "        border_style=\"bold green\",\n",
    "    )\n",
    ")\n",
    "utc_now = get_utc_now()"
   ]
  },
  {
   "cell_type": "code",
   "execution_count": 21,
   "id": "d717d29a-f06c-4a09-834d-db423fb5fff4",
   "metadata": {},
   "outputs": [
    {
     "data": {
      "text/html": [
       "<pre style=\"white-space:pre;overflow-x:auto;line-height:normal;font-family:Menlo,'DejaVu Sans Mono',consolas,'Courier New',monospace\">╭─────────────────────────────────────────────────────────────────────────────────────────────────────────────────╮\n",
       "│ Write S3 first, then write DB                                                                                   │\n",
       "╰─────────────────────────────────────────────────────────────────────────────────────────────────────────────────╯\n",
       "</pre>\n"
      ],
      "text/plain": [
       "╭─────────────────────────────────────────────────────────────────────────────────────────────────────────────────╮\n",
       "│ Write S3 first, then write DB                                                                                   │\n",
       "╰─────────────────────────────────────────────────────────────────────────────────────────────────────────────────╯\n"
      ]
     },
     "metadata": {},
     "output_type": "display_data"
    },
    {
     "data": {
      "text/html": [
       "<pre style=\"white-space:pre;overflow-x:auto;line-height:normal;font-family:Menlo,'DejaVu Sans Mono',consolas,'Courier New',monospace\"><span style=\"color: #800080; text-decoration-color: #800080; font-weight: bold\">PutS3Result</span><span style=\"font-weight: bold\">(</span>\n",
       "    <span style=\"color: #808000; text-decoration-color: #808000\">s3_client</span>=<span style=\"font-weight: bold\">&lt;</span><span style=\"color: #ff00ff; text-decoration-color: #ff00ff; font-weight: bold\">botocore.client.S3</span><span style=\"color: #000000; text-decoration-color: #000000\"> object at </span><span style=\"color: #008080; text-decoration-color: #008080; font-weight: bold\">0x108bfb340</span><span style=\"color: #000000; text-decoration-color: #000000\">&gt;,</span>\n",
       "<span style=\"color: #000000; text-decoration-color: #000000\">    </span><span style=\"color: #808000; text-decoration-color: #808000\">put_s3backed_column_results</span><span style=\"color: #000000; text-decoration-color: #000000\">=</span><span style=\"color: #000000; text-decoration-color: #000000; font-weight: bold\">[</span>\n",
       "<span style=\"color: #000000; text-decoration-color: #000000\">        </span><span style=\"color: #800080; text-decoration-color: #800080; font-weight: bold\">PutS3BackedColumnResult</span><span style=\"color: #000000; text-decoration-color: #000000; font-weight: bold\">(</span>\n",
       "<span style=\"color: #000000; text-decoration-color: #000000\">            </span><span style=\"color: #808000; text-decoration-color: #808000\">column</span><span style=\"color: #000000; text-decoration-color: #000000\">=</span><span style=\"color: #008000; text-decoration-color: #008000\">'html'</span><span style=\"color: #000000; text-decoration-color: #000000\">,</span>\n",
       "<span style=\"color: #000000; text-decoration-color: #000000\">            </span><span style=\"color: #808000; text-decoration-color: #808000\">old_s3_uri</span><span style=\"color: #000000; text-decoration-color: #000000\">=</span><span style=\"color: #008000; text-decoration-color: #008000\">'s3://bmt-app-dev-us-east-1-data/projects/sqlalchemy_mate/patterns/s3backed_column/data/aHR0</span>\n",
       "<span style=\"color: #008000; text-decoration-color: #008000\">cHM6Ly93d3cuZXhhbXBsZS5jb20=/col=html/md5=3fcad0c630c89f84a266b0d828a97c33'</span><span style=\"color: #000000; text-decoration-color: #000000\">,</span>\n",
       "<span style=\"color: #000000; text-decoration-color: #000000\">            </span><span style=\"color: #808000; text-decoration-color: #808000\">new_s3_uri</span><span style=\"color: #000000; text-decoration-color: #000000\">=</span><span style=\"color: #008000; text-decoration-color: #008000\">'s3://bmt-app-dev-us-east-1-data/projects/sqlalchemy_mate/patterns/s3backed_column/data/aHR0</span>\n",
       "<span style=\"color: #008000; text-decoration-color: #008000\">cHM6Ly93d3cuZXhhbXBsZS5jb20=/col=html/md5=1970166ef8b56a6221f64f063daec3e3'</span><span style=\"color: #000000; text-decoration-color: #000000\">,</span>\n",
       "<span style=\"color: #000000; text-decoration-color: #000000\">            </span><span style=\"color: #808000; text-decoration-color: #808000\">executed</span><span style=\"color: #000000; text-decoration-color: #000000\">=</span><span style=\"color: #00ff00; text-decoration-color: #00ff00; font-style: italic\">True</span><span style=\"color: #000000; text-decoration-color: #000000\">,</span>\n",
       "<span style=\"color: #000000; text-decoration-color: #000000\">            </span><span style=\"color: #808000; text-decoration-color: #808000\">cleanup_function</span><span style=\"color: #000000; text-decoration-color: #000000\">=&lt;bound method ClientCreator._create_api_method.&lt;locals&gt;._api_call of </span>\n",
       "<span style=\"color: #000000; text-decoration-color: #000000\">&lt;botocore.client.S3 object at </span><span style=\"color: #008080; text-decoration-color: #008080; font-weight: bold\">0x108bfb340</span><span style=\"color: #000000; text-decoration-color: #000000\">&gt;&gt;,</span>\n",
       "<span style=\"color: #000000; text-decoration-color: #000000\">            </span><span style=\"color: #808000; text-decoration-color: #808000\">cleanup_old_kwargs</span><span style=\"color: #000000; text-decoration-color: #000000\">=</span><span style=\"color: #000000; text-decoration-color: #000000; font-weight: bold\">{</span>\n",
       "<span style=\"color: #000000; text-decoration-color: #000000\">                </span><span style=\"color: #008000; text-decoration-color: #008000\">'Bucket'</span><span style=\"color: #000000; text-decoration-color: #000000\">: </span><span style=\"color: #008000; text-decoration-color: #008000\">'bmt-app-dev-us-east-1-data'</span><span style=\"color: #000000; text-decoration-color: #000000\">,</span>\n",
       "<span style=\"color: #000000; text-decoration-color: #000000\">                </span><span style=\"color: #008000; text-decoration-color: #008000\">'Key'</span><span style=\"color: #000000; text-decoration-color: #000000\">: </span>\n",
       "<span style=\"color: #008000; text-decoration-color: #008000\">'projects/sqlalchemy_mate/patterns/s3backed_column/data/aHR0cHM6Ly93d3cuZXhhbXBsZS5jb20=/col=html/md5=3fcad0c630c89</span>\n",
       "<span style=\"color: #008000; text-decoration-color: #008000\">f84a266b0d828a97c33'</span>\n",
       "<span style=\"color: #000000; text-decoration-color: #000000\">            </span><span style=\"color: #000000; text-decoration-color: #000000; font-weight: bold\">}</span><span style=\"color: #000000; text-decoration-color: #000000\">,</span>\n",
       "<span style=\"color: #000000; text-decoration-color: #000000\">            </span><span style=\"color: #808000; text-decoration-color: #808000\">cleanup_new_kwargs</span><span style=\"color: #000000; text-decoration-color: #000000\">=</span><span style=\"color: #000000; text-decoration-color: #000000; font-weight: bold\">{</span>\n",
       "<span style=\"color: #000000; text-decoration-color: #000000\">                </span><span style=\"color: #008000; text-decoration-color: #008000\">'Bucket'</span><span style=\"color: #000000; text-decoration-color: #000000\">: </span><span style=\"color: #008000; text-decoration-color: #008000\">'bmt-app-dev-us-east-1-data'</span><span style=\"color: #000000; text-decoration-color: #000000\">,</span>\n",
       "<span style=\"color: #000000; text-decoration-color: #000000\">                </span><span style=\"color: #008000; text-decoration-color: #008000\">'Key'</span><span style=\"color: #000000; text-decoration-color: #000000\">: </span>\n",
       "<span style=\"color: #008000; text-decoration-color: #008000\">'projects/sqlalchemy_mate/patterns/s3backed_column/data/aHR0cHM6Ly93d3cuZXhhbXBsZS5jb20=/col=html/md5=1970166ef8b56</span>\n",
       "<span style=\"color: #008000; text-decoration-color: #008000\">a6221f64f063daec3e3'</span>\n",
       "<span style=\"color: #000000; text-decoration-color: #000000\">            </span><span style=\"color: #000000; text-decoration-color: #000000; font-weight: bold\">}</span>\n",
       "<span style=\"color: #000000; text-decoration-color: #000000\">        </span><span style=\"color: #000000; text-decoration-color: #000000; font-weight: bold\">)</span><span style=\"color: #000000; text-decoration-color: #000000\">,</span>\n",
       "<span style=\"color: #000000; text-decoration-color: #000000\">        </span><span style=\"color: #800080; text-decoration-color: #800080; font-weight: bold\">PutS3BackedColumnResult</span><span style=\"color: #000000; text-decoration-color: #000000; font-weight: bold\">(</span>\n",
       "<span style=\"color: #000000; text-decoration-color: #000000\">            </span><span style=\"color: #808000; text-decoration-color: #808000\">column</span><span style=\"color: #000000; text-decoration-color: #000000\">=</span><span style=\"color: #008000; text-decoration-color: #008000\">'image'</span><span style=\"color: #000000; text-decoration-color: #000000\">,</span>\n",
       "<span style=\"color: #000000; text-decoration-color: #000000\">            </span><span style=\"color: #808000; text-decoration-color: #808000\">old_s3_uri</span><span style=\"color: #000000; text-decoration-color: #000000\">=</span><span style=\"color: #008000; text-decoration-color: #008000\">'s3://bmt-app-dev-us-east-1-data/projects/sqlalchemy_mate/patterns/s3backed_column/data/aHR0</span>\n",
       "<span style=\"color: #008000; text-decoration-color: #008000\">cHM6Ly93d3cuZXhhbXBsZS5jb20=/col=image/md5=9a48fd95141e47117d14e1524a83ae0e'</span><span style=\"color: #000000; text-decoration-color: #000000\">,</span>\n",
       "<span style=\"color: #000000; text-decoration-color: #000000\">            </span><span style=\"color: #808000; text-decoration-color: #808000\">new_s3_uri</span><span style=\"color: #000000; text-decoration-color: #000000\">=</span><span style=\"color: #008000; text-decoration-color: #008000\">'s3://bmt-app-dev-us-east-1-data/projects/sqlalchemy_mate/patterns/s3backed_column/data/aHR0</span>\n",
       "<span style=\"color: #008000; text-decoration-color: #008000\">cHM6Ly93d3cuZXhhbXBsZS5jb20=/col=image/md5=b3459abcea88aaa928939311a8a2f9f0'</span><span style=\"color: #000000; text-decoration-color: #000000\">,</span>\n",
       "<span style=\"color: #000000; text-decoration-color: #000000\">            </span><span style=\"color: #808000; text-decoration-color: #808000\">executed</span><span style=\"color: #000000; text-decoration-color: #000000\">=</span><span style=\"color: #00ff00; text-decoration-color: #00ff00; font-style: italic\">True</span><span style=\"color: #000000; text-decoration-color: #000000\">,</span>\n",
       "<span style=\"color: #000000; text-decoration-color: #000000\">            </span><span style=\"color: #808000; text-decoration-color: #808000\">cleanup_function</span><span style=\"color: #000000; text-decoration-color: #000000\">=&lt;bound method ClientCreator._create_api_method.&lt;locals&gt;._api_call of </span>\n",
       "<span style=\"color: #000000; text-decoration-color: #000000\">&lt;botocore.client.S3 object at </span><span style=\"color: #008080; text-decoration-color: #008080; font-weight: bold\">0x108bfb340</span><span style=\"color: #000000; text-decoration-color: #000000\">&gt;</span><span style=\"font-weight: bold\">&gt;</span>,\n",
       "            <span style=\"color: #808000; text-decoration-color: #808000\">cleanup_old_kwargs</span>=<span style=\"font-weight: bold\">{</span>\n",
       "                <span style=\"color: #008000; text-decoration-color: #008000\">'Bucket'</span>: <span style=\"color: #008000; text-decoration-color: #008000\">'bmt-app-dev-us-east-1-data'</span>,\n",
       "                <span style=\"color: #008000; text-decoration-color: #008000\">'Key'</span>: \n",
       "<span style=\"color: #008000; text-decoration-color: #008000\">'projects/sqlalchemy_mate/patterns/s3backed_column/data/aHR0cHM6Ly93d3cuZXhhbXBsZS5jb20=/col=image/md5=9a48fd95141e</span>\n",
       "<span style=\"color: #008000; text-decoration-color: #008000\">47117d14e1524a83ae0e'</span>\n",
       "            <span style=\"font-weight: bold\">}</span>,\n",
       "            <span style=\"color: #808000; text-decoration-color: #808000\">cleanup_new_kwargs</span>=<span style=\"font-weight: bold\">{</span>\n",
       "                <span style=\"color: #008000; text-decoration-color: #008000\">'Bucket'</span>: <span style=\"color: #008000; text-decoration-color: #008000\">'bmt-app-dev-us-east-1-data'</span>,\n",
       "                <span style=\"color: #008000; text-decoration-color: #008000\">'Key'</span>: \n",
       "<span style=\"color: #008000; text-decoration-color: #008000\">'projects/sqlalchemy_mate/patterns/s3backed_column/data/aHR0cHM6Ly93d3cuZXhhbXBsZS5jb20=/col=image/md5=b3459abcea88</span>\n",
       "<span style=\"color: #008000; text-decoration-color: #008000\">aaa928939311a8a2f9f0'</span>\n",
       "            <span style=\"font-weight: bold\">}</span>\n",
       "        <span style=\"font-weight: bold\">)</span>\n",
       "    <span style=\"font-weight: bold\">]</span>\n",
       "<span style=\"font-weight: bold\">)</span>\n",
       "</pre>\n"
      ],
      "text/plain": [
       "\u001b[1;35mPutS3Result\u001b[0m\u001b[1m(\u001b[0m\n",
       "    \u001b[33ms3_client\u001b[0m=\u001b[1m<\u001b[0m\u001b[1;95mbotocore.client.S3\u001b[0m\u001b[39m object at \u001b[0m\u001b[1;36m0x108bfb340\u001b[0m\u001b[39m>,\u001b[0m\n",
       "\u001b[39m    \u001b[0m\u001b[33mput_s3backed_column_results\u001b[0m\u001b[39m=\u001b[0m\u001b[1;39m[\u001b[0m\n",
       "\u001b[39m        \u001b[0m\u001b[1;35mPutS3BackedColumnResult\u001b[0m\u001b[1;39m(\u001b[0m\n",
       "\u001b[39m            \u001b[0m\u001b[33mcolumn\u001b[0m\u001b[39m=\u001b[0m\u001b[32m'html'\u001b[0m\u001b[39m,\u001b[0m\n",
       "\u001b[39m            \u001b[0m\u001b[33mold_s3_uri\u001b[0m\u001b[39m=\u001b[0m\u001b[32m's3://bmt-app-dev-us-east-1-data/projects/sqlalchemy_mate/patterns/s3backed_column/data/\u001b[0m\u001b[32maHR0\u001b[0m\n",
       "\u001b[32mcHM6Ly93d3cuZXhhbXBsZS5jb20\u001b[0m\u001b[32m=/\u001b[0m\u001b[32mcol\u001b[0m\u001b[32m=\u001b[0m\u001b[32mhtml\u001b[0m\u001b[32m/\u001b[0m\u001b[32mmd5\u001b[0m\u001b[32m=\u001b[0m\u001b[32m3fcad0c630c89f84a266b0d828a97c33\u001b[0m\u001b[32m'\u001b[0m\u001b[39m,\u001b[0m\n",
       "\u001b[39m            \u001b[0m\u001b[33mnew_s3_uri\u001b[0m\u001b[39m=\u001b[0m\u001b[32m's3://bmt-app-dev-us-east-1-data/projects/sqlalchemy_mate/patterns/s3backed_column/data/\u001b[0m\u001b[32maHR0\u001b[0m\n",
       "\u001b[32mcHM6Ly93d3cuZXhhbXBsZS5jb20\u001b[0m\u001b[32m=/\u001b[0m\u001b[32mcol\u001b[0m\u001b[32m=\u001b[0m\u001b[32mhtml\u001b[0m\u001b[32m/\u001b[0m\u001b[32mmd5\u001b[0m\u001b[32m=\u001b[0m\u001b[32m1970166ef8b56a6221f64f063daec3e3\u001b[0m\u001b[32m'\u001b[0m\u001b[39m,\u001b[0m\n",
       "\u001b[39m            \u001b[0m\u001b[33mexecuted\u001b[0m\u001b[39m=\u001b[0m\u001b[3;92mTrue\u001b[0m\u001b[39m,\u001b[0m\n",
       "\u001b[39m            \u001b[0m\u001b[33mcleanup_function\u001b[0m\u001b[39m=<bound method ClientCreator._create_api_method.<locals>._api_call of \u001b[0m\n",
       "\u001b[39m<botocore.client.S3 object at \u001b[0m\u001b[1;36m0x108bfb340\u001b[0m\u001b[39m>>,\u001b[0m\n",
       "\u001b[39m            \u001b[0m\u001b[33mcleanup_old_kwargs\u001b[0m\u001b[39m=\u001b[0m\u001b[1;39m{\u001b[0m\n",
       "\u001b[39m                \u001b[0m\u001b[32m'Bucket'\u001b[0m\u001b[39m: \u001b[0m\u001b[32m'bmt-app-dev-us-east-1-data'\u001b[0m\u001b[39m,\u001b[0m\n",
       "\u001b[39m                \u001b[0m\u001b[32m'Key'\u001b[0m\u001b[39m: \u001b[0m\n",
       "\u001b[32m'projects/sqlalchemy_mate/patterns/s3backed_column/data/\u001b[0m\u001b[32maHR0cHM6Ly93d3cuZXhhbXBsZS5jb20\u001b[0m\u001b[32m=/\u001b[0m\u001b[32mcol\u001b[0m\u001b[32m=\u001b[0m\u001b[32mhtml\u001b[0m\u001b[32m/\u001b[0m\u001b[32mmd5\u001b[0m\u001b[32m=\u001b[0m\u001b[32m3fcad0c630c89\u001b[0m\n",
       "\u001b[32mf84a266b0d828a97c33\u001b[0m\u001b[32m'\u001b[0m\n",
       "\u001b[39m            \u001b[0m\u001b[1;39m}\u001b[0m\u001b[39m,\u001b[0m\n",
       "\u001b[39m            \u001b[0m\u001b[33mcleanup_new_kwargs\u001b[0m\u001b[39m=\u001b[0m\u001b[1;39m{\u001b[0m\n",
       "\u001b[39m                \u001b[0m\u001b[32m'Bucket'\u001b[0m\u001b[39m: \u001b[0m\u001b[32m'bmt-app-dev-us-east-1-data'\u001b[0m\u001b[39m,\u001b[0m\n",
       "\u001b[39m                \u001b[0m\u001b[32m'Key'\u001b[0m\u001b[39m: \u001b[0m\n",
       "\u001b[32m'projects/sqlalchemy_mate/patterns/s3backed_column/data/\u001b[0m\u001b[32maHR0cHM6Ly93d3cuZXhhbXBsZS5jb20\u001b[0m\u001b[32m=/\u001b[0m\u001b[32mcol\u001b[0m\u001b[32m=\u001b[0m\u001b[32mhtml\u001b[0m\u001b[32m/\u001b[0m\u001b[32mmd5\u001b[0m\u001b[32m=\u001b[0m\u001b[32m1970166ef8b56\u001b[0m\n",
       "\u001b[32ma6221f64f063daec3e3\u001b[0m\u001b[32m'\u001b[0m\n",
       "\u001b[39m            \u001b[0m\u001b[1;39m}\u001b[0m\n",
       "\u001b[39m        \u001b[0m\u001b[1;39m)\u001b[0m\u001b[39m,\u001b[0m\n",
       "\u001b[39m        \u001b[0m\u001b[1;35mPutS3BackedColumnResult\u001b[0m\u001b[1;39m(\u001b[0m\n",
       "\u001b[39m            \u001b[0m\u001b[33mcolumn\u001b[0m\u001b[39m=\u001b[0m\u001b[32m'image'\u001b[0m\u001b[39m,\u001b[0m\n",
       "\u001b[39m            \u001b[0m\u001b[33mold_s3_uri\u001b[0m\u001b[39m=\u001b[0m\u001b[32m's3://bmt-app-dev-us-east-1-data/projects/sqlalchemy_mate/patterns/s3backed_column/data/\u001b[0m\u001b[32maHR0\u001b[0m\n",
       "\u001b[32mcHM6Ly93d3cuZXhhbXBsZS5jb20\u001b[0m\u001b[32m=/\u001b[0m\u001b[32mcol\u001b[0m\u001b[32m=\u001b[0m\u001b[32mimage\u001b[0m\u001b[32m/\u001b[0m\u001b[32mmd5\u001b[0m\u001b[32m=\u001b[0m\u001b[32m9a48fd95141e47117d14e1524a83ae0e\u001b[0m\u001b[32m'\u001b[0m\u001b[39m,\u001b[0m\n",
       "\u001b[39m            \u001b[0m\u001b[33mnew_s3_uri\u001b[0m\u001b[39m=\u001b[0m\u001b[32m's3://bmt-app-dev-us-east-1-data/projects/sqlalchemy_mate/patterns/s3backed_column/data/\u001b[0m\u001b[32maHR0\u001b[0m\n",
       "\u001b[32mcHM6Ly93d3cuZXhhbXBsZS5jb20\u001b[0m\u001b[32m=/\u001b[0m\u001b[32mcol\u001b[0m\u001b[32m=\u001b[0m\u001b[32mimage\u001b[0m\u001b[32m/\u001b[0m\u001b[32mmd5\u001b[0m\u001b[32m=\u001b[0m\u001b[32mb3459abcea88aaa928939311a8a2f9f0\u001b[0m\u001b[32m'\u001b[0m\u001b[39m,\u001b[0m\n",
       "\u001b[39m            \u001b[0m\u001b[33mexecuted\u001b[0m\u001b[39m=\u001b[0m\u001b[3;92mTrue\u001b[0m\u001b[39m,\u001b[0m\n",
       "\u001b[39m            \u001b[0m\u001b[33mcleanup_function\u001b[0m\u001b[39m=<bound method ClientCreator._create_api_method.<locals>._api_call of \u001b[0m\n",
       "\u001b[39m<botocore.client.S3 object at \u001b[0m\u001b[1;36m0x108bfb340\u001b[0m\u001b[39m>\u001b[0m\u001b[1m>\u001b[0m,\n",
       "            \u001b[33mcleanup_old_kwargs\u001b[0m=\u001b[1m{\u001b[0m\n",
       "                \u001b[32m'Bucket'\u001b[0m: \u001b[32m'bmt-app-dev-us-east-1-data'\u001b[0m,\n",
       "                \u001b[32m'Key'\u001b[0m: \n",
       "\u001b[32m'projects/sqlalchemy_mate/patterns/s3backed_column/data/\u001b[0m\u001b[32maHR0cHM6Ly93d3cuZXhhbXBsZS5jb20\u001b[0m\u001b[32m=/\u001b[0m\u001b[32mcol\u001b[0m\u001b[32m=\u001b[0m\u001b[32mimage\u001b[0m\u001b[32m/\u001b[0m\u001b[32mmd5\u001b[0m\u001b[32m=\u001b[0m\u001b[32m9a48fd95141e\u001b[0m\n",
       "\u001b[32m47117d14e1524a83ae0e\u001b[0m\u001b[32m'\u001b[0m\n",
       "            \u001b[1m}\u001b[0m,\n",
       "            \u001b[33mcleanup_new_kwargs\u001b[0m=\u001b[1m{\u001b[0m\n",
       "                \u001b[32m'Bucket'\u001b[0m: \u001b[32m'bmt-app-dev-us-east-1-data'\u001b[0m,\n",
       "                \u001b[32m'Key'\u001b[0m: \n",
       "\u001b[32m'projects/sqlalchemy_mate/patterns/s3backed_column/data/\u001b[0m\u001b[32maHR0cHM6Ly93d3cuZXhhbXBsZS5jb20\u001b[0m\u001b[32m=/\u001b[0m\u001b[32mcol\u001b[0m\u001b[32m=\u001b[0m\u001b[32mimage\u001b[0m\u001b[32m/\u001b[0m\u001b[32mmd5\u001b[0m\u001b[32m=\u001b[0m\u001b[32mb3459abcea88\u001b[0m\n",
       "\u001b[32maaa928939311a8a2f9f0\u001b[0m\u001b[32m'\u001b[0m\n",
       "            \u001b[1m}\u001b[0m\n",
       "        \u001b[1m)\u001b[0m\n",
       "    \u001b[1m]\u001b[0m\n",
       "\u001b[1m)\u001b[0m\n"
      ]
     },
     "metadata": {},
     "output_type": "display_data"
    }
   ],
   "source": [
    "rprint(Panel(\"Write S3 first, then write DB\"))\n",
    "put_s3_result = aws_s3.put_s3(\n",
    "    api_calls=[\n",
    "        aws_s3.PutS3ApiCall(\n",
    "            column=\"html\",\n",
    "            binary=html_content_2,\n",
    "            # since this is an updates, you have to specify the old s3 object,\n",
    "            # even it is None. we need this information to clean up old s3 object\n",
    "            # when SQL UPDATE succeeded\n",
    "            old_s3_uri=task1.html,\n",
    "            extra_put_object_kwargs=html_additional_kwargs,\n",
    "        ),\n",
    "        aws_s3.PutS3ApiCall(\n",
    "            column=\"image\",\n",
    "            binary=image_content_2,\n",
    "            # since this is an updates, you have to specify the old s3 object,\n",
    "            # even it is None. we need this information to clean up old s3 object\n",
    "            # when SQL UPDATE succeeded\n",
    "            old_s3_uri=task1.image,\n",
    "            extra_put_object_kwargs=image_additional_kwargs,\n",
    "        ),\n",
    "    ],\n",
    "    s3_client=bsm.s3_client,\n",
    "    pk=url,\n",
    "    bucket=s3dir_root.bucket,\n",
    "    prefix=s3dir_root.key,\n",
    "    update_at=utc_now,\n",
    "    is_pk_url_safe=False,\n",
    ")\n",
    "rprint(put_s3_result)"
   ]
  },
  {
   "cell_type": "code",
   "execution_count": 22,
   "id": "c5161ceb-f439-4467-bcae-642a4e987fb4",
   "metadata": {},
   "outputs": [
    {
     "name": "stdout",
     "output_type": "stream",
     "text": [
      "SQL UPDATE Succeeded!\n"
     ]
    }
   ],
   "source": [
    "with orm.Session(engine) as ses:\n",
    "    try:\n",
    "        with ses.begin():\n",
    "            stmt = (\n",
    "                sa.update(Task).where(Task.url == url)\n",
    "                # this is a helper method that convert the put s3 results\n",
    "                # to INSERT / UPDATE values\n",
    "                .values(update_at=utc_now, **put_s3_result.to_values())\n",
    "            )\n",
    "            ses.execute(stmt)\n",
    "        print(\"SQL UPDATE Succeeded!\")\n",
    "        # clean up old s3 object when update row succeeded\n",
    "        # if you don't want to do that, just don't run this method\n",
    "        put_s3_result.clean_up_old_s3_object_when_update_row_succeeded()\n",
    "    except Exception as e:\n",
    "        rprint(f\"SQL UPDATE Failed! Error: {e!r}\")\n",
    "        # clean up created s3 object when update row failed\n",
    "        # if you don't want to do that, just don't run this method\n",
    "        put_s3_result.clean_up_created_s3_object_when_create_or_update_row_failed()"
   ]
  },
  {
   "cell_type": "code",
   "execution_count": 23,
   "id": "d61d70d0-b989-485b-93a8-4f25efb93a80",
   "metadata": {},
   "outputs": [
    {
     "data": {
      "text/html": [
       "<pre style=\"white-space:pre;overflow-x:auto;line-height:normal;font-family:Menlo,'DejaVu Sans Mono',consolas,'Courier New',monospace\">╭─────────────────────────────────────────────────────────────────────────────────────────────────────────────────╮\n",
       "│ Database row should be updated                                                                                  │\n",
       "╰─────────────────────────────────────────────────────────────────────────────────────────────────────────────────╯\n",
       "</pre>\n"
      ],
      "text/plain": [
       "╭─────────────────────────────────────────────────────────────────────────────────────────────────────────────────╮\n",
       "│ Database row should be updated                                                                                  │\n",
       "╰─────────────────────────────────────────────────────────────────────────────────────────────────────────────────╯\n"
      ]
     },
     "metadata": {},
     "output_type": "display_data"
    },
    {
     "data": {
      "text/html": [
       "<pre style=\"white-space:pre;overflow-x:auto;line-height:normal;font-family:Menlo,'DejaVu Sans Mono',consolas,'Courier New',monospace\"><span style=\"font-weight: bold\">{</span>\n",
       "    <span style=\"color: #008000; text-decoration-color: #008000\">'_sa_instance_state'</span>: <span style=\"font-weight: bold\">&lt;</span><span style=\"color: #ff00ff; text-decoration-color: #ff00ff; font-weight: bold\">sqlalchemy.orm.state.InstanceState</span><span style=\"color: #000000; text-decoration-color: #000000\"> object at </span><span style=\"color: #008080; text-decoration-color: #008080; font-weight: bold\">0x108c11a80</span><span style=\"font-weight: bold\">&gt;</span>,\n",
       "    <span style=\"color: #008000; text-decoration-color: #008000\">'update_at'</span>: <span style=\"color: #800080; text-decoration-color: #800080; font-weight: bold\">datetime.datetime</span><span style=\"font-weight: bold\">(</span><span style=\"color: #008080; text-decoration-color: #008080; font-weight: bold\">2024</span>, <span style=\"color: #008080; text-decoration-color: #008080; font-weight: bold\">5</span>, <span style=\"color: #008080; text-decoration-color: #008080; font-weight: bold\">27</span>, <span style=\"color: #008080; text-decoration-color: #008080; font-weight: bold\">5</span>, <span style=\"color: #008080; text-decoration-color: #008080; font-weight: bold\">25</span>, <span style=\"color: #008080; text-decoration-color: #008080; font-weight: bold\">59</span>, <span style=\"color: #008080; text-decoration-color: #008080; font-weight: bold\">171833</span><span style=\"font-weight: bold\">)</span>,\n",
       "    <span style=\"color: #008000; text-decoration-color: #008000\">'url'</span>: <span style=\"color: #008000; text-decoration-color: #008000\">'https://www.example.com'</span>,\n",
       "    <span style=\"color: #008000; text-decoration-color: #008000\">'image'</span>: \n",
       "<span style=\"color: #008000; text-decoration-color: #008000\">'s3://bmt-app-dev-us-east-1-data/projects/sqlalchemy_mate/patterns/s3backed_column/data/aHR0cHM6Ly93d3cuZXhhbXBsZS5</span>\n",
       "<span style=\"color: #008000; text-decoration-color: #008000\">jb20=/col=image/md5=b3459abcea88aaa928939311a8a2f9f0'</span>,\n",
       "    <span style=\"color: #008000; text-decoration-color: #008000\">'html'</span>: \n",
       "<span style=\"color: #008000; text-decoration-color: #008000\">'s3://bmt-app-dev-us-east-1-data/projects/sqlalchemy_mate/patterns/s3backed_column/data/aHR0cHM6Ly93d3cuZXhhbXBsZS5</span>\n",
       "<span style=\"color: #008000; text-decoration-color: #008000\">jb20=/col=html/md5=1970166ef8b56a6221f64f063daec3e3'</span>\n",
       "<span style=\"font-weight: bold\">}</span>\n",
       "</pre>\n"
      ],
      "text/plain": [
       "\u001b[1m{\u001b[0m\n",
       "    \u001b[32m'_sa_instance_state'\u001b[0m: \u001b[1m<\u001b[0m\u001b[1;95msqlalchemy.orm.state.InstanceState\u001b[0m\u001b[39m object at \u001b[0m\u001b[1;36m0x108c11a80\u001b[0m\u001b[1m>\u001b[0m,\n",
       "    \u001b[32m'update_at'\u001b[0m: \u001b[1;35mdatetime.datetime\u001b[0m\u001b[1m(\u001b[0m\u001b[1;36m2024\u001b[0m, \u001b[1;36m5\u001b[0m, \u001b[1;36m27\u001b[0m, \u001b[1;36m5\u001b[0m, \u001b[1;36m25\u001b[0m, \u001b[1;36m59\u001b[0m, \u001b[1;36m171833\u001b[0m\u001b[1m)\u001b[0m,\n",
       "    \u001b[32m'url'\u001b[0m: \u001b[32m'https://www.example.com'\u001b[0m,\n",
       "    \u001b[32m'image'\u001b[0m: \n",
       "\u001b[32m's3://bmt-app-dev-us-east-1-data/projects/sqlalchemy_mate/patterns/s3backed_column/data/\u001b[0m\u001b[32maHR0cHM6Ly93d3cuZXhhbXBsZS5\u001b[0m\n",
       "\u001b[32mjb20\u001b[0m\u001b[32m=/\u001b[0m\u001b[32mcol\u001b[0m\u001b[32m=\u001b[0m\u001b[32mimage\u001b[0m\u001b[32m/\u001b[0m\u001b[32mmd5\u001b[0m\u001b[32m=\u001b[0m\u001b[32mb3459abcea88aaa928939311a8a2f9f0\u001b[0m\u001b[32m'\u001b[0m,\n",
       "    \u001b[32m'html'\u001b[0m: \n",
       "\u001b[32m's3://bmt-app-dev-us-east-1-data/projects/sqlalchemy_mate/patterns/s3backed_column/data/\u001b[0m\u001b[32maHR0cHM6Ly93d3cuZXhhbXBsZS5\u001b[0m\n",
       "\u001b[32mjb20\u001b[0m\u001b[32m=/\u001b[0m\u001b[32mcol\u001b[0m\u001b[32m=\u001b[0m\u001b[32mhtml\u001b[0m\u001b[32m/\u001b[0m\u001b[32mmd5\u001b[0m\u001b[32m=\u001b[0m\u001b[32m1970166ef8b56a6221f64f063daec3e3\u001b[0m\u001b[32m'\u001b[0m\n",
       "\u001b[1m}\u001b[0m\n"
      ]
     },
     "metadata": {},
     "output_type": "display_data"
    },
    {
     "data": {
      "text/html": [
       "<pre style=\"white-space:pre;overflow-x:auto;line-height:normal;font-family:Menlo,'DejaVu Sans Mono',consolas,'Courier New',monospace\">╭─────────────────────────────────────────────────────────────────────────────────────────────────────────────────╮\n",
       "│ Old S3 object should be deleted                                                                                 │\n",
       "╰─────────────────────────────────────────────────────────────────────────────────────────────────────────────────╯\n",
       "</pre>\n"
      ],
      "text/plain": [
       "╭─────────────────────────────────────────────────────────────────────────────────────────────────────────────────╮\n",
       "│ Old S3 object should be deleted                                                                                 │\n",
       "╰─────────────────────────────────────────────────────────────────────────────────────────────────────────────────╯\n"
      ]
     },
     "metadata": {},
     "output_type": "display_data"
    },
    {
     "data": {
      "text/html": [
       "<pre style=\"white-space:pre;overflow-x:auto;line-height:normal;font-family:Menlo,'DejaVu Sans Mono',consolas,'Courier New',monospace\"><span style=\"color: #800080; text-decoration-color: #800080; font-weight: bold\">S3Path</span><span style=\"font-weight: bold\">(</span>task1.html<span style=\"font-weight: bold\">)</span><span style=\"color: #800080; text-decoration-color: #800080; font-weight: bold\">.exists</span><span style=\"font-weight: bold\">()</span> = <span style=\"color: #ff0000; text-decoration-color: #ff0000; font-style: italic\">False</span>\n",
       "</pre>\n"
      ],
      "text/plain": [
       "\u001b[1;35mS3Path\u001b[0m\u001b[1m(\u001b[0mtask1.html\u001b[1m)\u001b[0m\u001b[1;35m.exists\u001b[0m\u001b[1m(\u001b[0m\u001b[1m)\u001b[0m = \u001b[3;91mFalse\u001b[0m\n"
      ]
     },
     "metadata": {},
     "output_type": "display_data"
    },
    {
     "data": {
      "text/html": [
       "<pre style=\"white-space:pre;overflow-x:auto;line-height:normal;font-family:Menlo,'DejaVu Sans Mono',consolas,'Courier New',monospace\"><span style=\"color: #800080; text-decoration-color: #800080; font-weight: bold\">S3Path</span><span style=\"font-weight: bold\">(</span>task1.image<span style=\"font-weight: bold\">)</span><span style=\"color: #800080; text-decoration-color: #800080; font-weight: bold\">.exists</span><span style=\"font-weight: bold\">()</span> = <span style=\"color: #ff0000; text-decoration-color: #ff0000; font-style: italic\">False</span>\n",
       "</pre>\n"
      ],
      "text/plain": [
       "\u001b[1;35mS3Path\u001b[0m\u001b[1m(\u001b[0mtask1.image\u001b[1m)\u001b[0m\u001b[1;35m.exists\u001b[0m\u001b[1m(\u001b[0m\u001b[1m)\u001b[0m = \u001b[3;91mFalse\u001b[0m\n"
      ]
     },
     "metadata": {},
     "output_type": "display_data"
    },
    {
     "data": {
      "text/html": [
       "<pre style=\"white-space:pre;overflow-x:auto;line-height:normal;font-family:Menlo,'DejaVu Sans Mono',consolas,'Courier New',monospace\">╭─────────────────────────────────────────────────────────────────────────────────────────────────────────────────╮\n",
       "│ New S3 object should be created                                                                                 │\n",
       "╰─────────────────────────────────────────────────────────────────────────────────────────────────────────────────╯\n",
       "</pre>\n"
      ],
      "text/plain": [
       "╭─────────────────────────────────────────────────────────────────────────────────────────────────────────────────╮\n",
       "│ New S3 object should be created                                                                                 │\n",
       "╰─────────────────────────────────────────────────────────────────────────────────────────────────────────────────╯\n"
      ]
     },
     "metadata": {},
     "output_type": "display_data"
    },
    {
     "data": {
      "text/html": [
       "<pre style=\"white-space:pre;overflow-x:auto;line-height:normal;font-family:Menlo,'DejaVu Sans Mono',consolas,'Courier New',monospace\"><span style=\"color: #800080; text-decoration-color: #800080; font-weight: bold\">S3Path</span><span style=\"font-weight: bold\">(</span>task2.html<span style=\"font-weight: bold\">)</span><span style=\"color: #800080; text-decoration-color: #800080; font-weight: bold\">.read_bytes</span><span style=\"font-weight: bold\">()</span> = <span style=\"color: #008000; text-decoration-color: #008000\">b'&lt;html&gt;this is html 2&lt;/html&gt;'</span>\n",
       "</pre>\n"
      ],
      "text/plain": [
       "\u001b[1;35mS3Path\u001b[0m\u001b[1m(\u001b[0mtask2.html\u001b[1m)\u001b[0m\u001b[1;35m.read_bytes\u001b[0m\u001b[1m(\u001b[0m\u001b[1m)\u001b[0m = \u001b[32mb'\u001b[0m\u001b[32m<\u001b[0m\u001b[32mhtml\u001b[0m\u001b[32m>this is html 2</html\u001b[0m\u001b[32m>\u001b[0m\u001b[32m'\u001b[0m\n"
      ]
     },
     "metadata": {},
     "output_type": "display_data"
    },
    {
     "data": {
      "text/html": [
       "<pre style=\"white-space:pre;overflow-x:auto;line-height:normal;font-family:Menlo,'DejaVu Sans Mono',consolas,'Courier New',monospace\"><span style=\"color: #800080; text-decoration-color: #800080; font-weight: bold\">S3Path</span><span style=\"font-weight: bold\">(</span>task2.image<span style=\"font-weight: bold\">)</span><span style=\"color: #800080; text-decoration-color: #800080; font-weight: bold\">.read_bytes</span><span style=\"font-weight: bold\">()</span> = <span style=\"color: #008000; text-decoration-color: #008000\">b'this is image 2'</span>\n",
       "</pre>\n"
      ],
      "text/plain": [
       "\u001b[1;35mS3Path\u001b[0m\u001b[1m(\u001b[0mtask2.image\u001b[1m)\u001b[0m\u001b[1;35m.read_bytes\u001b[0m\u001b[1m(\u001b[0m\u001b[1m)\u001b[0m = \u001b[32mb'this is image 2'\u001b[0m\n"
      ]
     },
     "metadata": {},
     "output_type": "display_data"
    }
   ],
   "source": [
    "rprint(Panel(\"Database row should be updated\"))\n",
    "task2: Task = ses.get(Task, url)\n",
    "rprint(task2.__dict__)\n",
    "assert task2.update_at == utc_now\n",
    "rprint(Panel(\"Old S3 object should be deleted\"))\n",
    "rprint(f\"{S3Path(task1.html).exists() = }\")\n",
    "rprint(f\"{S3Path(task1.image).exists() = }\")\n",
    "assert S3Path(task1.html).exists() is False\n",
    "assert S3Path(task1.image).exists() is False\n",
    "rprint(Panel(\"New S3 object should be created\"))\n",
    "rprint(f\"{S3Path(task2.html).read_bytes() = }\")\n",
    "rprint(f\"{S3Path(task2.image).read_bytes() = }\")\n",
    "assert S3Path(task2.html).read_bytes() == html_content_2\n",
    "assert S3Path(task2.image).read_bytes() == image_content_2"
   ]
  },
  {
   "cell_type": "markdown",
   "id": "019d46c6-f178-4d31-81e2-aed8ce02614d",
   "metadata": {},
   "source": [
    "## Delete a Row and SQL DELETE succeeded"
   ]
  },
  {
   "cell_type": "code",
   "execution_count": 24,
   "id": "5c2b355d-89dd-4f4e-b892-71f71a6bdab5",
   "metadata": {},
   "outputs": [
    {
     "data": {
      "text/html": [
       "<pre style=\"white-space:pre;overflow-x:auto;line-height:normal;font-family:Menlo,'DejaVu Sans Mono',consolas,'Courier New',monospace\"><span style=\"color: #008000; text-decoration-color: #008000; font-weight: bold\">╔═════════════════════════════════════════════════════════════════════════════════════════════════════════════════╗</span>\n",
       "<span style=\"color: #008000; text-decoration-color: #008000; font-weight: bold\">║</span> Delete a Row and SQL DELETE succeeded                                                                           <span style=\"color: #008000; text-decoration-color: #008000; font-weight: bold\">║</span>\n",
       "<span style=\"color: #008000; text-decoration-color: #008000; font-weight: bold\">╚═════════════════════════════════════════════════════════════════════════════════════════════════════════════════╝</span>\n",
       "</pre>\n"
      ],
      "text/plain": [
       "\u001b[1;32m╔═════════════════════════════════════════════════════════════════════════════════════════════════════════════════╗\u001b[0m\n",
       "\u001b[1;32m║\u001b[0m Delete a Row and SQL DELETE succeeded                                                                           \u001b[1;32m║\u001b[0m\n",
       "\u001b[1;32m╚═════════════════════════════════════════════════════════════════════════════════════════════════════════════════╝\u001b[0m\n"
      ]
     },
     "metadata": {},
     "output_type": "display_data"
    }
   ],
   "source": [
    "rprint(\n",
    "    Panel(\n",
    "        \"Delete a Row and SQL DELETE succeeded\",\n",
    "        box=box.DOUBLE,\n",
    "        border_style=\"bold green\",\n",
    "    )\n",
    ")"
   ]
  },
  {
   "cell_type": "code",
   "execution_count": 25,
   "id": "fdb28522-798a-4b10-8542-f5b7f13e59fc",
   "metadata": {},
   "outputs": [
    {
     "data": {
      "text/html": [
       "<pre style=\"white-space:pre;overflow-x:auto;line-height:normal;font-family:Menlo,'DejaVu Sans Mono',consolas,'Courier New',monospace\">╭─────────────────────────────────────────────────────────────────────────────────────────────────────────────────╮\n",
       "│ Delete DB first, then delete S3                                                                                 │\n",
       "╰─────────────────────────────────────────────────────────────────────────────────────────────────────────────────╯\n",
       "</pre>\n"
      ],
      "text/plain": [
       "╭─────────────────────────────────────────────────────────────────────────────────────────────────────────────────╮\n",
       "│ Delete DB first, then delete S3                                                                                 │\n",
       "╰─────────────────────────────────────────────────────────────────────────────────────────────────────────────────╯\n"
      ]
     },
     "metadata": {},
     "output_type": "display_data"
    },
    {
     "name": "stdout",
     "output_type": "stream",
     "text": [
      "SQL DELETE Succeeded!\n"
     ]
    }
   ],
   "source": [
    "rprint(Panel(\"Delete DB first, then delete S3\"))\n",
    "with orm.Session(engine) as ses:\n",
    "    task3: Task = ses.get(Task, url)\n",
    "    try:\n",
    "        stmt = sa.delete(Task).where(Task.url == url)\n",
    "        res = ses.execute(stmt)\n",
    "        ses.commit()\n",
    "        if res.rowcount == 1:\n",
    "            print(\"SQL DELETE Succeeded!\")\n",
    "            # clean up old s3 object when delete row succeeded\n",
    "            # if you don't want to do that, just don't run this method\n",
    "            if task3.html:\n",
    "                S3Path(task3.html).delete()\n",
    "            if task3.image:\n",
    "                S3Path(task3.image).delete()\n",
    "        else:\n",
    "            print(\"SQL DELETE Failed! No row affected.\")\n",
    "    except Exception as e:\n",
    "        ses.rollback()\n",
    "        rprint(f\"SQL DELETE Failed! Error: {e!r}\")"
   ]
  },
  {
   "cell_type": "code",
   "execution_count": 26,
   "id": "35619b46-1637-46a1-bd79-cdb8cb83e62d",
   "metadata": {},
   "outputs": [
    {
     "data": {
      "text/html": [
       "<pre style=\"white-space:pre;overflow-x:auto;line-height:normal;font-family:Menlo,'DejaVu Sans Mono',consolas,'Courier New',monospace\">╭─────────────────────────────────────────────────────────────────────────────────────────────────────────────────╮\n",
       "│ Database row should be deleted                                                                                  │\n",
       "╰─────────────────────────────────────────────────────────────────────────────────────────────────────────────────╯\n",
       "</pre>\n"
      ],
      "text/plain": [
       "╭─────────────────────────────────────────────────────────────────────────────────────────────────────────────────╮\n",
       "│ Database row should be deleted                                                                                  │\n",
       "╰─────────────────────────────────────────────────────────────────────────────────────────────────────────────────╯\n"
      ]
     },
     "metadata": {},
     "output_type": "display_data"
    },
    {
     "data": {
      "text/html": [
       "<pre style=\"white-space:pre;overflow-x:auto;line-height:normal;font-family:Menlo,'DejaVu Sans Mono',consolas,'Courier New',monospace\"><span style=\"color: #800080; text-decoration-color: #800080; font-weight: bold\">ses.get</span><span style=\"font-weight: bold\">(</span>Task, url<span style=\"font-weight: bold\">)</span> = <span style=\"color: #800080; text-decoration-color: #800080; font-style: italic\">None</span>\n",
       "</pre>\n"
      ],
      "text/plain": [
       "\u001b[1;35mses.get\u001b[0m\u001b[1m(\u001b[0mTask, url\u001b[1m)\u001b[0m = \u001b[3;35mNone\u001b[0m\n"
      ]
     },
     "metadata": {},
     "output_type": "display_data"
    },
    {
     "data": {
      "text/html": [
       "<pre style=\"white-space:pre;overflow-x:auto;line-height:normal;font-family:Menlo,'DejaVu Sans Mono',consolas,'Courier New',monospace\">╭─────────────────────────────────────────────────────────────────────────────────────────────────────────────────╮\n",
       "│ Old S3 object should be deleted                                                                                 │\n",
       "╰─────────────────────────────────────────────────────────────────────────────────────────────────────────────────╯\n",
       "</pre>\n"
      ],
      "text/plain": [
       "╭─────────────────────────────────────────────────────────────────────────────────────────────────────────────────╮\n",
       "│ Old S3 object should be deleted                                                                                 │\n",
       "╰─────────────────────────────────────────────────────────────────────────────────────────────────────────────────╯\n"
      ]
     },
     "metadata": {},
     "output_type": "display_data"
    },
    {
     "data": {
      "text/html": [
       "<pre style=\"white-space:pre;overflow-x:auto;line-height:normal;font-family:Menlo,'DejaVu Sans Mono',consolas,'Courier New',monospace\"><span style=\"color: #800080; text-decoration-color: #800080; font-weight: bold\">S3Path</span><span style=\"font-weight: bold\">(</span>task3.html<span style=\"font-weight: bold\">)</span><span style=\"color: #800080; text-decoration-color: #800080; font-weight: bold\">.exists</span><span style=\"font-weight: bold\">()</span> = <span style=\"color: #ff0000; text-decoration-color: #ff0000; font-style: italic\">False</span>\n",
       "</pre>\n"
      ],
      "text/plain": [
       "\u001b[1;35mS3Path\u001b[0m\u001b[1m(\u001b[0mtask3.html\u001b[1m)\u001b[0m\u001b[1;35m.exists\u001b[0m\u001b[1m(\u001b[0m\u001b[1m)\u001b[0m = \u001b[3;91mFalse\u001b[0m\n"
      ]
     },
     "metadata": {},
     "output_type": "display_data"
    },
    {
     "data": {
      "text/html": [
       "<pre style=\"white-space:pre;overflow-x:auto;line-height:normal;font-family:Menlo,'DejaVu Sans Mono',consolas,'Courier New',monospace\"><span style=\"color: #800080; text-decoration-color: #800080; font-weight: bold\">S3Path</span><span style=\"font-weight: bold\">(</span>task3.image<span style=\"font-weight: bold\">)</span><span style=\"color: #800080; text-decoration-color: #800080; font-weight: bold\">.exists</span><span style=\"font-weight: bold\">()</span> = <span style=\"color: #ff0000; text-decoration-color: #ff0000; font-style: italic\">False</span>\n",
       "</pre>\n"
      ],
      "text/plain": [
       "\u001b[1;35mS3Path\u001b[0m\u001b[1m(\u001b[0mtask3.image\u001b[1m)\u001b[0m\u001b[1;35m.exists\u001b[0m\u001b[1m(\u001b[0m\u001b[1m)\u001b[0m = \u001b[3;91mFalse\u001b[0m\n"
      ]
     },
     "metadata": {},
     "output_type": "display_data"
    }
   ],
   "source": [
    "rprint(Panel(\"Database row should be deleted\"))\n",
    "rprint(f\"{ses.get(Task, url) = }\")\n",
    "assert ses.get(Task, url) is None\n",
    "rprint(Panel(\"Old S3 object should be deleted\"))\n",
    "rprint(f\"{S3Path(task3.html).exists() = }\")\n",
    "rprint(f\"{S3Path(task3.image).exists() = }\")\n",
    "assert S3Path(task3.html).exists() is False\n",
    "assert S3Path(task3.image).exists() is False\n"
   ]
  },
  {
   "cell_type": "markdown",
   "id": "fcdcc8aa-9aa9-4e76-b57a-da7f428116a5",
   "metadata": {},
   "source": [
    "## Conclusion\n",
    "\n",
    "By leveraging the capabilities of ``sqlalchemy_mate``, developers can build scalable and efficient systems that handle large binary data with ease. The module's Pythonic interface, flexibility in storage backends, and extensibility make it a powerful tool for managing the lifecycle of large binary objects while ensuring data consistency and integrity."
   ]
  },
  {
   "cell_type": "code",
   "execution_count": null,
   "id": "ab7b3fa6-450f-4e1b-95ec-975ca7dce2a5",
   "metadata": {},
   "outputs": [],
   "source": []
  }
 ],
 "metadata": {
  "kernelspec": {
   "display_name": "Python 3 (ipykernel)",
   "language": "python",
   "name": "python3"
  },
  "language_info": {
   "codemirror_mode": {
    "name": "ipython",
    "version": 3
   },
   "file_extension": ".py",
   "mimetype": "text/x-python",
   "name": "python",
   "nbconvert_exporter": "python",
   "pygments_lexer": "ipython3",
   "version": "3.10.10"
  }
 },
 "nbformat": 4,
 "nbformat_minor": 5
}
