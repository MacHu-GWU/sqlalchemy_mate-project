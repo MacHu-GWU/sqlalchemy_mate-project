{
 "cells": [
  {
   "cell_type": "markdown",
   "id": "cb395246981f392c",
   "metadata": {
    "collapsed": false,
    "jupyter": {
     "outputs_hidden": false
    }
   },
   "source": [
    "# Enable status tracking for business critical application using sqlalchemy_mate\n",
    "\n",
    "In this example, we introduce a pattern for tracking the status of business critical jobs using Relational database as the backend. This feature gives you the ability to track status of each job, and error-handling, retry, concurrency control out-of-the-box.\n",
    "\n",
    "NOTE: this solution is based on sqlalchemy_mate Python library.\n",
    "\n",
    "When managing a large number of business-critical jobs, it is crucial to monitor and identify which jobs have been successful, which have failed, and which are still in progress. If the business logic is a pipeline consisting of a sequence of jobs, it is important to keep track of its current status and have the ability to recover from any failed job. We also have seen some advanced requirements like:\n",
    "\n",
    "- Each job should be consumed once and exactly once.\n",
    "- Each job should be handled by only one worker, you want a concurrency lock mechanism to avoid double consumption.\n",
    "- For those succeeded jobs, store additional information such as the output, statistics, metadata of the job and log the success time.\n",
    "- For those failed jobs, you want to log the detailed error message for debugging.\n",
    "- You want to get all of the failed jobs by one simple query and rerun with the updated business logic.\n",
    "- job might be impossible to complete. To avoid falling into an endless retry loop, you want to ignore the jobs if they fail too many times.\n",
    "- Run custom query based on job status for analytics purpose.\n",
    "\n",
    "With sqlalchemy_mate Python library, you can enable this advanced feature without refactoring your existing application code, and you can use the \"elegant\" context manager to wrap around your business logic code and enjoy all the features above."
   ]
  },
  {
   "cell_type": "markdown",
   "id": "1270de60-3a84-4637-a69c-2e254ca0e539",
   "metadata": {},
   "source": [
    "## Declare Your Status Tracking Table\n",
    "\n",
    "1. First, We define some status code using the enum Python standard library. It improves the code readability and avoids hard coding meaningless integers everywhere in the code base.\n",
    "2. We declare a sqlalchemy ORM data model."
   ]
  },
  {
   "cell_type": "code",
   "execution_count": 33,
   "id": "a30014b4f3398694",
   "metadata": {
    "ExecuteTime": {
     "end_time": "2024-05-17T05:16:16.105137Z",
     "start_time": "2024-05-17T05:16:15.972406Z"
    },
    "collapsed": false,
    "jupyter": {
     "outputs_hidden": false
    }
   },
   "outputs": [],
   "source": [
    "import enum\n",
    "\n",
    "import sqlalchemy as sa\n",
    "import sqlalchemy.orm as orm\n",
    "import sqlalchemy_mate.api as sm\n",
    "from sqlalchemy_mate.tests.api import engine_psql as engine\n",
    "\n",
    "from rich import print as rprint"
   ]
  },
  {
   "cell_type": "code",
   "execution_count": 34,
   "id": "46c8aa10-3c43-4dac-87f5-7e557f970034",
   "metadata": {
    "ExecuteTime": {
     "end_time": "2024-05-17T05:16:16.164607Z",
     "start_time": "2024-05-17T05:16:16.161288Z"
    }
   },
   "outputs": [],
   "source": [
    "class StatusEnum(int, enum.Enum):\n",
    "    pending = 10\n",
    "    in_progress = 20\n",
    "    failed = 30\n",
    "    succeeded = 40\n",
    "    ignored = 50"
   ]
  },
  {
   "cell_type": "code",
   "execution_count": 35,
   "id": "936f4625b5f289bb",
   "metadata": {
    "ExecuteTime": {
     "end_time": "2024-05-17T05:16:16.378506Z",
     "start_time": "2024-05-17T05:16:16.335059Z"
    },
    "collapsed": false,
    "jupyter": {
     "outputs_hidden": false
    }
   },
   "outputs": [],
   "source": [
    "Base = orm.declarative_base()\n",
    "\n",
    "class Job(Base, sm.ExtendedBase, sm.patterns.status_tracker.JobMixin):\n",
    "    __tablename__ = \"sqlalchemy_mate_status_tracker_job\"\n",
    "\n",
    "    @classmethod\n",
    "    def start_job(\n",
    "        cls,\n",
    "        id: str,\n",
    "        skip_error: bool = False,\n",
    "        debug: bool = False,\n",
    "    ):\n",
    "        return cls.start(\n",
    "            engine=engine,\n",
    "            id=id,\n",
    "            in_process_status=StatusEnum.in_progress.value,\n",
    "            failed_status=StatusEnum.failed.value,\n",
    "            success_status=StatusEnum.succeeded.value,\n",
    "            ignore_status=StatusEnum.ignored.value,\n",
    "            expire=15,\n",
    "            max_retry=3,\n",
    "            skip_error=skip_error,\n",
    "            debug=debug,\n",
    "        )\n",
    "\n",
    "\n",
    "Base.metadata.create_all(engine)"
   ]
  },
  {
   "cell_type": "markdown",
   "id": "4a9fde29-3d4a-4653-b990-ea3a6d1042d1",
   "metadata": {},
   "source": [
    "## Initialize Some Jobs\n",
    "\n",
    "First, let's initialize some jobs. At begin, all the job are in ``pending`` status."
   ]
  },
  {
   "cell_type": "code",
   "execution_count": 36,
   "id": "2aa9aa67d911f4a3",
   "metadata": {
    "ExecuteTime": {
     "end_time": "2024-05-17T05:21:38.860432Z",
     "start_time": "2024-05-17T05:21:38.856112Z"
    },
    "collapsed": false,
    "jupyter": {
     "outputs_hidden": false
    }
   },
   "outputs": [],
   "source": [
    "with engine.connect() as conn:\n",
    "    conn.execute(Job.__table__.delete())\n",
    "    conn.commit()"
   ]
  },
  {
   "cell_type": "code",
   "execution_count": 37,
   "id": "163129c3e2a425b8",
   "metadata": {
    "ExecuteTime": {
     "end_time": "2024-05-17T05:21:39.201439Z",
     "start_time": "2024-05-17T05:21:39.169535Z"
    },
    "collapsed": false,
    "jupyter": {
     "outputs_hidden": false
    }
   },
   "outputs": [
    {
     "data": {
      "text/html": [
       "<pre style=\"white-space:pre;overflow-x:auto;line-height:normal;font-family:Menlo,'DejaVu Sans Mono',consolas,'Courier New',monospace\"><span style=\"color: #800080; text-decoration-color: #800080; font-weight: bold\">Job</span><span style=\"font-weight: bold\">(</span><span style=\"color: #808000; text-decoration-color: #808000\">id</span>=<span style=\"color: #008000; text-decoration-color: #008000\">'job-3'</span>, <span style=\"color: #808000; text-decoration-color: #808000\">status</span>=<span style=\"color: #008080; text-decoration-color: #008080; font-weight: bold\">10</span>, <span style=\"color: #808000; text-decoration-color: #808000\">create_at</span>=<span style=\"color: #800080; text-decoration-color: #800080; font-weight: bold\">datetime</span><span style=\"color: #800080; text-decoration-color: #800080; font-weight: bold\">.datetime</span><span style=\"font-weight: bold\">(</span><span style=\"color: #008080; text-decoration-color: #008080; font-weight: bold\">2024</span>, <span style=\"color: #008080; text-decoration-color: #008080; font-weight: bold\">5</span>, <span style=\"color: #008080; text-decoration-color: #008080; font-weight: bold\">17</span>, <span style=\"color: #008080; text-decoration-color: #008080; font-weight: bold\">5</span>, <span style=\"color: #008080; text-decoration-color: #008080; font-weight: bold\">39</span>, <span style=\"color: #008080; text-decoration-color: #008080; font-weight: bold\">38</span>, <span style=\"color: #008080; text-decoration-color: #008080; font-weight: bold\">975562</span><span style=\"font-weight: bold\">)</span>, \n",
       "<span style=\"color: #808000; text-decoration-color: #808000\">update_at</span>=<span style=\"color: #800080; text-decoration-color: #800080; font-weight: bold\">datetime</span><span style=\"color: #800080; text-decoration-color: #800080; font-weight: bold\">.datetime</span><span style=\"font-weight: bold\">(</span><span style=\"color: #008080; text-decoration-color: #008080; font-weight: bold\">2024</span>, <span style=\"color: #008080; text-decoration-color: #008080; font-weight: bold\">5</span>, <span style=\"color: #008080; text-decoration-color: #008080; font-weight: bold\">17</span>, <span style=\"color: #008080; text-decoration-color: #008080; font-weight: bold\">5</span>, <span style=\"color: #008080; text-decoration-color: #008080; font-weight: bold\">39</span>, <span style=\"color: #008080; text-decoration-color: #008080; font-weight: bold\">38</span>, <span style=\"color: #008080; text-decoration-color: #008080; font-weight: bold\">975562</span><span style=\"font-weight: bold\">)</span>, <span style=\"color: #808000; text-decoration-color: #808000\">lock</span>=<span style=\"color: #800080; text-decoration-color: #800080; font-style: italic\">None</span>, <span style=\"color: #808000; text-decoration-color: #808000\">lock_at</span>=<span style=\"color: #800080; text-decoration-color: #800080; font-weight: bold\">datetime</span><span style=\"color: #800080; text-decoration-color: #800080; font-weight: bold\">.datetime</span><span style=\"font-weight: bold\">(</span><span style=\"color: #008080; text-decoration-color: #008080; font-weight: bold\">1970</span>, <span style=\"color: #008080; text-decoration-color: #008080; font-weight: bold\">1</span>, <span style=\"color: #008080; text-decoration-color: #008080; font-weight: bold\">1</span>, <span style=\"color: #008080; text-decoration-color: #008080; font-weight: bold\">0</span>, \n",
       "<span style=\"color: #008080; text-decoration-color: #008080; font-weight: bold\">0</span><span style=\"font-weight: bold\">)</span>, <span style=\"color: #808000; text-decoration-color: #808000\">retry</span>=<span style=\"color: #008080; text-decoration-color: #008080; font-weight: bold\">0</span>, <span style=\"color: #808000; text-decoration-color: #808000\">data</span>=<span style=\"font-weight: bold\">{</span><span style=\"color: #008000; text-decoration-color: #008000\">'version'</span>: <span style=\"color: #008080; text-decoration-color: #008080; font-weight: bold\">0</span><span style=\"font-weight: bold\">}</span>, <span style=\"color: #808000; text-decoration-color: #808000\">errors</span>=<span style=\"font-weight: bold\">{})</span>\n",
       "</pre>\n"
      ],
      "text/plain": [
       "\u001b[1;35mJob\u001b[0m\u001b[1m(\u001b[0m\u001b[33mid\u001b[0m=\u001b[32m'job-3'\u001b[0m, \u001b[33mstatus\u001b[0m=\u001b[1;36m10\u001b[0m, \u001b[33mcreate_at\u001b[0m=\u001b[1;35mdatetime\u001b[0m\u001b[1;35m.datetime\u001b[0m\u001b[1m(\u001b[0m\u001b[1;36m2024\u001b[0m, \u001b[1;36m5\u001b[0m, \u001b[1;36m17\u001b[0m, \u001b[1;36m5\u001b[0m, \u001b[1;36m39\u001b[0m, \u001b[1;36m38\u001b[0m, \u001b[1;36m975562\u001b[0m\u001b[1m)\u001b[0m, \n",
       "\u001b[33mupdate_at\u001b[0m=\u001b[1;35mdatetime\u001b[0m\u001b[1;35m.datetime\u001b[0m\u001b[1m(\u001b[0m\u001b[1;36m2024\u001b[0m, \u001b[1;36m5\u001b[0m, \u001b[1;36m17\u001b[0m, \u001b[1;36m5\u001b[0m, \u001b[1;36m39\u001b[0m, \u001b[1;36m38\u001b[0m, \u001b[1;36m975562\u001b[0m\u001b[1m)\u001b[0m, \u001b[33mlock\u001b[0m=\u001b[3;35mNone\u001b[0m, \u001b[33mlock_at\u001b[0m=\u001b[1;35mdatetime\u001b[0m\u001b[1;35m.datetime\u001b[0m\u001b[1m(\u001b[0m\u001b[1;36m1970\u001b[0m, \u001b[1;36m1\u001b[0m, \u001b[1;36m1\u001b[0m, \u001b[1;36m0\u001b[0m, \n",
       "\u001b[1;36m0\u001b[0m\u001b[1m)\u001b[0m, \u001b[33mretry\u001b[0m=\u001b[1;36m0\u001b[0m, \u001b[33mdata\u001b[0m=\u001b[1m{\u001b[0m\u001b[32m'version'\u001b[0m: \u001b[1;36m0\u001b[0m\u001b[1m}\u001b[0m, \u001b[33merrors\u001b[0m=\u001b[1m{\u001b[0m\u001b[1m}\u001b[0m\u001b[1m)\u001b[0m\n"
      ]
     },
     "metadata": {},
     "output_type": "display_data"
    }
   ],
   "source": [
    "with orm.Session(engine) as ses:\n",
    "    job = Job.create_and_save(\n",
    "        engine_or_session=ses,\n",
    "        id=\"job-1\",\n",
    "        status=StatusEnum.pending.value,\n",
    "        data={\"version\": 0},\n",
    "    )\n",
    "    job = Job.create_and_save(\n",
    "        engine_or_session=ses,\n",
    "        id=\"job-2\",\n",
    "        status=StatusEnum.pending.value,\n",
    "        data={\"version\": 0},\n",
    "    )\n",
    "    job = Job.create_and_save(\n",
    "        engine_or_session=ses,\n",
    "        id=\"job-3\",\n",
    "        status=StatusEnum.pending.value,\n",
    "        data={\"version\": 0},\n",
    "    )\n",
    "    rprint(job)"
   ]
  },
  {
   "cell_type": "code",
   "execution_count": 38,
   "id": "d3fed991-e390-491c-99e3-4ef9aa4a7489",
   "metadata": {},
   "outputs": [],
   "source": [
    "# You can also do this to initialize many jobs in batch\n",
    "# with orm.Session(engine) as ses:\n",
    "#     for job_id in [\"job-1\", \"job-2\", \"job-3\"]:\n",
    "#         job = Job.create(\n",
    "#             id=job_id,\n",
    "#             status=StatusEnum.pending.value,\n",
    "#             data={\"version\": 0},\n",
    "#         )\n",
    "#         ses.add(job)\n",
    "#     ses.commit()\n",
    "#     rprint(job)"
   ]
  },
  {
   "cell_type": "markdown",
   "id": "341d68ba1a45fc0",
   "metadata": {
    "collapsed": false,
    "jupyter": {
     "outputs_hidden": false
    }
   },
   "source": [
    "## Job Succeeded\n",
    "\n",
    "The ``Job.start()`` class method is a magic context manager that does a lot of things.\n",
    "\n",
    "1. It try to obtain lock before the job begin. Once we have obtained the lock, other work won't be able to update this items (they will see that it is locked).\n",
    "2. Any raised exception will be captured by the context manager, and it will set the status as ``failed``, add retry count, log the error (and save the error information to DB), and release the lock.\n",
    "3. If the job has been failed too many times, it will set the status as ``ignored``.\n",
    "4. If everything goes well, it will set status as ``succeeded`` and apply updates."
   ]
  },
  {
   "cell_type": "code",
   "execution_count": 39,
   "id": "3f5986e6efa49d68",
   "metadata": {
    "ExecuteTime": {
     "end_time": "2024-05-17T05:21:40.482276Z",
     "start_time": "2024-05-17T05:21:40.463040Z"
    },
    "collapsed": false,
    "jupyter": {
     "outputs_hidden": false
    }
   },
   "outputs": [
    {
     "name": "stdout",
     "output_type": "stream",
     "text": [
      "----------------------------- ▶️ start Job 'job-1'------------------------------\n",
      "🔓Try to set status = 20 and lock the job 'job-1' ...\n",
      "  Successfully lock the job!\n",
      "✅ 🔐 job succeeded, set status = 40 and unlock the job.\n",
      "------------------------ ⏹️ end Job 'job-1' status = 40)------------------------\n"
     ]
    }
   ],
   "source": [
    "with Job.start_job(id=\"job-1\", debug=True) as (\n",
    "    job,\n",
    "    updates,\n",
    "):\n",
    "    # run your job logic here ...\n",
    "    updates.set(key=\"data\", value={\"version\": job.data[\"version\"] + 1})"
   ]
  },
  {
   "cell_type": "code",
   "execution_count": 40,
   "id": "8d45092f824c756a",
   "metadata": {
    "ExecuteTime": {
     "end_time": "2024-05-17T05:21:41.320240Z",
     "start_time": "2024-05-17T05:21:41.310992Z"
    },
    "collapsed": false,
    "jupyter": {
     "outputs_hidden": false
    }
   },
   "outputs": [
    {
     "data": {
      "text/html": [
       "<pre style=\"white-space:pre;overflow-x:auto;line-height:normal;font-family:Menlo,'DejaVu Sans Mono',consolas,'Courier New',monospace\"><span style=\"color: #800080; text-decoration-color: #800080; font-weight: bold\">Job</span><span style=\"font-weight: bold\">(</span><span style=\"color: #808000; text-decoration-color: #808000\">id</span>=<span style=\"color: #008000; text-decoration-color: #008000\">'job-1'</span>, <span style=\"color: #808000; text-decoration-color: #808000\">status</span>=<span style=\"color: #008080; text-decoration-color: #008080; font-weight: bold\">40</span>, <span style=\"color: #808000; text-decoration-color: #808000\">create_at</span>=<span style=\"color: #800080; text-decoration-color: #800080; font-weight: bold\">datetime</span><span style=\"color: #800080; text-decoration-color: #800080; font-weight: bold\">.datetime</span><span style=\"font-weight: bold\">(</span><span style=\"color: #008080; text-decoration-color: #008080; font-weight: bold\">2024</span>, <span style=\"color: #008080; text-decoration-color: #008080; font-weight: bold\">5</span>, <span style=\"color: #008080; text-decoration-color: #008080; font-weight: bold\">17</span>, <span style=\"color: #008080; text-decoration-color: #008080; font-weight: bold\">5</span>, <span style=\"color: #008080; text-decoration-color: #008080; font-weight: bold\">39</span>, <span style=\"color: #008080; text-decoration-color: #008080; font-weight: bold\">38</span>, <span style=\"color: #008080; text-decoration-color: #008080; font-weight: bold\">963446</span><span style=\"font-weight: bold\">)</span>, \n",
       "<span style=\"color: #808000; text-decoration-color: #808000\">update_at</span>=<span style=\"color: #800080; text-decoration-color: #800080; font-weight: bold\">datetime</span><span style=\"color: #800080; text-decoration-color: #800080; font-weight: bold\">.datetime</span><span style=\"font-weight: bold\">(</span><span style=\"color: #008080; text-decoration-color: #008080; font-weight: bold\">2024</span>, <span style=\"color: #008080; text-decoration-color: #008080; font-weight: bold\">5</span>, <span style=\"color: #008080; text-decoration-color: #008080; font-weight: bold\">17</span>, <span style=\"color: #008080; text-decoration-color: #008080; font-weight: bold\">5</span>, <span style=\"color: #008080; text-decoration-color: #008080; font-weight: bold\">39</span>, <span style=\"color: #008080; text-decoration-color: #008080; font-weight: bold\">39</span>, <span style=\"color: #008080; text-decoration-color: #008080; font-weight: bold\">458076</span><span style=\"font-weight: bold\">)</span>, <span style=\"color: #808000; text-decoration-color: #808000\">lock</span>=<span style=\"color: #800080; text-decoration-color: #800080; font-style: italic\">None</span>, <span style=\"color: #808000; text-decoration-color: #808000\">lock_at</span>=<span style=\"color: #800080; text-decoration-color: #800080; font-weight: bold\">datetime</span><span style=\"color: #800080; text-decoration-color: #800080; font-weight: bold\">.datetime</span><span style=\"font-weight: bold\">(</span><span style=\"color: #008080; text-decoration-color: #008080; font-weight: bold\">2024</span>, <span style=\"color: #008080; text-decoration-color: #008080; font-weight: bold\">5</span>, <span style=\"color: #008080; text-decoration-color: #008080; font-weight: bold\">17</span>, <span style=\"color: #008080; text-decoration-color: #008080; font-weight: bold\">5</span>, \n",
       "<span style=\"color: #008080; text-decoration-color: #008080; font-weight: bold\">39</span>, <span style=\"color: #008080; text-decoration-color: #008080; font-weight: bold\">39</span>, <span style=\"color: #008080; text-decoration-color: #008080; font-weight: bold\">441585</span><span style=\"font-weight: bold\">)</span>, <span style=\"color: #808000; text-decoration-color: #808000\">retry</span>=<span style=\"color: #008080; text-decoration-color: #008080; font-weight: bold\">0</span>, <span style=\"color: #808000; text-decoration-color: #808000\">data</span>=<span style=\"font-weight: bold\">{</span><span style=\"color: #008000; text-decoration-color: #008000\">'version'</span>: <span style=\"color: #008080; text-decoration-color: #008080; font-weight: bold\">1</span><span style=\"font-weight: bold\">}</span>, <span style=\"color: #808000; text-decoration-color: #808000\">errors</span>=<span style=\"font-weight: bold\">{})</span>\n",
       "</pre>\n"
      ],
      "text/plain": [
       "\u001b[1;35mJob\u001b[0m\u001b[1m(\u001b[0m\u001b[33mid\u001b[0m=\u001b[32m'job-1'\u001b[0m, \u001b[33mstatus\u001b[0m=\u001b[1;36m40\u001b[0m, \u001b[33mcreate_at\u001b[0m=\u001b[1;35mdatetime\u001b[0m\u001b[1;35m.datetime\u001b[0m\u001b[1m(\u001b[0m\u001b[1;36m2024\u001b[0m, \u001b[1;36m5\u001b[0m, \u001b[1;36m17\u001b[0m, \u001b[1;36m5\u001b[0m, \u001b[1;36m39\u001b[0m, \u001b[1;36m38\u001b[0m, \u001b[1;36m963446\u001b[0m\u001b[1m)\u001b[0m, \n",
       "\u001b[33mupdate_at\u001b[0m=\u001b[1;35mdatetime\u001b[0m\u001b[1;35m.datetime\u001b[0m\u001b[1m(\u001b[0m\u001b[1;36m2024\u001b[0m, \u001b[1;36m5\u001b[0m, \u001b[1;36m17\u001b[0m, \u001b[1;36m5\u001b[0m, \u001b[1;36m39\u001b[0m, \u001b[1;36m39\u001b[0m, \u001b[1;36m458076\u001b[0m\u001b[1m)\u001b[0m, \u001b[33mlock\u001b[0m=\u001b[3;35mNone\u001b[0m, \u001b[33mlock_at\u001b[0m=\u001b[1;35mdatetime\u001b[0m\u001b[1;35m.datetime\u001b[0m\u001b[1m(\u001b[0m\u001b[1;36m2024\u001b[0m, \u001b[1;36m5\u001b[0m, \u001b[1;36m17\u001b[0m, \u001b[1;36m5\u001b[0m, \n",
       "\u001b[1;36m39\u001b[0m, \u001b[1;36m39\u001b[0m, \u001b[1;36m441585\u001b[0m\u001b[1m)\u001b[0m, \u001b[33mretry\u001b[0m=\u001b[1;36m0\u001b[0m, \u001b[33mdata\u001b[0m=\u001b[1m{\u001b[0m\u001b[32m'version'\u001b[0m: \u001b[1;36m1\u001b[0m\u001b[1m}\u001b[0m, \u001b[33merrors\u001b[0m=\u001b[1m{\u001b[0m\u001b[1m}\u001b[0m\u001b[1m)\u001b[0m\n"
      ]
     },
     "metadata": {},
     "output_type": "display_data"
    }
   ],
   "source": [
    "with orm.Session(engine) as ses:\n",
    "    job = ses.get(Job, \"job-1\")\n",
    "    rprint(job)"
   ]
  },
  {
   "cell_type": "markdown",
   "id": "5aa1556d5ef45209",
   "metadata": {
    "collapsed": false,
    "jupyter": {
     "outputs_hidden": false
    }
   },
   "source": [
    "## Job Failed"
   ]
  },
  {
   "cell_type": "code",
   "execution_count": 41,
   "id": "8a77e6675e360240",
   "metadata": {
    "ExecuteTime": {
     "end_time": "2024-05-17T05:21:42.271090Z",
     "start_time": "2024-05-17T05:21:42.247840Z"
    },
    "collapsed": false,
    "jupyter": {
     "outputs_hidden": false
    }
   },
   "outputs": [
    {
     "name": "stdout",
     "output_type": "stream",
     "text": [
      "----------------------------- ▶️ start Job 'job-2'------------------------------\n",
      "🔓Try to set status = 20 and lock the job 'job-2' ...\n",
      "  Successfully lock the job!\n",
      "❌ 🔐 job failed, set status = 30 and unlock the job.\n",
      "------------------------ ⏹️ end Job 'job-2' status = 20)------------------------\n"
     ]
    },
    {
     "ename": "CustomError",
     "evalue": "something wrong in job-2",
     "output_type": "error",
     "traceback": [
      "\u001b[0;31m---------------------------------------------------------------------------\u001b[0m",
      "\u001b[0;31mCustomError\u001b[0m                               Traceback (most recent call last)",
      "Cell \u001b[0;32mIn[41], line 11\u001b[0m\n\u001b[1;32m      9\u001b[0m updates\u001b[38;5;241m.\u001b[39mset(key\u001b[38;5;241m=\u001b[39m\u001b[38;5;124m\"\u001b[39m\u001b[38;5;124mdata\u001b[39m\u001b[38;5;124m\"\u001b[39m, value\u001b[38;5;241m=\u001b[39m{\u001b[38;5;124m\"\u001b[39m\u001b[38;5;124mversion\u001b[39m\u001b[38;5;124m\"\u001b[39m: job\u001b[38;5;241m.\u001b[39mdata[\u001b[38;5;124m\"\u001b[39m\u001b[38;5;124mversion\u001b[39m\u001b[38;5;124m\"\u001b[39m] \u001b[38;5;241m+\u001b[39m \u001b[38;5;241m1\u001b[39m})\n\u001b[1;32m     10\u001b[0m \u001b[38;5;66;03m# intentionally raise an error to simulate a failed job\u001b[39;00m\n\u001b[0;32m---> 11\u001b[0m \u001b[38;5;28;01mraise\u001b[39;00m CustomError(\u001b[38;5;124m\"\u001b[39m\u001b[38;5;124msomething wrong in job-2\u001b[39m\u001b[38;5;124m\"\u001b[39m) \n",
      "\u001b[0;31mCustomError\u001b[0m: something wrong in job-2"
     ]
    }
   ],
   "source": [
    "class CustomError(Exception):\n",
    "    pass\n",
    "\n",
    "\n",
    "with Job.start_job(id=\"job-2\", debug=True) as (\n",
    "    job,\n",
    "    updates,\n",
    "):\n",
    "    updates.set(key=\"data\", value={\"version\": job.data[\"version\"] + 1})\n",
    "    # intentionally raise an error to simulate a failed job\n",
    "    raise CustomError(\"something wrong in job-2\") "
   ]
  },
  {
   "cell_type": "code",
   "execution_count": 42,
   "id": "1f2edb8754f8909a",
   "metadata": {
    "ExecuteTime": {
     "end_time": "2024-05-17T05:22:47.060535Z",
     "start_time": "2024-05-17T05:22:47.052209Z"
    },
    "collapsed": false,
    "jupyter": {
     "outputs_hidden": false
    }
   },
   "outputs": [
    {
     "data": {
      "text/html": [
       "<pre style=\"white-space:pre;overflow-x:auto;line-height:normal;font-family:Menlo,'DejaVu Sans Mono',consolas,'Courier New',monospace\"><span style=\"color: #800080; text-decoration-color: #800080; font-weight: bold\">Job</span><span style=\"font-weight: bold\">(</span><span style=\"color: #808000; text-decoration-color: #808000\">id</span>=<span style=\"color: #008000; text-decoration-color: #008000\">'job-2'</span>, <span style=\"color: #808000; text-decoration-color: #808000\">status</span>=<span style=\"color: #008080; text-decoration-color: #008080; font-weight: bold\">30</span>, <span style=\"color: #808000; text-decoration-color: #808000\">create_at</span>=<span style=\"color: #800080; text-decoration-color: #800080; font-weight: bold\">datetime</span><span style=\"color: #800080; text-decoration-color: #800080; font-weight: bold\">.datetime</span><span style=\"font-weight: bold\">(</span><span style=\"color: #008080; text-decoration-color: #008080; font-weight: bold\">2024</span>, <span style=\"color: #008080; text-decoration-color: #008080; font-weight: bold\">5</span>, <span style=\"color: #008080; text-decoration-color: #008080; font-weight: bold\">17</span>, <span style=\"color: #008080; text-decoration-color: #008080; font-weight: bold\">5</span>, <span style=\"color: #008080; text-decoration-color: #008080; font-weight: bold\">39</span>, <span style=\"color: #008080; text-decoration-color: #008080; font-weight: bold\">38</span>, <span style=\"color: #008080; text-decoration-color: #008080; font-weight: bold\">971712</span><span style=\"font-weight: bold\">)</span>, \n",
       "<span style=\"color: #808000; text-decoration-color: #808000\">update_at</span>=<span style=\"color: #800080; text-decoration-color: #800080; font-weight: bold\">datetime</span><span style=\"color: #800080; text-decoration-color: #800080; font-weight: bold\">.datetime</span><span style=\"font-weight: bold\">(</span><span style=\"color: #008080; text-decoration-color: #008080; font-weight: bold\">2024</span>, <span style=\"color: #008080; text-decoration-color: #008080; font-weight: bold\">5</span>, <span style=\"color: #008080; text-decoration-color: #008080; font-weight: bold\">17</span>, <span style=\"color: #008080; text-decoration-color: #008080; font-weight: bold\">5</span>, <span style=\"color: #008080; text-decoration-color: #008080; font-weight: bold\">39</span>, <span style=\"color: #008080; text-decoration-color: #008080; font-weight: bold\">40</span>, <span style=\"color: #008080; text-decoration-color: #008080; font-weight: bold\">517484</span><span style=\"font-weight: bold\">)</span>, <span style=\"color: #808000; text-decoration-color: #808000\">lock</span>=<span style=\"color: #800080; text-decoration-color: #800080; font-style: italic\">None</span>, <span style=\"color: #808000; text-decoration-color: #808000\">lock_at</span>=<span style=\"color: #800080; text-decoration-color: #800080; font-weight: bold\">datetime</span><span style=\"color: #800080; text-decoration-color: #800080; font-weight: bold\">.datetime</span><span style=\"font-weight: bold\">(</span><span style=\"color: #008080; text-decoration-color: #008080; font-weight: bold\">2024</span>, <span style=\"color: #008080; text-decoration-color: #008080; font-weight: bold\">5</span>, <span style=\"color: #008080; text-decoration-color: #008080; font-weight: bold\">17</span>, <span style=\"color: #008080; text-decoration-color: #008080; font-weight: bold\">5</span>, \n",
       "<span style=\"color: #008080; text-decoration-color: #008080; font-weight: bold\">39</span>, <span style=\"color: #008080; text-decoration-color: #008080; font-weight: bold\">40</span>, <span style=\"color: #008080; text-decoration-color: #008080; font-weight: bold\">501174</span><span style=\"font-weight: bold\">)</span>, <span style=\"color: #808000; text-decoration-color: #808000\">retry</span>=<span style=\"color: #008080; text-decoration-color: #008080; font-weight: bold\">1</span>, <span style=\"color: #808000; text-decoration-color: #808000\">data</span>=<span style=\"font-weight: bold\">{</span><span style=\"color: #008000; text-decoration-color: #008000\">'version'</span>: <span style=\"color: #008080; text-decoration-color: #008080; font-weight: bold\">0</span><span style=\"font-weight: bold\">}</span>, <span style=\"color: #808000; text-decoration-color: #808000\">errors</span>=<span style=\"font-weight: bold\">{</span><span style=\"color: #008000; text-decoration-color: #008000\">'error'</span>: <span style=\"color: #008000; text-decoration-color: #008000\">\"CustomError('something wrong in job-2')\"</span>, \n",
       "<span style=\"color: #008000; text-decoration-color: #008000\">'traceback'</span>: <span style=\"color: #008000; text-decoration-color: #008000\">'Traceback (most recent call last):\\n  File </span>\n",
       "<span style=\"color: #008000; text-decoration-color: #008000\">\"/Users/sanhehu/Documents/GitHub/sqlalchemy_mate-project/sqlalchemy_mate/patterns/status_tracker/impl.py\", line </span>\n",
       "<span style=\"color: #008000; text-decoration-color: #008000\">262, in start\\n    yield job, updates\\n  File </span>\n",
       "<span style=\"color: #008000; text-decoration-color: #008000\">\"/var/folders/bl/vkmgjdsx5115w2xcnp67_8y40000gn/T/ipykernel_53282/3159702281.py\", line 11, in &lt;module&gt;\\n    raise </span>\n",
       "<span style=\"color: #008000; text-decoration-color: #008000\">CustomError(\"something wrong in job-2\")\\nCustomError: something wrong in job-2\\n'</span><span style=\"font-weight: bold\">})</span>\n",
       "</pre>\n"
      ],
      "text/plain": [
       "\u001b[1;35mJob\u001b[0m\u001b[1m(\u001b[0m\u001b[33mid\u001b[0m=\u001b[32m'job-2'\u001b[0m, \u001b[33mstatus\u001b[0m=\u001b[1;36m30\u001b[0m, \u001b[33mcreate_at\u001b[0m=\u001b[1;35mdatetime\u001b[0m\u001b[1;35m.datetime\u001b[0m\u001b[1m(\u001b[0m\u001b[1;36m2024\u001b[0m, \u001b[1;36m5\u001b[0m, \u001b[1;36m17\u001b[0m, \u001b[1;36m5\u001b[0m, \u001b[1;36m39\u001b[0m, \u001b[1;36m38\u001b[0m, \u001b[1;36m971712\u001b[0m\u001b[1m)\u001b[0m, \n",
       "\u001b[33mupdate_at\u001b[0m=\u001b[1;35mdatetime\u001b[0m\u001b[1;35m.datetime\u001b[0m\u001b[1m(\u001b[0m\u001b[1;36m2024\u001b[0m, \u001b[1;36m5\u001b[0m, \u001b[1;36m17\u001b[0m, \u001b[1;36m5\u001b[0m, \u001b[1;36m39\u001b[0m, \u001b[1;36m40\u001b[0m, \u001b[1;36m517484\u001b[0m\u001b[1m)\u001b[0m, \u001b[33mlock\u001b[0m=\u001b[3;35mNone\u001b[0m, \u001b[33mlock_at\u001b[0m=\u001b[1;35mdatetime\u001b[0m\u001b[1;35m.datetime\u001b[0m\u001b[1m(\u001b[0m\u001b[1;36m2024\u001b[0m, \u001b[1;36m5\u001b[0m, \u001b[1;36m17\u001b[0m, \u001b[1;36m5\u001b[0m, \n",
       "\u001b[1;36m39\u001b[0m, \u001b[1;36m40\u001b[0m, \u001b[1;36m501174\u001b[0m\u001b[1m)\u001b[0m, \u001b[33mretry\u001b[0m=\u001b[1;36m1\u001b[0m, \u001b[33mdata\u001b[0m=\u001b[1m{\u001b[0m\u001b[32m'version'\u001b[0m: \u001b[1;36m0\u001b[0m\u001b[1m}\u001b[0m, \u001b[33merrors\u001b[0m=\u001b[1m{\u001b[0m\u001b[32m'error'\u001b[0m: \u001b[32m\"CustomError\u001b[0m\u001b[32m(\u001b[0m\u001b[32m'something wrong in job-2'\u001b[0m\u001b[32m)\u001b[0m\u001b[32m\"\u001b[0m, \n",
       "\u001b[32m'traceback'\u001b[0m: \u001b[32m'Traceback \u001b[0m\u001b[32m(\u001b[0m\u001b[32mmost recent call last\u001b[0m\u001b[32m)\u001b[0m\u001b[32m:\\n  File \u001b[0m\n",
       "\u001b[32m\"/Users/sanhehu/Documents/GitHub/sqlalchemy_mate-project/sqlalchemy_mate/patterns/status_tracker/impl.py\", line \u001b[0m\n",
       "\u001b[32m262, in start\\n    yield job, updates\\n  File \u001b[0m\n",
       "\u001b[32m\"/var/folders/bl/vkmgjdsx5115w2xcnp67_8y40000gn/T/ipykernel_53282/3159702281.py\", line 11, in \u001b[0m\u001b[32m<\u001b[0m\u001b[32mmodule\u001b[0m\u001b[32m>\u001b[0m\u001b[32m\\n    raise \u001b[0m\n",
       "\u001b[32mCustomError\u001b[0m\u001b[32m(\u001b[0m\u001b[32m\"something wrong in job-2\"\u001b[0m\u001b[32m)\u001b[0m\u001b[32m\\nCustomError: something wrong in job-2\\n'\u001b[0m\u001b[1m}\u001b[0m\u001b[1m)\u001b[0m\n"
      ]
     },
     "metadata": {},
     "output_type": "display_data"
    }
   ],
   "source": [
    "with orm.Session(engine) as ses:\n",
    "    job = ses.get(Job, \"job-2\")\n",
    "    rprint(job)"
   ]
  },
  {
   "cell_type": "markdown",
   "id": "6c0d2a3d2ef85ba2",
   "metadata": {
    "collapsed": false,
    "jupyter": {
     "outputs_hidden": false
    }
   },
   "source": [
    "## Ignore If Job Fail Too Many Times\n",
    "\n",
    "You don't want a job that logically can never succeed to fail into a endless loop. In this example, we defined the max retry times is 3 (See ORM data model). If it failed 3 times in a row, it will be ignored. And if you want to start a job k that is ignored, you will see an ``JobIgnoredError``"
   ]
  },
  {
   "cell_type": "code",
   "execution_count": 43,
   "id": "91867dd9dea72a2f",
   "metadata": {
    "ExecuteTime": {
     "end_time": "2024-05-17T05:24:31.716505Z",
     "start_time": "2024-05-17T05:24:31.692770Z"
    },
    "collapsed": false,
    "jupyter": {
     "outputs_hidden": false
    }
   },
   "outputs": [
    {
     "name": "stdout",
     "output_type": "stream",
     "text": [
      "----------------------------- ▶️ start Job 'job-3'------------------------------\n",
      "🔓Try to set status = 20 and lock the job 'job-3' ...\n",
      "  Successfully lock the job!\n",
      "❌ 🔐 job failed, set status = 30 and unlock the job.\n",
      "------------------------ ⏹️ end Job 'job-3' status = 20)------------------------\n"
     ]
    },
    {
     "ename": "CustomError",
     "evalue": "something wrong in job-3 first attempts",
     "output_type": "error",
     "traceback": [
      "\u001b[0;31m---------------------------------------------------------------------------\u001b[0m",
      "\u001b[0;31mCustomError\u001b[0m                               Traceback (most recent call last)",
      "Cell \u001b[0;32mIn[43], line 2\u001b[0m\n\u001b[1;32m      1\u001b[0m \u001b[38;5;28;01mwith\u001b[39;00m Job\u001b[38;5;241m.\u001b[39mstart_job(\u001b[38;5;28mid\u001b[39m\u001b[38;5;241m=\u001b[39m\u001b[38;5;124m\"\u001b[39m\u001b[38;5;124mjob-3\u001b[39m\u001b[38;5;124m\"\u001b[39m, debug\u001b[38;5;241m=\u001b[39m\u001b[38;5;28;01mTrue\u001b[39;00m) \u001b[38;5;28;01mas\u001b[39;00m (job, updates):\n\u001b[0;32m----> 2\u001b[0m     \u001b[38;5;28;01mraise\u001b[39;00m CustomError(\u001b[38;5;124m\"\u001b[39m\u001b[38;5;124msomething wrong in job-3 first attempts\u001b[39m\u001b[38;5;124m\"\u001b[39m)\n",
      "\u001b[0;31mCustomError\u001b[0m: something wrong in job-3 first attempts"
     ]
    }
   ],
   "source": [
    "with Job.start_job(id=\"job-3\", debug=True) as (job, updates):\n",
    "    raise CustomError(\"something wrong in job-3 first attempts\")"
   ]
  },
  {
   "cell_type": "code",
   "execution_count": 44,
   "id": "da8e8784b00ba29f",
   "metadata": {
    "ExecuteTime": {
     "end_time": "2024-05-17T05:24:35.877115Z",
     "start_time": "2024-05-17T05:24:35.858254Z"
    },
    "collapsed": false,
    "jupyter": {
     "outputs_hidden": false
    }
   },
   "outputs": [
    {
     "name": "stdout",
     "output_type": "stream",
     "text": [
      "----------------------------- ▶️ start Job 'job-3'------------------------------\n",
      "🔓Try to set status = 20 and lock the job 'job-3' ...\n",
      "  Successfully lock the job!\n",
      "❌ 🔐 job failed, set status = 30 and unlock the job.\n",
      "------------------------ ⏹️ end Job 'job-3' status = 20)------------------------\n"
     ]
    },
    {
     "ename": "CustomError",
     "evalue": "something wrong in job-3 second attempts",
     "output_type": "error",
     "traceback": [
      "\u001b[0;31m---------------------------------------------------------------------------\u001b[0m",
      "\u001b[0;31mCustomError\u001b[0m                               Traceback (most recent call last)",
      "Cell \u001b[0;32mIn[44], line 2\u001b[0m\n\u001b[1;32m      1\u001b[0m \u001b[38;5;28;01mwith\u001b[39;00m Job\u001b[38;5;241m.\u001b[39mstart_job(\u001b[38;5;28mid\u001b[39m\u001b[38;5;241m=\u001b[39m\u001b[38;5;124m\"\u001b[39m\u001b[38;5;124mjob-3\u001b[39m\u001b[38;5;124m\"\u001b[39m, debug\u001b[38;5;241m=\u001b[39m\u001b[38;5;28;01mTrue\u001b[39;00m) \u001b[38;5;28;01mas\u001b[39;00m (job, updates):\n\u001b[0;32m----> 2\u001b[0m     \u001b[38;5;28;01mraise\u001b[39;00m CustomError(\u001b[38;5;124m\"\u001b[39m\u001b[38;5;124msomething wrong in job-3 second attempts\u001b[39m\u001b[38;5;124m\"\u001b[39m)\n",
      "\u001b[0;31mCustomError\u001b[0m: something wrong in job-3 second attempts"
     ]
    }
   ],
   "source": [
    "with Job.start_job(id=\"job-3\", debug=True) as (job, updates):\n",
    "    raise CustomError(\"something wrong in job-3 second attempts\")"
   ]
  },
  {
   "cell_type": "code",
   "execution_count": 45,
   "id": "340c5a1a9c686039",
   "metadata": {
    "ExecuteTime": {
     "end_time": "2024-05-17T05:24:40.211537Z",
     "start_time": "2024-05-17T05:24:40.188141Z"
    },
    "collapsed": false,
    "jupyter": {
     "outputs_hidden": false
    }
   },
   "outputs": [
    {
     "name": "stdout",
     "output_type": "stream",
     "text": [
      "----------------------------- ▶️ start Job 'job-3'------------------------------\n",
      "🔓Try to set status = 20 and lock the job 'job-3' ...\n",
      "  Successfully lock the job!\n",
      "❌ 🔐 job failed 3 times already, set status = 50 and unlock the job.\n",
      "------------------------ ⏹️ end Job 'job-3' status = 20)------------------------\n"
     ]
    },
    {
     "ename": "CustomError",
     "evalue": "something wrong in job-3 third attempts",
     "output_type": "error",
     "traceback": [
      "\u001b[0;31m---------------------------------------------------------------------------\u001b[0m",
      "\u001b[0;31mCustomError\u001b[0m                               Traceback (most recent call last)",
      "Cell \u001b[0;32mIn[45], line 2\u001b[0m\n\u001b[1;32m      1\u001b[0m \u001b[38;5;28;01mwith\u001b[39;00m Job\u001b[38;5;241m.\u001b[39mstart_job(\u001b[38;5;28mid\u001b[39m\u001b[38;5;241m=\u001b[39m\u001b[38;5;124m\"\u001b[39m\u001b[38;5;124mjob-3\u001b[39m\u001b[38;5;124m\"\u001b[39m, debug\u001b[38;5;241m=\u001b[39m\u001b[38;5;28;01mTrue\u001b[39;00m) \u001b[38;5;28;01mas\u001b[39;00m (job, updates):\n\u001b[0;32m----> 2\u001b[0m     \u001b[38;5;28;01mraise\u001b[39;00m CustomError(\u001b[38;5;124m\"\u001b[39m\u001b[38;5;124msomething wrong in job-3 third attempts\u001b[39m\u001b[38;5;124m\"\u001b[39m)\n",
      "\u001b[0;31mCustomError\u001b[0m: something wrong in job-3 third attempts"
     ]
    }
   ],
   "source": [
    "with Job.start_job(id=\"job-3\", debug=True) as (job, updates):\n",
    "    raise CustomError(\"something wrong in job-3 third attempts\")"
   ]
  },
  {
   "cell_type": "code",
   "execution_count": 46,
   "id": "93b2e4b0-dc2f-4fd6-a94f-a7155435b28f",
   "metadata": {},
   "outputs": [
    {
     "name": "stdout",
     "output_type": "stream",
     "text": [
      "----------------------------- ▶️ start Job 'job-3'------------------------------\n",
      "↪️ the job is ignored, do nothing!\n"
     ]
    },
    {
     "ename": "JobIgnoredError",
     "evalue": "Job 'job-3' retry count already exceeded 3, ignore it.",
     "output_type": "error",
     "traceback": [
      "\u001b[0;31m---------------------------------------------------------------------------\u001b[0m",
      "\u001b[0;31mJobIgnoredError\u001b[0m                           Traceback (most recent call last)",
      "Cell \u001b[0;32mIn[46], line 2\u001b[0m\n\u001b[1;32m      1\u001b[0m \u001b[38;5;66;03m# The 4th attempts will raise ``JobIgnoredError``\u001b[39;00m\n\u001b[0;32m----> 2\u001b[0m \u001b[38;5;28;01mwith\u001b[39;00m Job\u001b[38;5;241m.\u001b[39mstart_job(\u001b[38;5;28mid\u001b[39m\u001b[38;5;241m=\u001b[39m\u001b[38;5;124m\"\u001b[39m\u001b[38;5;124mjob-3\u001b[39m\u001b[38;5;124m\"\u001b[39m, debug\u001b[38;5;241m=\u001b[39m\u001b[38;5;28;01mTrue\u001b[39;00m) \u001b[38;5;28;01mas\u001b[39;00m (job, updates):\n\u001b[1;32m      3\u001b[0m     updates\u001b[38;5;241m.\u001b[39mset(key\u001b[38;5;241m=\u001b[39m\u001b[38;5;124m\"\u001b[39m\u001b[38;5;124mdata\u001b[39m\u001b[38;5;124m\"\u001b[39m, value\u001b[38;5;241m=\u001b[39m{\u001b[38;5;124m\"\u001b[39m\u001b[38;5;124mversion\u001b[39m\u001b[38;5;124m\"\u001b[39m: job\u001b[38;5;241m.\u001b[39mdata[\u001b[38;5;124m\"\u001b[39m\u001b[38;5;124mversion\u001b[39m\u001b[38;5;124m\"\u001b[39m] \u001b[38;5;241m+\u001b[39m \u001b[38;5;241m1\u001b[39m})\n",
      "File \u001b[0;32m~/.pyenv/versions/3.10.10/lib/python3.10/contextlib.py:135\u001b[0m, in \u001b[0;36m_GeneratorContextManager.__enter__\u001b[0;34m(self)\u001b[0m\n\u001b[1;32m    133\u001b[0m \u001b[38;5;28;01mdel\u001b[39;00m \u001b[38;5;28mself\u001b[39m\u001b[38;5;241m.\u001b[39margs, \u001b[38;5;28mself\u001b[39m\u001b[38;5;241m.\u001b[39mkwds, \u001b[38;5;28mself\u001b[39m\u001b[38;5;241m.\u001b[39mfunc\n\u001b[1;32m    134\u001b[0m \u001b[38;5;28;01mtry\u001b[39;00m:\n\u001b[0;32m--> 135\u001b[0m     \u001b[38;5;28;01mreturn\u001b[39;00m \u001b[38;5;28;43mnext\u001b[39;49m\u001b[43m(\u001b[49m\u001b[38;5;28;43mself\u001b[39;49m\u001b[38;5;241;43m.\u001b[39;49m\u001b[43mgen\u001b[49m\u001b[43m)\u001b[49m\n\u001b[1;32m    136\u001b[0m \u001b[38;5;28;01mexcept\u001b[39;00m \u001b[38;5;167;01mStopIteration\u001b[39;00m:\n\u001b[1;32m    137\u001b[0m     \u001b[38;5;28;01mraise\u001b[39;00m \u001b[38;5;167;01mRuntimeError\u001b[39;00m(\u001b[38;5;124m\"\u001b[39m\u001b[38;5;124mgenerator didn\u001b[39m\u001b[38;5;124m'\u001b[39m\u001b[38;5;124mt yield\u001b[39m\u001b[38;5;124m\"\u001b[39m) \u001b[38;5;28;01mfrom\u001b[39;00m \u001b[38;5;28;01mNone\u001b[39;00m\n",
      "File \u001b[0;32m~/Documents/GitHub/sqlalchemy_mate-project/sqlalchemy_mate/patterns/status_tracker/impl.py:248\u001b[0m, in \u001b[0;36mJobMixin.start\u001b[0;34m(cls, engine, id, in_process_status, failed_status, success_status, ignore_status, expire, max_retry, skip_error, debug)\u001b[0m\n\u001b[1;32m    246\u001b[0m     \u001b[38;5;28;01mif\u001b[39;00m debug:  \u001b[38;5;66;03m# pragma: no cover\u001b[39;00m\n\u001b[1;32m    247\u001b[0m         \u001b[38;5;28mprint\u001b[39m(\u001b[38;5;124mf\u001b[39m\u001b[38;5;124m\"\u001b[39m\u001b[38;5;124m↪️ the job is ignored, do nothing!\u001b[39m\u001b[38;5;124m\"\u001b[39m)\n\u001b[0;32m--> 248\u001b[0m     \u001b[38;5;28;01mraise\u001b[39;00m JobIgnoredError(\n\u001b[1;32m    249\u001b[0m         \u001b[38;5;124mf\u001b[39m\u001b[38;5;124m\"\u001b[39m\u001b[38;5;124mJob \u001b[39m\u001b[38;5;132;01m{\u001b[39;00m\u001b[38;5;28mid\u001b[39m\u001b[38;5;132;01m!r}\u001b[39;00m\u001b[38;5;124m retry count already exceeded \u001b[39m\u001b[38;5;132;01m{\u001b[39;00mmax_retry\u001b[38;5;132;01m}\u001b[39;00m\u001b[38;5;124m, \u001b[39m\u001b[38;5;124m\"\u001b[39m\n\u001b[1;32m    250\u001b[0m         \u001b[38;5;124mf\u001b[39m\u001b[38;5;124m\"\u001b[39m\u001b[38;5;124mignore it.\u001b[39m\u001b[38;5;124m\"\u001b[39m\n\u001b[1;32m    251\u001b[0m     )\n\u001b[1;32m    253\u001b[0m lock, lock_at \u001b[38;5;241m=\u001b[39m job\u001b[38;5;241m.\u001b[39mlock_it(\n\u001b[1;32m    254\u001b[0m     engine_or_session\u001b[38;5;241m=\u001b[39mses,\n\u001b[1;32m    255\u001b[0m     in_progress_status\u001b[38;5;241m=\u001b[39min_process_status,\n\u001b[1;32m    256\u001b[0m     debug\u001b[38;5;241m=\u001b[39mdebug,\n\u001b[1;32m    257\u001b[0m )\n\u001b[1;32m    258\u001b[0m updates\u001b[38;5;241m.\u001b[39mvalues[\u001b[38;5;124m\"\u001b[39m\u001b[38;5;124mstatus\u001b[39m\u001b[38;5;124m\"\u001b[39m] \u001b[38;5;241m=\u001b[39m in_process_status\n",
      "\u001b[0;31mJobIgnoredError\u001b[0m: Job 'job-3' retry count already exceeded 3, ignore it."
     ]
    }
   ],
   "source": [
    "# The 4th attempts will raise ``JobIgnoredError``\n",
    "with Job.start_job(id=\"job-3\", debug=True) as (job, updates):\n",
    "    updates.set(key=\"data\", value={\"version\": job.data[\"version\"] + 1})"
   ]
  },
  {
   "cell_type": "code",
   "execution_count": 47,
   "id": "2516911a50297ce0",
   "metadata": {
    "ExecuteTime": {
     "end_time": "2024-05-17T05:24:52.964734Z",
     "start_time": "2024-05-17T05:24:52.958136Z"
    },
    "collapsed": false,
    "jupyter": {
     "outputs_hidden": false
    }
   },
   "outputs": [
    {
     "data": {
      "text/html": [
       "<pre style=\"white-space:pre;overflow-x:auto;line-height:normal;font-family:Menlo,'DejaVu Sans Mono',consolas,'Courier New',monospace\"><span style=\"color: #800080; text-decoration-color: #800080; font-weight: bold\">Job</span><span style=\"font-weight: bold\">(</span><span style=\"color: #808000; text-decoration-color: #808000\">id</span>=<span style=\"color: #008000; text-decoration-color: #008000\">'job-3'</span>, <span style=\"color: #808000; text-decoration-color: #808000\">status</span>=<span style=\"color: #008080; text-decoration-color: #008080; font-weight: bold\">50</span>, <span style=\"color: #808000; text-decoration-color: #808000\">create_at</span>=<span style=\"color: #800080; text-decoration-color: #800080; font-weight: bold\">datetime</span><span style=\"color: #800080; text-decoration-color: #800080; font-weight: bold\">.datetime</span><span style=\"font-weight: bold\">(</span><span style=\"color: #008080; text-decoration-color: #008080; font-weight: bold\">2024</span>, <span style=\"color: #008080; text-decoration-color: #008080; font-weight: bold\">5</span>, <span style=\"color: #008080; text-decoration-color: #008080; font-weight: bold\">17</span>, <span style=\"color: #008080; text-decoration-color: #008080; font-weight: bold\">5</span>, <span style=\"color: #008080; text-decoration-color: #008080; font-weight: bold\">39</span>, <span style=\"color: #008080; text-decoration-color: #008080; font-weight: bold\">38</span>, <span style=\"color: #008080; text-decoration-color: #008080; font-weight: bold\">975562</span><span style=\"font-weight: bold\">)</span>, \n",
       "<span style=\"color: #808000; text-decoration-color: #808000\">update_at</span>=<span style=\"color: #800080; text-decoration-color: #800080; font-weight: bold\">datetime</span><span style=\"color: #800080; text-decoration-color: #800080; font-weight: bold\">.datetime</span><span style=\"font-weight: bold\">(</span><span style=\"color: #008080; text-decoration-color: #008080; font-weight: bold\">2024</span>, <span style=\"color: #008080; text-decoration-color: #008080; font-weight: bold\">5</span>, <span style=\"color: #008080; text-decoration-color: #008080; font-weight: bold\">17</span>, <span style=\"color: #008080; text-decoration-color: #008080; font-weight: bold\">5</span>, <span style=\"color: #008080; text-decoration-color: #008080; font-weight: bold\">39</span>, <span style=\"color: #008080; text-decoration-color: #008080; font-weight: bold\">41</span>, <span style=\"color: #008080; text-decoration-color: #008080; font-weight: bold\">535846</span><span style=\"font-weight: bold\">)</span>, <span style=\"color: #808000; text-decoration-color: #808000\">lock</span>=<span style=\"color: #800080; text-decoration-color: #800080; font-style: italic\">None</span>, <span style=\"color: #808000; text-decoration-color: #808000\">lock_at</span>=<span style=\"color: #800080; text-decoration-color: #800080; font-weight: bold\">datetime</span><span style=\"color: #800080; text-decoration-color: #800080; font-weight: bold\">.datetime</span><span style=\"font-weight: bold\">(</span><span style=\"color: #008080; text-decoration-color: #008080; font-weight: bold\">2024</span>, <span style=\"color: #008080; text-decoration-color: #008080; font-weight: bold\">5</span>, <span style=\"color: #008080; text-decoration-color: #008080; font-weight: bold\">17</span>, <span style=\"color: #008080; text-decoration-color: #008080; font-weight: bold\">5</span>, \n",
       "<span style=\"color: #008080; text-decoration-color: #008080; font-weight: bold\">39</span>, <span style=\"color: #008080; text-decoration-color: #008080; font-weight: bold\">41</span>, <span style=\"color: #008080; text-decoration-color: #008080; font-weight: bold\">522142</span><span style=\"font-weight: bold\">)</span>, <span style=\"color: #808000; text-decoration-color: #808000\">retry</span>=<span style=\"color: #008080; text-decoration-color: #008080; font-weight: bold\">3</span>, <span style=\"color: #808000; text-decoration-color: #808000\">data</span>=<span style=\"font-weight: bold\">{</span><span style=\"color: #008000; text-decoration-color: #008000\">'version'</span>: <span style=\"color: #008080; text-decoration-color: #008080; font-weight: bold\">0</span><span style=\"font-weight: bold\">}</span>, <span style=\"color: #808000; text-decoration-color: #808000\">errors</span>=<span style=\"font-weight: bold\">{</span><span style=\"color: #008000; text-decoration-color: #008000\">'error'</span>: <span style=\"color: #008000; text-decoration-color: #008000\">\"CustomError('something wrong in job-3 third </span>\n",
       "<span style=\"color: #008000; text-decoration-color: #008000\">attempts')\"</span>, <span style=\"color: #008000; text-decoration-color: #008000\">'traceback'</span>: <span style=\"color: #008000; text-decoration-color: #008000\">'Traceback (most recent call last):\\n  File </span>\n",
       "<span style=\"color: #008000; text-decoration-color: #008000\">\"/Users/sanhehu/Documents/GitHub/sqlalchemy_mate-project/sqlalchemy_mate/patterns/status_tracker/impl.py\", line </span>\n",
       "<span style=\"color: #008000; text-decoration-color: #008000\">262, in start\\n    yield job, updates\\n  File </span>\n",
       "<span style=\"color: #008000; text-decoration-color: #008000\">\"/var/folders/bl/vkmgjdsx5115w2xcnp67_8y40000gn/T/ipykernel_53282/1125219603.py\", line 2, in &lt;module&gt;\\n    raise </span>\n",
       "<span style=\"color: #008000; text-decoration-color: #008000\">CustomError(\"something wrong in job-3 third attempts\")\\nCustomError: something wrong in job-3 third attempts\\n'</span><span style=\"font-weight: bold\">})</span>\n",
       "</pre>\n"
      ],
      "text/plain": [
       "\u001b[1;35mJob\u001b[0m\u001b[1m(\u001b[0m\u001b[33mid\u001b[0m=\u001b[32m'job-3'\u001b[0m, \u001b[33mstatus\u001b[0m=\u001b[1;36m50\u001b[0m, \u001b[33mcreate_at\u001b[0m=\u001b[1;35mdatetime\u001b[0m\u001b[1;35m.datetime\u001b[0m\u001b[1m(\u001b[0m\u001b[1;36m2024\u001b[0m, \u001b[1;36m5\u001b[0m, \u001b[1;36m17\u001b[0m, \u001b[1;36m5\u001b[0m, \u001b[1;36m39\u001b[0m, \u001b[1;36m38\u001b[0m, \u001b[1;36m975562\u001b[0m\u001b[1m)\u001b[0m, \n",
       "\u001b[33mupdate_at\u001b[0m=\u001b[1;35mdatetime\u001b[0m\u001b[1;35m.datetime\u001b[0m\u001b[1m(\u001b[0m\u001b[1;36m2024\u001b[0m, \u001b[1;36m5\u001b[0m, \u001b[1;36m17\u001b[0m, \u001b[1;36m5\u001b[0m, \u001b[1;36m39\u001b[0m, \u001b[1;36m41\u001b[0m, \u001b[1;36m535846\u001b[0m\u001b[1m)\u001b[0m, \u001b[33mlock\u001b[0m=\u001b[3;35mNone\u001b[0m, \u001b[33mlock_at\u001b[0m=\u001b[1;35mdatetime\u001b[0m\u001b[1;35m.datetime\u001b[0m\u001b[1m(\u001b[0m\u001b[1;36m2024\u001b[0m, \u001b[1;36m5\u001b[0m, \u001b[1;36m17\u001b[0m, \u001b[1;36m5\u001b[0m, \n",
       "\u001b[1;36m39\u001b[0m, \u001b[1;36m41\u001b[0m, \u001b[1;36m522142\u001b[0m\u001b[1m)\u001b[0m, \u001b[33mretry\u001b[0m=\u001b[1;36m3\u001b[0m, \u001b[33mdata\u001b[0m=\u001b[1m{\u001b[0m\u001b[32m'version'\u001b[0m: \u001b[1;36m0\u001b[0m\u001b[1m}\u001b[0m, \u001b[33merrors\u001b[0m=\u001b[1m{\u001b[0m\u001b[32m'error'\u001b[0m: \u001b[32m\"CustomError\u001b[0m\u001b[32m(\u001b[0m\u001b[32m'something wrong in job-3 third \u001b[0m\n",
       "\u001b[32mattempts'\u001b[0m\u001b[32m)\u001b[0m\u001b[32m\"\u001b[0m, \u001b[32m'traceback'\u001b[0m: \u001b[32m'Traceback \u001b[0m\u001b[32m(\u001b[0m\u001b[32mmost recent call last\u001b[0m\u001b[32m)\u001b[0m\u001b[32m:\\n  File \u001b[0m\n",
       "\u001b[32m\"/Users/sanhehu/Documents/GitHub/sqlalchemy_mate-project/sqlalchemy_mate/patterns/status_tracker/impl.py\", line \u001b[0m\n",
       "\u001b[32m262, in start\\n    yield job, updates\\n  File \u001b[0m\n",
       "\u001b[32m\"/var/folders/bl/vkmgjdsx5115w2xcnp67_8y40000gn/T/ipykernel_53282/1125219603.py\", line 2, in \u001b[0m\u001b[32m<\u001b[0m\u001b[32mmodule\u001b[0m\u001b[32m>\u001b[0m\u001b[32m\\n    raise \u001b[0m\n",
       "\u001b[32mCustomError\u001b[0m\u001b[32m(\u001b[0m\u001b[32m\"something wrong in job-3 third attempts\"\u001b[0m\u001b[32m)\u001b[0m\u001b[32m\\nCustomError: something wrong in job-3 third attempts\\n'\u001b[0m\u001b[1m}\u001b[0m\u001b[1m)\u001b[0m\n"
      ]
     },
     "metadata": {},
     "output_type": "display_data"
    }
   ],
   "source": [
    "with orm.Session(engine) as ses:\n",
    "    job = ses.get(Job, \"job-3\")\n",
    "    rprint(job)"
   ]
  },
  {
   "cell_type": "markdown",
   "id": "b0c5ba5f-0d7f-4d61-b020-2fcd97215608",
   "metadata": {
    "collapsed": false,
    "jupyter": {
     "outputs_hidden": false
    }
   },
   "source": [
    "## Recap\n",
    "\n",
    "A relationship database is perfect for this status tracking use case. However, if you don't want to manage the database cluster or you are experiencing super high volume of conccurent jobs, you could consider using Amazon DynamoDB. Amazon DynamoDB is a serverless, infinitely scalable, key value store that is perfect for this use case. [pynamodb_mate](https://github.com/MacHu-GWU/pynamodb_mate-project) Python library has built-in support for this status tracking pattern. You can see example at [Enable status tracking for business critical application using Amazon DynamoDB\n",
    "](https://github.com/MacHu-GWU/pynamodb_mate-project/blob/master/examples/patterns/status-tracker.ipynb)"
   ]
  },
  {
   "cell_type": "code",
   "execution_count": null,
   "id": "9acc92eb-67cd-4259-adbd-68b7b877666d",
   "metadata": {},
   "outputs": [],
   "source": []
  }
 ],
 "metadata": {
  "kernelspec": {
   "display_name": "Python 3 (ipykernel)",
   "language": "python",
   "name": "python3"
  },
  "language_info": {
   "codemirror_mode": {
    "name": "ipython",
    "version": 3
   },
   "file_extension": ".py",
   "mimetype": "text/x-python",
   "name": "python",
   "nbconvert_exporter": "python",
   "pygments_lexer": "ipython3",
   "version": "3.10.10"
  }
 },
 "nbformat": 4,
 "nbformat_minor": 5
}
