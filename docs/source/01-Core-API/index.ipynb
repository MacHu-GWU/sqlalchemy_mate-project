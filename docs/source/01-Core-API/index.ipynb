{
 "cells": [
  {
   "cell_type": "raw",
   "id": "70f66ca5-bd75-4eff-a7e0-b13745e01055",
   "metadata": {
    "editable": true,
    "raw_mimetype": "text/restructuredtext",
    "slideshow": {
     "slide_type": ""
    },
    "tags": []
   },
   "source": [
    ".. _core-api:\n",
    "\n",
    "Core API\n",
    "==============================================================================\n",
    "\n",
    "In this section, we demonstrate the simplified version with ``sqlalchemy_mate`` to manipulate data using core API.\n",
    "\n",
    "First, let's define a table to get start, everything looks normal so far."
   ]
  },
  {
   "cell_type": "code",
   "execution_count": 1,
   "id": "7a250643-b72d-4db2-a683-3e8133e63e2e",
   "metadata": {
    "editable": true,
    "slideshow": {
     "slide_type": ""
    },
    "tags": []
   },
   "outputs": [],
   "source": [
    "import sqlalchemy as sa\n",
    "\n",
    "metadata = sa.MetaData()\n",
    "\n",
    "t_users = sa.Table(\n",
    "    \"users\", metadata,\n",
    "    sa.Column(\"id\", sa.Integer, primary_key=True),\n",
    "    sa.Column(\"name\", sa.String, nullable=True)\n",
    ")\n",
    "\n",
    "# For syntax testing, you could use sqlite\n",
    "# But you could see significant performance improvement in main stream\n",
    "# sql database for bulk inserts\n",
    "engine = sa.create_engine(\"sqlite:///:memory:\")\n",
    "\n",
    "metadata.create_all(engine)"
   ]
  },
  {
   "cell_type": "markdown",
   "id": "5054901c-cae1-4955-9392-b9c852d3d9f9",
   "metadata": {
    "editable": true,
    "slideshow": {
     "slide_type": ""
    },
    "tags": []
   },
   "source": [
    "## Bulk insert and Count rows\n",
    "\n",
    "We want to insert 3 random user data into the database and do some basic query."
   ]
  },
  {
   "cell_type": "code",
   "execution_count": 2,
   "id": "a627404d-a627-4490-8176-25d01cf81057",
   "metadata": {
    "editable": true,
    "slideshow": {
     "slide_type": ""
    },
    "tags": []
   },
   "outputs": [],
   "source": [
    "import random\n",
    "\n",
    "three_user_data_list = [\n",
    "    dict(id=random.randint(1, 1000))\n",
    "    for _ in range(3)\n",
    "]"
   ]
  },
  {
   "cell_type": "markdown",
   "id": "d85213f0-41f6-4833-849f-ae713d08f3c8",
   "metadata": {
    "editable": true,
    "slideshow": {
     "slide_type": ""
    },
    "tags": []
   },
   "source": [
    "**With** ``sqlalchemy_mate``"
   ]
  },
  {
   "cell_type": "code",
   "execution_count": 3,
   "id": "da96be78-9192-488a-ae96-bd5ea1463354",
   "metadata": {
    "editable": true,
    "slideshow": {
     "slide_type": ""
    },
    "tags": []
   },
   "outputs": [
    {
     "name": "stdout",
     "output_type": "stream",
     "text": [
      "row_counts = 3\n",
      "user = (996, None)\n"
     ]
    }
   ],
   "source": [
    "import sqlalchemy_mate.api as sam\n",
    "\n",
    "# do bulk insert\n",
    "sam.inserting.smart_insert(engine, t_users, three_user_data_list)\n",
    "\n",
    "# returns number of row in a table.\n",
    "row_counts = sam.selecting.count_row(engine, t_users)\n",
    "print(f\"{row_counts = }\")\n",
    "\n",
    "# return one row by primary key values\n",
    "user = sam.selecting.by_pk(engine=engine, table=t_users, id_=three_user_data_list[0][\"id\"])\n",
    "print(f\"{user = }\")"
   ]
  },
  {
   "cell_type": "markdown",
   "id": "3248c810-75c8-4617-ace0-8763aa4a0290",
   "metadata": {
    "editable": true,
    "slideshow": {
     "slide_type": ""
    },
    "tags": []
   },
   "source": [
    "**Without** ``sqlalchemy_mate``"
   ]
  },
  {
   "cell_type": "code",
   "execution_count": 4,
   "id": "af8aa793-6435-4499-99bd-ce14d8a2a939",
   "metadata": {
    "editable": true,
    "slideshow": {
     "slide_type": ""
    },
    "tags": []
   },
   "outputs": [
    {
     "name": "stdout",
     "output_type": "stream",
     "text": [
      "row_counts = 3\n",
      "user = (996, None)\n"
     ]
    }
   ],
   "source": [
    "with engine.connect() as connection:\n",
    "    # let's have a fresh start first\n",
    "    connection.execute(t_users.delete())\n",
    "    connection.commit()\n",
    "    \n",
    "    # do bulk insert\n",
    "    connection.execute(t_users.insert(), three_user_data_list)\n",
    "    connection.commit()\n",
    "\n",
    "    # returns number of row in a table.\n",
    "    stmt = sa.select(sa.func.count()).select_from(t_users)\n",
    "    row_counts = connection.execute(stmt).one()[0]\n",
    "    print(f\"{row_counts = }\")\n",
    "    # return one row by primary key values\n",
    "    stmt = sa.select(t_users).where(t_users.c.id==three_user_data_list[0][\"id\"])\n",
    "    user = connection.execute(stmt).one()\n",
    "    print(f\"{user = }\")"
   ]
  },
  {
   "cell_type": "markdown",
   "id": "6cc56490-d7ae-4385-a5fa-6d9f6aa37ff6",
   "metadata": {
    "editable": true,
    "slideshow": {
     "slide_type": ""
    },
    "tags": []
   },
   "source": [
    "## Smart Single / Bulk Insert\n",
    "\n",
    "Now we already have 3 items in database, let's try to insert 1,000 users to the table."
   ]
  },
  {
   "cell_type": "code",
   "execution_count": 5,
   "id": "bbad4635-48e5-473e-af1f-b7a32089a3a6",
   "metadata": {
    "editable": true,
    "slideshow": {
     "slide_type": ""
    },
    "tags": []
   },
   "outputs": [],
   "source": [
    "thousands_user_data_list = [\n",
    "    dict(id=id_)\n",
    "    for id_ in range(1, 1000+1)\n",
    "]"
   ]
  },
  {
   "cell_type": "markdown",
   "id": "14ddecb1-1318-42d3-bc61-f3060d1110fe",
   "metadata": {
    "editable": true,
    "slideshow": {
     "slide_type": ""
    },
    "tags": []
   },
   "source": [
    "**With** ``sqlalchemy_mate``"
   ]
  },
  {
   "cell_type": "code",
   "execution_count": 6,
   "id": "24c337bf-eb9f-436c-af1a-3e429643c5d1",
   "metadata": {
    "editable": true,
    "slideshow": {
     "slide_type": ""
    },
    "tags": []
   },
   "outputs": [
    {
     "name": "stdout",
     "output_type": "stream",
     "text": [
      "op_count = 57\n",
      "ins_count = 997\n",
      "elapsed = 0.019205\n",
      "row_counts = 1000\n"
     ]
    }
   ],
   "source": [
    "import time\n",
    "\n",
    "start_time = time.process_time()\n",
    "# this is the smart insert API, only one line\n",
    "op_count, ins_count = sam.inserting.smart_insert(engine=engine, table=t_users, data=thousands_user_data_list)\n",
    "elapsed = time.process_time() - start_time\n",
    "print(f\"{op_count = }\") # 60 bulk INSERT sql command fired to database\n",
    "print(f\"{ins_count = }\") # 997 data inserted\n",
    "print(f\"{elapsed = :.6f}\") # 0.020140 in local postgres database\n",
    "row_counts = sam.selecting.count_row(engine, t_users)\n",
    "print(f\"{row_counts = }\") # now we have 1000 rows"
   ]
  },
  {
   "cell_type": "markdown",
   "id": "e749d188-6baa-4568-b9fd-58e9df389cfd",
   "metadata": {
    "editable": true,
    "slideshow": {
     "slide_type": ""
    },
    "tags": []
   },
   "source": [
    "**Without** ``sqlalchemy_mate``"
   ]
  },
  {
   "cell_type": "code",
   "execution_count": 7,
   "id": "558932a5-eca7-413a-872e-6682d806c573",
   "metadata": {
    "editable": true,
    "slideshow": {
     "slide_type": ""
    },
    "tags": []
   },
   "outputs": [
    {
     "name": "stdout",
     "output_type": "stream",
     "text": [
      "elapsed = 0.181163\n",
      "row_counts = 1000\n"
     ]
    }
   ],
   "source": [
    "# Core insert logic = 7 line\n",
    "from sqlalchemy.exc import IntegrityError\n",
    "\n",
    "with engine.connect() as connection:\n",
    "    connection.execute(t_users.delete())\n",
    "    connection.commit()\n",
    "\n",
    "    ins = t_users.insert()\n",
    "    connection.execute(ins, three_user_data_list)\n",
    "    \n",
    "    start_time = time.process_time()    \n",
    "    ins = t_users.insert()\n",
    "    for user_data in thousands_user_data_list:\n",
    "        try:\n",
    "            connection.execute(ins, user_data)\n",
    "            connection.commit()\n",
    "        except IntegrityError:\n",
    "            connection.rollback()\n",
    "    elapsed = time.process_time() - start_time\n",
    "    print(f\"{elapsed = :.6f}\") # 0.181163\n",
    "    row_counts = connection.execute(sa.select(sa.func.count()).select_from(t_users)).one()[0]\n",
    "    print(f\"{row_counts = }\")"
   ]
  },
  {
   "cell_type": "markdown",
   "id": "29469d64-5c1c-43e6-9d97-241ac91a6690",
   "metadata": {
    "editable": true,
    "slideshow": {
     "slide_type": ""
    },
    "tags": []
   },
   "source": [
    "``sqlachemy_mate`` is significantly faster than native ``sqlalchemy``. Because it smartly split big dataset into smaller pack, hence the total number of ``INSERT sql`` actually fired to database is greatly reduced. In this test case, ``sqlclhemy_mate`` is 10x faster with a Postgres DB on local, in real use case it could save more times because they are remote user."
   ]
  },
  {
   "cell_type": "markdown",
   "id": "45420230-feeb-4b62-9868-12495176ba47",
   "metadata": {
    "editable": true,
    "slideshow": {
     "slide_type": ""
    },
    "tags": []
   },
   "source": [
    "## Smart Single / Bulk Update\n",
    "\n",
    "A common update use case is to locate a row by primary key, and update non primary key fields.\n",
    "\n",
    "**With** ``sqlalchemy_mate``"
   ]
  },
  {
   "cell_type": "code",
   "execution_count": 8,
   "id": "ec86658e-a49c-403c-b637-900e47e49884",
   "metadata": {
    "editable": true,
    "slideshow": {
     "slide_type": ""
    },
    "tags": []
   },
   "outputs": [
    {
     "name": "stdout",
     "output_type": "stream",
     "text": [
      "before: user = (1, None)\n",
      "after: user = (1, 'Alice')\n"
     ]
    },
    {
     "data": {
      "text/plain": [
       "(3, 0)"
      ]
     },
     "execution_count": 8,
     "metadata": {},
     "output_type": "execute_result"
    }
   ],
   "source": [
    "# update\n",
    "# before, it is {\"id\": 1, \"name\": None}\n",
    "user = sam.selecting.by_pk(engine, t_users, 1)\n",
    "print(f\"before: {user = }\")\n",
    "\n",
    "# do single update\n",
    "user_data = dict(id=1, name=\"Alice\")\n",
    "sam.updating.update_all(engine=engine, table=t_users, data=user_data)\n",
    "\n",
    "# after, it is {\"id\": 1, \"name\": \"Alice\"}\n",
    "user = sam.selecting.by_pk(engine=engine, table=t_users, id_=1)\n",
    "print(f\"after: {user = }\")\n",
    "\n",
    "# do multiple update\n",
    "user_data_list = [\n",
    "    dict(id=1, name=\"Alice\"),\n",
    "    dict(id=2, name=\"Bob\"),\n",
    "    dict(id=3, name=\"Cathy\"),\n",
    "]\n",
    "sam.updating.update_all(engine=engine, table=t_users, data=user_data_list)"
   ]
  },
  {
   "cell_type": "markdown",
   "id": "afc15e3c-c47b-430b-b69f-dfb9f5b157e4",
   "metadata": {
    "editable": true,
    "slideshow": {
     "slide_type": ""
    },
    "tags": []
   },
   "source": [
    "**Without** ``sqlalchemy_mate``"
   ]
  },
  {
   "cell_type": "code",
   "execution_count": 9,
   "id": "c8bdac4e-2abb-45a9-bfcc-790714aa4300",
   "metadata": {
    "editable": true,
    "slideshow": {
     "slide_type": ""
    },
    "tags": []
   },
   "outputs": [],
   "source": [
    "# do single update\n",
    "with engine.connect() as connection:\n",
    "    connection.execute(t_users.update().where(t_users.c.id==1).values(name=\"Alice\"))\n",
    "    connection.commit()\n",
    "\n",
    "# do multiple update\n",
    "user_data_list = [\n",
    "    dict(id=1, name=\"Alice\"),\n",
    "    dict(id=2, name=\"Bob\"),\n",
    "    dict(id=3, name=\"Cathy\"),\n",
    "]\n",
    "with engine.connect() as connection:\n",
    "    for user in user_data_list:\n",
    "        stmt = t_users.update().where(t_users.c.id==user[\"id\"]).values(**user)\n",
    "        connection.execute(stmt)\n",
    "        connection.commit()"
   ]
  },
  {
   "cell_type": "markdown",
   "id": "db399c79-01e6-401c-93fb-0605ca769405",
   "metadata": {
    "editable": true,
    "slideshow": {
     "slide_type": ""
    },
    "tags": []
   },
   "source": [
    "## Smart Single Bulk Upsert"
   ]
  },
  {
   "cell_type": "raw",
   "id": "c984b13a-1da4-4a59-a20a-bd42dc3d0354",
   "metadata": {
    "editable": true,
    "raw_mimetype": "text/restructuredtext",
    "slideshow": {
     "slide_type": ""
    },
    "tags": []
   },
   "source": [
    "Upsert is a database dependent feature that not available in all sql system. :meth:`~sqlalchemy_mate.crud.updating.upsert_all`` function made upsert generally available to all SQL system and super easy to use. Internally there's an optimization that collect \"to insert\" items and bulk insert them fast."
   ]
  },
  {
   "cell_type": "markdown",
   "id": "7cace76f-d0b0-4e83-8dfa-b6fbbab7efe8",
   "metadata": {
    "editable": true,
    "slideshow": {
     "slide_type": ""
    },
    "tags": []
   },
   "source": [
    "**With** ``sqlalchemy_mate``"
   ]
  },
  {
   "cell_type": "code",
   "execution_count": 10,
   "id": "2af85aef-4d67-4790-930a-8078cc82ddb8",
   "metadata": {
    "editable": true,
    "slideshow": {
     "slide_type": ""
    },
    "tags": []
   },
   "outputs": [
    {
     "name": "stdout",
     "output_type": "stream",
     "text": [
      "update_counter = 2\n",
      "insert_counter = 2\n"
     ]
    }
   ],
   "source": [
    "# prepare your data\n",
    "user_data_list = [\n",
    "    dict(id=999, name=\"Alice\"),\n",
    "    dict(id=1000, name=\"Bob\"),\n",
    "    dict(id=1001, name=\"Cathy\"),\n",
    "    dict(id=1002, name=\"David\"),\n",
    "]\n",
    "\n",
    "# use ``upsert_all`` method\n",
    "update_counter, insert_counter = sam.updating.upsert_all(engine=engine, table=t_users, data=user_data_list)\n",
    "print(f\"{update_counter = }\")\n",
    "print(f\"{insert_counter = }\")"
   ]
  },
  {
   "cell_type": "markdown",
   "id": "7b030073-2e79-4e38-8140-d17f6ddeee63",
   "metadata": {
    "editable": true,
    "slideshow": {
     "slide_type": ""
    },
    "tags": []
   },
   "source": [
    "## Selecting Shortcuts"
   ]
  },
  {
   "cell_type": "raw",
   "id": "bccf8e19-4336-4d86-a5c6-6f0947aca9dd",
   "metadata": {
    "editable": true,
    "raw_mimetype": "text/restructuredtext",
    "slideshow": {
     "slide_type": ""
    },
    "tags": []
   },
   "source": [
    "- See :mod:`~sqlalchemy_mate.crud.selecting`"
   ]
  },
  {
   "cell_type": "markdown",
   "id": "6658f37f-7e1a-415f-a605-6bd6592a4d63",
   "metadata": {
    "editable": true,
    "slideshow": {
     "slide_type": ""
    },
    "tags": []
   },
   "source": [
    "## Deleteing Short cuts"
   ]
  },
  {
   "cell_type": "raw",
   "id": "bb2dcb73-7b33-4fd2-b8d4-f814c39057c8",
   "metadata": {
    "editable": true,
    "raw_mimetype": "text/restructuredtext",
    "slideshow": {
     "slide_type": ""
    },
    "tags": []
   },
   "source": [
    "- See :mod:`~sqlalchemy_mate.crud.deleting`"
   ]
  },
  {
   "cell_type": "code",
   "execution_count": null,
   "id": "3fd126db-5aa7-4b69-96a8-965e55da2734",
   "metadata": {
    "editable": true,
    "slideshow": {
     "slide_type": ""
    },
    "tags": []
   },
   "outputs": [],
   "source": []
  }
 ],
 "metadata": {
  "kernelspec": {
   "display_name": "Python 3 (ipykernel)",
   "language": "python",
   "name": "python3"
  },
  "language_info": {
   "codemirror_mode": {
    "name": "ipython",
    "version": 3
   },
   "file_extension": ".py",
   "mimetype": "text/x-python",
   "name": "python",
   "nbconvert_exporter": "python",
   "pygments_lexer": "ipython3",
   "version": "3.10.10"
  }
 },
 "nbformat": 4,
 "nbformat_minor": 5
}
