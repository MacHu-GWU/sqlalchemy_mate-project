{
 "cells": [
  {
   "cell_type": "raw",
   "id": "09ac12cb-e309-4d40-9c9f-638935491084",
   "metadata": {
    "editable": true,
    "raw_mimetype": "text/restructuredtext",
    "slideshow": {
     "slide_type": ""
    },
    "tags": []
   },
   "source": [
    ".. _custom-types:\n",
    "\n",
    "Custom Types\n",
    "================================================================================"
   ]
  },
  {
   "cell_type": "markdown",
   "id": "5644d631-fbe3-4e1e-a378-f0d7b185b661",
   "metadata": {
    "editable": true,
    "slideshow": {
     "slide_type": ""
    },
    "tags": []
   },
   "source": [
    "## Compressed String\n",
    "\n",
    "A unicode string, but compressed. See [example](https://github.com/MacHu-GWU/sqlalchemy_mate-project/blob/master/tests/types/test_types_compressed.py).\n",
    "\n",
    "\n",
    "## Compressed Binary\n",
    "\n",
    "A big binary blob, but compressed. See [example](https://github.com/MacHu-GWU/sqlalchemy_mate-project/blob/master/tests/types/test_types_compressed.py).\n",
    "\n",
    "\n",
    "## Compressed JSON\n",
    "\n",
    "A json serializable object, but compressed. See [example](https://github.com/MacHu-GWU/sqlalchemy_mate-project/blob/master/tests/types/test_types_compressed_json.py)."
   ]
  },
  {
   "cell_type": "markdown",
   "id": "cac6d152-013d-454e-a491-8cc0b148651a",
   "metadata": {
    "editable": true,
    "slideshow": {
     "slide_type": ""
    },
    "tags": []
   },
   "source": [
    "## JSON Serializable\n",
    "\n",
    "Any JSON serializable object, if implemented ``to_json(self):`` and ``from_json(cls, json_str):`` method."
   ]
  },
  {
   "cell_type": "markdown",
   "id": "6a483934-170d-4cea-bade-597345839130",
   "metadata": {
    "editable": true,
    "slideshow": {
     "slide_type": ""
    },
    "tags": []
   },
   "source": [
    "declare your JSON serializable object, which will be the value of a column in Database."
   ]
  },
  {
   "cell_type": "code",
   "execution_count": 2,
   "id": "3a0dda0e-b742-42ae-9123-637af22521e6",
   "metadata": {
    "editable": true,
    "slideshow": {
     "slide_type": ""
    },
    "tags": []
   },
   "outputs": [],
   "source": [
    "import jsonpickle\n",
    "\n",
    "\n",
    "# a custom python class\n",
    "class ComputerDetails:\n",
    "    def __init__(self, os: str, cpu: int, memory: int, disk: int):\n",
    "        self.os = os\n",
    "        self.cpu = cpu\n",
    "        self.memory = memory\n",
    "        self.disk = disk\n",
    "\n",
    "    def to_json(self) -> str:\n",
    "        return jsonpickle.encode(self)\n",
    "\n",
    "    @classmethod\n",
    "    def from_json(cls, json_str: str) -> \"Computer\":\n",
    "        return jsonpickle.decode(json_str)"
   ]
  },
  {
   "cell_type": "markdown",
   "id": "02a82656-fc64-419a-bb11-cf94ee09ba8f",
   "metadata": {
    "editable": true,
    "slideshow": {
     "slide_type": ""
    },
    "tags": []
   },
   "source": [
    "then declare your ORM model"
   ]
  },
  {
   "cell_type": "code",
   "execution_count": 5,
   "id": "dbf99a11-fb22-4ad0-871c-30e1d983b08b",
   "metadata": {
    "editable": true,
    "slideshow": {
     "slide_type": ""
    },
    "tags": []
   },
   "outputs": [],
   "source": [
    "import sqlalchemy as sa\n",
    "import sqlalchemy.orm as orm\n",
    "import sqlalchemy_mate.api as sam\n",
    "\n",
    "Base = orm.declarative_base()\n",
    "\n",
    "\n",
    "class Computer(Base):\n",
    "    __tablename__ = \"computer\"\n",
    "\n",
    "    id: orm.Mapped[int] = orm.mapped_column(sa.Integer, primary_key=True)\n",
    "    # make sure you set the type hint and factory_class right\n",
    "    details: orm.Mapped[ComputerDetails] = orm.mapped_column(\n",
    "        sam.types.JSONSerializableType(factory_class=ComputerDetails),\n",
    "        nullable=True,\n",
    "    )"
   ]
  },
  {
   "cell_type": "markdown",
   "id": "7bd45246-36eb-496f-8e1a-3a68be0e4ea9",
   "metadata": {
    "editable": true,
    "slideshow": {
     "slide_type": ""
    },
    "tags": []
   },
   "source": [
    "Use ORM to insert a row and get the ``Computer`` object."
   ]
  },
  {
   "cell_type": "code",
   "execution_count": 4,
   "id": "167772b9-9f45-4f1d-aa1b-b8d59c08345a",
   "metadata": {
    "editable": true,
    "slideshow": {
     "slide_type": ""
    },
    "tags": []
   },
   "outputs": [
    {
     "name": "stdout",
     "output_type": "stream",
     "text": [
      "computer.details.os = 'Linux'\n",
      "computer.details.cpu = 4\n",
      "computer.details.memory = 8\n",
      "computer.details.disk = 256\n"
     ]
    }
   ],
   "source": [
    "engine = sam.engine_creator.EngineCreator().create_sqlite(\n",
    "    \"/tmp/sqlalchemy_mate_json_serializable.sqlite\"\n",
    ")\n",
    "Base.metadata.create_all(engine)\n",
    "sam.deleting.delete_all(engine, Computer.__table__)\n",
    "\n",
    "\n",
    "with orm.Session(engine) as ses:\n",
    "    computer = Computer(\n",
    "        id=1,\n",
    "        details=ComputerDetails(\n",
    "            os=\"Linux\",\n",
    "            cpu=4,\n",
    "            memory=8,\n",
    "            disk=256,\n",
    "        ),\n",
    "    )\n",
    "\n",
    "    ses.add(computer)\n",
    "    ses.commit()\n",
    "\n",
    "    computer = ses.get(Computer, 1)\n",
    "    print(f\"{computer.details.os = }\")\n",
    "    print(f\"{computer.details.cpu = }\")\n",
    "    print(f\"{computer.details.memory = }\")\n",
    "    print(f\"{computer.details.disk = }\")\n"
   ]
  },
  {
   "cell_type": "markdown",
   "id": "2b724e9c-ca79-4869-974b-64ef7376ec6a",
   "metadata": {
    "editable": true,
    "slideshow": {
     "slide_type": ""
    },
    "tags": []
   },
   "source": [
    "If you query the raw table definition (The ComputerDetail column is a str (JSON encoded)), you will see the encoded JSON."
   ]
  },
  {
   "cell_type": "code",
   "execution_count": 11,
   "id": "b0d6daa2-4469-4cc5-b644-6449603de30f",
   "metadata": {
    "editable": true,
    "slideshow": {
     "slide_type": ""
    },
    "tags": []
   },
   "outputs": [
    {
     "name": "stdout",
     "output_type": "stream",
     "text": [
      "(1, '{\"py/object\": \"__main__.ComputerDetails\", \"os\": \"Linux\", \"cpu\": 4, \"memory\": 8, \"disk\": 256}')\n"
     ]
    }
   ],
   "source": [
    "t_computer = sa.Table(\n",
    "    \"computer\",\n",
    "    sa.MetaData(),\n",
    "    sa.Column(\"id\", sa.Integer, primary_key=True),\n",
    "    sa.Column(\"details\", sa.String),\n",
    ")\n",
    "\n",
    "\n",
    "with engine.connect() as conn:\n",
    "    stmt = sa.select(t_computer)\n",
    "    for row in conn.execute(stmt).all():\n",
    "        print(row)\n"
   ]
  },
  {
   "cell_type": "code",
   "execution_count": null,
   "id": "98b8bb90-c525-42ac-abcd-749ed549bf91",
   "metadata": {
    "editable": true,
    "slideshow": {
     "slide_type": ""
    },
    "tags": []
   },
   "outputs": [],
   "source": []
  }
 ],
 "metadata": {
  "kernelspec": {
   "display_name": "Python 3 (ipykernel)",
   "language": "python",
   "name": "python3"
  },
  "language_info": {
   "codemirror_mode": {
    "name": "ipython",
    "version": 3
   },
   "file_extension": ".py",
   "mimetype": "text/x-python",
   "name": "python",
   "nbconvert_exporter": "python",
   "pygments_lexer": "ipython3",
   "version": "3.10.10"
  }
 },
 "nbformat": 4,
 "nbformat_minor": 5
}
