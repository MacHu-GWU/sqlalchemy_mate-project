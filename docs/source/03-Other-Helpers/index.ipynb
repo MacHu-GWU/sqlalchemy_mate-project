{
 "cells": [
  {
   "cell_type": "raw",
   "id": "b49c0583-0b74-42fd-8461-f0304fbead95",
   "metadata": {
    "editable": true,
    "raw_mimetype": "text/restructuredtext",
    "slideshow": {
     "slide_type": ""
    },
    "tags": []
   },
   "source": [
    ".. _other-helpers\n",
    "\n",
    "Other Helpers\n",
    "================================================================================\n",
    "\n",
    "\n",
    "User Friendly Engine Creator\n",
    "--------------------------------------------------------------------------------\n",
    "`This sqlalchemy Official Document <https://docs.sqlalchemy.org/en/latest/core/engines.html>`_ tells you the correct connection string to use for different DB driver. Who wants to Google the API document everytime?\n",
    "\n",
    ":class:`sqlalchemy_mate.api.EngineCreator <sqlalchemy_mate.engine_creator.EngineCreator>` leveraged the IDE / Code Editor that provide a user friendly interface to pass in DB connection specs and choose the underlying python driver."
   ]
  },
  {
   "cell_type": "code",
   "execution_count": 3,
   "id": "1e292520-4ad0-4769-a59a-924abf6ec9ba",
   "metadata": {
    "editable": true,
    "slideshow": {
     "slide_type": ""
    },
    "tags": []
   },
   "outputs": [
    {
     "name": "stdout",
     "output_type": "stream",
     "text": [
      "Nothing happen, test connection passed, which is good!\n"
     ]
    }
   ],
   "source": [
    "import sqlalchemy as sa\n",
    "import sqlalchemy.orm as orm\n",
    "import sqlalchemy_mate.api as sam\n",
    "\n",
    "# An Postgres DB example\n",
    "# First, you use EngineCreator class to create the db connection specs\n",
    "# Second, you choose to use which python driver, IDE will tell you\n",
    "# all options you have\n",
    "engine_psql = sam.EngineCreator(\n",
    "    username=\"postgres\",\n",
    "    password=\"password\",\n",
    "    database=\"postgres\",\n",
    "    host=\"localhost\",\n",
    "    port=40311,\n",
    ").create_postgresql_pg8000()\n",
    "\n",
    "# You can use test_connection method to perform test connection and\n",
    "# raise error if timeout.\n",
    "sam.test_connection(engine_psql, timeout=3);\n",
    "\n",
    "# A sqlite example\n",
    "engine_sqlite = sam.EngineCreator().create_sqlite(path=\"/tmp/db.sqlite\")\n",
    "sam.test_connection(engine_sqlite, timeout=1);\n",
    "\n",
    "print(\"Nothing happen, test connection passed, which is good!\")"
   ]
  },
  {
   "cell_type": "markdown",
   "id": "5d37bf12-033d-48eb-a920-e10c1f03a983",
   "metadata": {
    "editable": true,
    "slideshow": {
     "slide_type": ""
    },
    "tags": []
   },
   "source": [
    "## Ascii Table Printer\n",
    "\n",
    "Lots of CLI DB client can print result in pretty Ascii Table. ``sqlalchemy_mate`` can do that too.\n",
    "\n",
    "First let's insert some sample data:"
   ]
  },
  {
   "cell_type": "code",
   "execution_count": 5,
   "id": "8eafd519-be2d-41b9-b71f-faffa7d1d3c5",
   "metadata": {
    "editable": true,
    "slideshow": {
     "slide_type": ""
    },
    "tags": []
   },
   "outputs": [],
   "source": [
    "Base = orm.declarative_base()\n",
    "\n",
    "\n",
    "class User(Base, sam.ExtendedBase):\n",
    "    __tablename__ = \"users\"\n",
    "\n",
    "    id: orm.Mapped[int] = orm.mapped_column(sa.Integer, primary_key=True)\n",
    "    name: orm.Mapped[str] = orm.mapped_column(sa.String, nullable=True)\n",
    "\n",
    "\n",
    "t_users = User.__table__\n",
    "\n",
    "engine = engine_sqlite\n",
    "Base.metadata.create_all(engine)\n",
    "User.smart_insert(\n",
    "    engine,\n",
    "    [\n",
    "        User(id=1, name=\"Alice\"),\n",
    "        User(id=2, name=\"Bob\"),\n",
    "        User(id=3, name=\"Cathy\"),\n",
    "        User(id=4, name=\"David\"),\n",
    "        User(id=5, name=\"Edward\"),\n",
    "        User(id=6, name=\"Frank\"),\n",
    "        User(id=7, name=\"George\"),\n",
    "    ],\n",
    ");"
   ]
  },
  {
   "cell_type": "code",
   "execution_count": 6,
   "id": "ee3f8a39-aa67-42f6-88f8-c1aa04ac7951",
   "metadata": {
    "editable": true,
    "slideshow": {
     "slide_type": ""
    },
    "tags": []
   },
   "outputs": [
    {
     "name": "stdout",
     "output_type": "stream",
     "text": [
      "+----+--------+\n",
      "| id |  name  |\n",
      "+----+--------+\n",
      "| 1  | Alice  |\n",
      "| 2  |  Bob   |\n",
      "| 3  | Cathy  |\n",
      "| 4  | David  |\n",
      "| 5  | Edward |\n",
      "| 6  | Frank  |\n",
      "| 7  | George |\n",
      "+----+--------+\n"
     ]
    }
   ],
   "source": [
    "# pretty table from ORM class\n",
    "print(sam.pt.from_everything(everything=User, engine_or_session=engine, limit=10))"
   ]
  },
  {
   "cell_type": "code",
   "execution_count": 7,
   "id": "9d620b79-0b2a-47e1-97ff-ae4de52b7c43",
   "metadata": {
    "editable": true,
    "slideshow": {
     "slide_type": ""
    },
    "tags": []
   },
   "outputs": [
    {
     "name": "stdout",
     "output_type": "stream",
     "text": [
      "+----+-------+\n",
      "| id |  name |\n",
      "+----+-------+\n",
      "| 1  | Alice |\n",
      "| 2  |  Bob  |\n",
      "| 3  | Cathy |\n",
      "+----+-------+\n"
     ]
    }
   ],
   "source": [
    "# from Table\n",
    "print(sam.pt.from_everything(t_users, engine, limit=3))"
   ]
  },
  {
   "cell_type": "code",
   "execution_count": 8,
   "id": "bb2003b3-809a-4c57-a7da-324deaff47f2",
   "metadata": {
    "editable": true,
    "slideshow": {
     "slide_type": ""
    },
    "tags": []
   },
   "outputs": [
    {
     "name": "stdout",
     "output_type": "stream",
     "text": [
      "+--------+\n",
      "|  name  |\n",
      "+--------+\n",
      "| David  |\n",
      "| Edward |\n",
      "+--------+\n"
     ]
    }
   ],
   "source": [
    "# from ORM styled select statement\n",
    "print(\n",
    "    sam.pt.from_everything(\n",
    "        sa.select(User.name).where(User.id >= 4).limit(2),\n",
    "        engine,\n",
    "    )\n",
    ")"
   ]
  },
  {
   "cell_type": "code",
   "execution_count": 9,
   "id": "c224faa0-6f80-4b91-856c-4ec96ebe180e",
   "metadata": {
    "editable": true,
    "slideshow": {
     "slide_type": ""
    },
    "tags": []
   },
   "outputs": [
    {
     "name": "stdout",
     "output_type": "stream",
     "text": [
      "+--------+\n",
      "|  name  |\n",
      "+--------+\n",
      "| David  |\n",
      "| Edward |\n",
      "| Frank  |\n",
      "| George |\n",
      "+--------+\n"
     ]
    }
   ],
   "source": [
    "# from SQL expression styled select statement\n",
    "print(\n",
    "    sam.pt.from_everything(\n",
    "        sa.select(t_users.c.name).where(User.id >= 4),\n",
    "        engine,\n",
    "    )\n",
    ")"
   ]
  },
  {
   "cell_type": "code",
   "execution_count": 10,
   "id": "5ae96881-404d-4880-be41-7cf3affcd78f",
   "metadata": {
    "editable": true,
    "slideshow": {
     "slide_type": ""
    },
    "tags": []
   },
   "outputs": [
    {
     "name": "stdout",
     "output_type": "stream",
     "text": [
      "+----+\n",
      "| id |\n",
      "+----+\n",
      "| 5  |\n",
      "+----+\n"
     ]
    }
   ],
   "source": [
    "# from Raw SQL text\n",
    "print(\n",
    "    sam.pt.from_everything(\n",
    "        \"SELECT id FROM users WHERE name = 'Edward'\",\n",
    "        engine,\n",
    "    )\n",
    ")"
   ]
  },
  {
   "cell_type": "code",
   "execution_count": 11,
   "id": "87a23f95-8097-4d1d-846d-1dfa821ee502",
   "metadata": {
    "editable": true,
    "slideshow": {
     "slide_type": ""
    },
    "tags": []
   },
   "outputs": [
    {
     "name": "stdout",
     "output_type": "stream",
     "text": [
      "+----+-------+\n",
      "| id |  name |\n",
      "+----+-------+\n",
      "| 1  | Alice |\n",
      "| 2  |  Bob  |\n",
      "| 3  | Cathy |\n",
      "+----+-------+\n"
     ]
    }
   ],
   "source": [
    "# from list of dict\n",
    "print(\n",
    "    sam.pt.from_everything(\n",
    "        [\n",
    "            {\"id\": 1, \"name\": \"Alice\"},\n",
    "            {\"id\": 2, \"name\": \"Bob\"},\n",
    "            {\"id\": 3, \"name\": \"Cathy\"},\n",
    "        ]\n",
    "    )\n",
    ")"
   ]
  },
  {
   "cell_type": "raw",
   "id": "b20a11ad-7a2e-40e2-9a04-05576da9bc7f",
   "metadata": {
    "editable": true,
    "raw_mimetype": "text/restructuredtext",
    "slideshow": {
     "slide_type": ""
    },
    "tags": []
   },
   "source": [
    "For more information, see :mod:`~sqlalchemy_mate.pt`"
   ]
  }
 ],
 "metadata": {
  "kernelspec": {
   "display_name": "Python 3 (ipykernel)",
   "language": "python",
   "name": "python3"
  },
  "language_info": {
   "codemirror_mode": {
    "name": "ipython",
    "version": 3
   },
   "file_extension": ".py",
   "mimetype": "text/x-python",
   "name": "python",
   "nbconvert_exporter": "python",
   "pygments_lexer": "ipython3",
   "version": "3.10.10"
  }
 },
 "nbformat": 4,
 "nbformat_minor": 5
}
